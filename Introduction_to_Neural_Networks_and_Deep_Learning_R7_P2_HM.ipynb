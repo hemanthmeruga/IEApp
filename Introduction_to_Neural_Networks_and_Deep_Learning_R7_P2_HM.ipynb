{
  "nbformat": 4,
  "nbformat_minor": 0,
  "metadata": {
    "colab": {
      "name": "Introduction to Neural Networks and Deep Learning_R7_P2_HM",
      "version": "0.3.2",
      "provenance": [],
      "collapsed_sections": [],
      "include_colab_link": true
    },
    "kernelspec": {
      "name": "python3",
      "display_name": "Python 3"
    },
    "accelerator": "GPU"
  },
  "cells": [
    {
      "cell_type": "markdown",
      "metadata": {
        "id": "view-in-github",
        "colab_type": "text"
      },
      "source": [
        "<a href=\"https://colab.research.google.com/github/hemanthmeruga/IEApp/blob/master/Introduction_to_Neural_Networks_and_Deep_Learning_R7_P2_HM.ipynb\" target=\"_parent\"><img src=\"https://colab.research.google.com/assets/colab-badge.svg\" alt=\"Open In Colab\"/></a>"
      ]
    },
    {
      "cell_type": "code",
      "metadata": {
        "id": "IN3jmWiV2UNC",
        "colab_type": "code",
        "colab": {}
      },
      "source": [
        "# import the necessary packages\n",
        "from __future__ import print_function\n",
        "from sklearn.neighbors import KNeighborsClassifier\n",
        "from sklearn.metrics import classification_report\n",
        "from sklearn import datasets\n",
        "from skimage import exposure\n",
        "import numpy as np\n",
        "import imutils\n",
        "import cv2\n",
        "import sklearn"
      ],
      "execution_count": 0,
      "outputs": []
    },
    {
      "cell_type": "code",
      "metadata": {
        "id": "x8mW3axeEcQr",
        "colab_type": "code",
        "outputId": "045163f2-7548-4971-c0f3-e776eecd80a2",
        "colab": {
          "base_uri": "https://localhost:8080/",
          "height": 124
        }
      },
      "source": [
        "from google.colab import drive\n",
        "drive.mount('/gdrive')"
      ],
      "execution_count": 0,
      "outputs": [
        {
          "output_type": "stream",
          "text": [
            "Go to this URL in a browser: https://accounts.google.com/o/oauth2/auth?client_id=947318989803-6bn6qk8qdgf4n4g3pfee6491hc0brc4i.apps.googleusercontent.com&redirect_uri=urn%3Aietf%3Awg%3Aoauth%3A2.0%3Aoob&scope=email%20https%3A%2F%2Fwww.googleapis.com%2Fauth%2Fdocs.test%20https%3A%2F%2Fwww.googleapis.com%2Fauth%2Fdrive%20https%3A%2F%2Fwww.googleapis.com%2Fauth%2Fdrive.photos.readonly%20https%3A%2F%2Fwww.googleapis.com%2Fauth%2Fpeopleapi.readonly&response_type=code\n",
            "\n",
            "Enter your authorization code:\n",
            "··········\n",
            "Mounted at /gdrive\n"
          ],
          "name": "stdout"
        }
      ]
    },
    {
      "cell_type": "code",
      "metadata": {
        "id": "BJpqMGv8Elp0",
        "colab_type": "code",
        "colab": {}
      },
      "source": [
        "import h5py\n",
        "h5f = h5py.File('/gdrive/My Drive/SVHN_single_grey1.h5', 'r')"
      ],
      "execution_count": 0,
      "outputs": []
    },
    {
      "cell_type": "code",
      "metadata": {
        "id": "UIlAn6PlfDCJ",
        "colab_type": "code",
        "outputId": "afaacf22-262d-4ade-9c11-78710dd9a87e",
        "colab": {
          "base_uri": "https://localhost:8080/",
          "height": 52
        }
      },
      "source": [
        "\n",
        "# Load the training, test and validation set\n",
        "X_train = h5f['X_train'][:]\n",
        "y_train = h5f['y_train'][:]\n",
        "X_test = h5f['X_test'][:]\n",
        "y_test = h5f['y_test'][:]\n",
        "\n",
        "X_train = X_train[1000:31000]\n",
        "y_train = y_train[1000:31000]\n",
        "X_test = X_test[1000:7000]\n",
        "y_test = y_test[1000:7000]\n",
        "# Close this file\n",
        "h5f.close()\n",
        "\n",
        "print('Training set', X_train.shape, y_train.shape)\n",
        "#print('Validation set', X_val.shape, y_val.shape)\n",
        "print('Test set', X_test.shape, y_test.shape)"
      ],
      "execution_count": 0,
      "outputs": [
        {
          "output_type": "stream",
          "text": [
            "Training set (30000, 32, 32) (30000,)\n",
            "Test set (6000, 32, 32) (6000,)\n"
          ],
          "name": "stdout"
        }
      ]
    },
    {
      "cell_type": "code",
      "metadata": {
        "id": "204QdomZcn3H",
        "colab_type": "code",
        "outputId": "9dccfc22-8ff9-434e-935f-5a703ae3503e",
        "colab": {
          "base_uri": "https://localhost:8080/",
          "height": 52
        }
      },
      "source": [
        "print(\"training data points: {}\".format(len(y_train)))\n",
        "print(\"testing data points: {}\".format(len(y_test)))"
      ],
      "execution_count": 0,
      "outputs": [
        {
          "output_type": "stream",
          "text": [
            "training data points: 30000\n",
            "testing data points: 6000\n"
          ],
          "name": "stdout"
        }
      ]
    },
    {
      "cell_type": "code",
      "metadata": {
        "id": "ZuA3igl9qDSE",
        "colab_type": "code",
        "colab": {}
      },
      "source": [
        "# Changing dimensions to N x D = 28x28\n",
        "N = 30000\n",
        "x_tr = []\n",
        "for i in range(N):\n",
        "    x_tr.append(X_train[i,:].flatten())\n",
        "x_te = []\n",
        "for i in range(6000):\n",
        "    x_te.append(X_test[i,:].flatten())"
      ],
      "execution_count": 0,
      "outputs": []
    },
    {
      "cell_type": "code",
      "metadata": {
        "id": "pKsTDUMpdlVt",
        "colab_type": "code",
        "colab": {}
      },
      "source": [
        "# initialize the values of k for our k-Nearest Neighbor classifier along with the\n",
        "# list of accuracies for each value of k\n",
        "kVals = range(1, 30, 2)\n",
        "accuracies = []"
      ],
      "execution_count": 0,
      "outputs": []
    },
    {
      "cell_type": "code",
      "metadata": {
        "id": "z9wP5gxvhhTf",
        "colab_type": "code",
        "outputId": "e76eca9d-b48c-4a74-887b-7f831d7935f3",
        "colab": {
          "base_uri": "https://localhost:8080/",
          "height": 35
        }
      },
      "source": [
        "k=5\n",
        "model = KNeighborsClassifier(n_neighbors=k)\n",
        "model.fit(x_tr,y_train)\n",
        "score = model.score(x_te,y_test)\n",
        "print(\"k=%d, accuracy=%.2f%%\" % (k, score * 100))"
      ],
      "execution_count": 0,
      "outputs": [
        {
          "output_type": "stream",
          "text": [
            "k=5, accuracy=46.68%\n"
          ],
          "name": "stdout"
        }
      ]
    },
    {
      "cell_type": "code",
      "metadata": {
        "id": "J7MztEkuh_jv",
        "colab_type": "code",
        "outputId": "1257840d-b614-4488-9934-dec0dea83819",
        "colab": {
          "base_uri": "https://localhost:8080/",
          "height": 295
        }
      },
      "source": [
        "# loop over various values of `k` for the k-Nearest Neighbor classifier\n",
        "for k in range(1, 30, 2):\n",
        "\t# train the k-Nearest Neighbor classifier with the current value of `k`\n",
        "\tmodel = KNeighborsClassifier(n_neighbors=k)\n",
        "\tmodel.fit(x_tr,y_train)\n",
        " \n",
        "\t# evaluate the model and update the accuracies list\n",
        "\tscore = model.score(x_te,y_test)\n",
        "\tprint(\"k=%d, accuracy=%.2f%%\" % (k, score * 100))\n",
        "\taccuracies.append(score)\n",
        " \n",
        "# find the value of k that has the largest accuracy\n",
        "i = int(np.argmax(accuracies))\n",
        "print(\"k=%d achieved highest accuracy of %.2f%% on validation data\" % (kVals[i],\n",
        "accuracies[i] * 100))"
      ],
      "execution_count": 0,
      "outputs": [
        {
          "output_type": "stream",
          "text": [
            "k=1, accuracy=44.47%\n",
            "k=3, accuracy=43.85%\n",
            "k=5, accuracy=46.68%\n",
            "k=7, accuracy=48.45%\n",
            "k=9, accuracy=49.02%\n",
            "k=11, accuracy=49.17%\n",
            "k=13, accuracy=49.73%\n",
            "k=15, accuracy=49.88%\n",
            "k=17, accuracy=50.08%\n",
            "k=19, accuracy=50.43%\n",
            "k=21, accuracy=50.33%\n",
            "k=23, accuracy=50.90%\n",
            "k=25, accuracy=51.32%\n",
            "k=27, accuracy=51.38%\n",
            "k=29, accuracy=51.42%\n",
            "k=29 achieved highest accuracy of 51.42% on validation data\n"
          ],
          "name": "stdout"
        }
      ]
    },
    {
      "cell_type": "code",
      "metadata": {
        "id": "AKUI-qIZ2hIm",
        "colab_type": "code",
        "colab": {}
      },
      "source": [
        "\n"
      ],
      "execution_count": 0,
      "outputs": []
    },
    {
      "cell_type": "code",
      "metadata": {
        "id": "Qhq_j5SmiHvr",
        "colab_type": "code",
        "outputId": "0267366d-ad34-4150-9928-71a464329b3f",
        "colab": {
          "base_uri": "https://localhost:8080/",
          "height": 69
        }
      },
      "source": [
        "# re-train our classifier using the best k=29 and predict the labels of the\n",
        "# test data\n",
        "model = KNeighborsClassifier(n_neighbors=29)\n",
        "model.fit(x_tr,y_train)"
      ],
      "execution_count": 0,
      "outputs": [
        {
          "output_type": "execute_result",
          "data": {
            "text/plain": [
              "KNeighborsClassifier(algorithm='auto', leaf_size=30, metric='minkowski',\n",
              "                     metric_params=None, n_jobs=None, n_neighbors=29, p=2,\n",
              "                     weights='uniform')"
            ]
          },
          "metadata": {
            "tags": []
          },
          "execution_count": 20
        }
      ]
    },
    {
      "cell_type": "code",
      "metadata": {
        "id": "RXzFGpzA1Ys1",
        "colab_type": "code",
        "outputId": "43471394-f45b-4eda-daf0-806ba9af99c5",
        "colab": {
          "base_uri": "https://localhost:8080/",
          "height": 329
        }
      },
      "source": [
        "predictions = model.predict(x_te)\n",
        "# show a final classification report demonstrating the accuracy of the classifier\n",
        "# for each of the digits\n",
        "print(\"EVALUATION ON TESTING DATA\")\n",
        "print(classification_report(y_test, predictions))"
      ],
      "execution_count": 0,
      "outputs": [
        {
          "output_type": "stream",
          "text": [
            "EVALUATION ON TESTING DATA\n",
            "              precision    recall  f1-score   support\n",
            "\n",
            "           0       0.42      0.67      0.52       589\n",
            "           1       0.44      0.74      0.55       596\n",
            "           2       0.65      0.52      0.58       596\n",
            "           3       0.45      0.43      0.44       565\n",
            "           4       0.64      0.66      0.65       620\n",
            "           5       0.48      0.38      0.43       625\n",
            "           6       0.49      0.39      0.43       616\n",
            "           7       0.71      0.56      0.62       568\n",
            "           8       0.46      0.37      0.41       629\n",
            "           9       0.54      0.43      0.48       596\n",
            "\n",
            "    accuracy                           0.51      6000\n",
            "   macro avg       0.53      0.52      0.51      6000\n",
            "weighted avg       0.53      0.51      0.51      6000\n",
            "\n"
          ],
          "name": "stdout"
        }
      ]
    },
    {
      "cell_type": "markdown",
      "metadata": {
        "id": "_eD7WxSajtGb",
        "colab_type": "text"
      },
      "source": [
        "The below is for Deep Neural Networks"
      ]
    },
    {
      "cell_type": "code",
      "metadata": {
        "id": "_IsN7s8O8upB",
        "colab_type": "code",
        "colab": {}
      },
      "source": [
        "#tf.enable_eager_execution()"
      ],
      "execution_count": 0,
      "outputs": []
    },
    {
      "cell_type": "code",
      "metadata": {
        "id": "6gp5U_cK22EG",
        "colab_type": "code",
        "colab": {}
      },
      "source": [
        "import tensorflow as tf\n",
        "tf.enable_eager_execution()\n",
        "tf.set_random_seed(42)"
      ],
      "execution_count": 0,
      "outputs": []
    },
    {
      "cell_type": "code",
      "metadata": {
        "id": "7-xJ2pFnWmuL",
        "colab_type": "code",
        "colab": {}
      },
      "source": [
        "trainY = tf.keras.utils.to_categorical(y_train, num_classes=10)\n",
        "testY = tf.keras.utils.to_categorical(y_test, num_classes=10)\n",
        "\n",
        "#X_train = X_train[0:999]\n",
        "#y_train = y_train[0:999]\n",
        "#X_test = X_test[0:299]\n",
        "#y_test = y_test[0:299]"
      ],
      "execution_count": 0,
      "outputs": []
    },
    {
      "cell_type": "code",
      "metadata": {
        "id": "xYbvhXcMW99r",
        "colab_type": "code",
        "colab": {}
      },
      "source": [
        "#Initialize Sequential model\n",
        "model = tf.keras.models.Sequential()\n",
        "\n",
        "#Reshape data from 2D to 1D -> 28x28 to 784\n",
        "model.add(tf.keras.layers.Reshape((1024,),input_shape=(32,32,)))\n",
        "\n",
        "#Normalize the data\n",
        "model.add(tf.keras.layers.BatchNormalization())"
      ],
      "execution_count": 0,
      "outputs": []
    },
    {
      "cell_type": "code",
      "metadata": {
        "id": "X7po8RAwZSgC",
        "colab_type": "code",
        "colab": {}
      },
      "source": [
        "#Add 3rd hidden layer\n",
        "model.add(tf.keras.layers.Dense(30, activation='relu'))"
      ],
      "execution_count": 0,
      "outputs": []
    },
    {
      "cell_type": "code",
      "metadata": {
        "id": "H1ikDUFCZn_J",
        "colab_type": "code",
        "colab": {}
      },
      "source": [
        "#Add 3rd hidden layer\n",
        "model.add(tf.keras.layers.Dense(20, activation='relu'))"
      ],
      "execution_count": 0,
      "outputs": []
    },
    {
      "cell_type": "code",
      "metadata": {
        "id": "oi9Lay5fZtxw",
        "colab_type": "code",
        "colab": {}
      },
      "source": [
        "#Add OUTPUT layer\n",
        "model.add(tf.keras.layers.Dense(10, activation='softmax'))"
      ],
      "execution_count": 0,
      "outputs": []
    },
    {
      "cell_type": "code",
      "metadata": {
        "id": "ip8BFdtlZyO-",
        "colab_type": "code",
        "colab": {}
      },
      "source": [
        "#Create optimizer with non-default learning rate\n",
        "sgd_optimizer = tf.keras.optimizers.SGD(lr=0.03)\n",
        "\n",
        "#Compile the model\n",
        "model.compile(optimizer=sgd_optimizer, loss='categorical_crossentropy', metrics=['accuracy'])"
      ],
      "execution_count": 0,
      "outputs": []
    },
    {
      "cell_type": "code",
      "metadata": {
        "id": "FXtRsnWDZ1Xi",
        "colab_type": "code",
        "outputId": "489b2fe7-f903-4da1-ce9d-2ccb39847890",
        "colab": {
          "base_uri": "https://localhost:8080/",
          "height": 399
        }
      },
      "source": [
        "model.summary()"
      ],
      "execution_count": 0,
      "outputs": [
        {
          "output_type": "stream",
          "text": [
            "Model: \"sequential\"\n",
            "_________________________________________________________________\n",
            "Layer (type)                 Output Shape              Param #   \n",
            "=================================================================\n",
            "reshape (Reshape)            (None, 1024)              0         \n",
            "_________________________________________________________________\n",
            "batch_normalization (BatchNo (None, 1024)              4096      \n",
            "_________________________________________________________________\n",
            "dense (Dense)                (None, 30)                30750     \n",
            "_________________________________________________________________\n",
            "dense_1 (Dense)              (None, 20)                620       \n",
            "_________________________________________________________________\n",
            "dense_2 (Dense)              (None, 10)                210       \n",
            "_________________________________________________________________\n",
            "dense_3 (Dense)              (None, 10)                110       \n",
            "_________________________________________________________________\n",
            "dense_4 (Dense)              (None, 10)                110       \n",
            "=================================================================\n",
            "Total params: 35,896\n",
            "Trainable params: 33,848\n",
            "Non-trainable params: 2,048\n",
            "_________________________________________________________________\n"
          ],
          "name": "stdout"
        }
      ]
    },
    {
      "cell_type": "code",
      "metadata": {
        "id": "0ONpFfYPbdyY",
        "colab_type": "code",
        "outputId": "67eba061-a4ae-4ca7-ec96-0de105cdd3b1",
        "colab": {
          "base_uri": "https://localhost:8080/",
          "height": 835
        }
      },
      "source": [
        "model.fit(X_train,trainY,          \n",
        "          validation_data=(X_test,testY),\n",
        "          epochs=20,\n",
        "          batch_size=30)"
      ],
      "execution_count": 0,
      "outputs": [
        {
          "output_type": "stream",
          "text": [
            "WARNING: Logging before flag parsing goes to stderr.\n",
            "W0619 09:14:37.331977 139978891274112 deprecation.py:323] From /usr/local/lib/python3.6/dist-packages/tensorflow/python/ops/math_grad.py:1250: add_dispatch_support.<locals>.wrapper (from tensorflow.python.ops.array_ops) is deprecated and will be removed in a future version.\n",
            "Instructions for updating:\n",
            "Use tf.where in 2.0, which has the same broadcast rule as np.where\n"
          ],
          "name": "stderr"
        },
        {
          "output_type": "stream",
          "text": [
            "Train on 30000 samples, validate on 6000 samples\n",
            "Epoch 1/20\n",
            "30000/30000 [==============================] - 5s 178us/sample - loss: 2.3033 - acc: 0.0999 - val_loss: 2.3024 - val_acc: 0.0957\n",
            "Epoch 2/20\n",
            "30000/30000 [==============================] - 4s 145us/sample - loss: 2.3024 - acc: 0.1028 - val_loss: 2.3018 - val_acc: 0.1055\n",
            "Epoch 3/20\n",
            "30000/30000 [==============================] - 4s 136us/sample - loss: 2.3016 - acc: 0.1105 - val_loss: 2.3012 - val_acc: 0.1013\n",
            "Epoch 4/20\n",
            "30000/30000 [==============================] - 4s 136us/sample - loss: 2.3008 - acc: 0.1136 - val_loss: 2.2998 - val_acc: 0.1133\n",
            "Epoch 5/20\n",
            "30000/30000 [==============================] - 4s 135us/sample - loss: 2.2996 - acc: 0.1168 - val_loss: 2.2988 - val_acc: 0.1185\n",
            "Epoch 6/20\n",
            "30000/30000 [==============================] - 4s 135us/sample - loss: 2.2976 - acc: 0.1269 - val_loss: 2.2961 - val_acc: 0.1168\n",
            "Epoch 7/20\n",
            "30000/30000 [==============================] - 4s 133us/sample - loss: 2.2940 - acc: 0.1367 - val_loss: 2.2905 - val_acc: 0.1347\n",
            "Epoch 8/20\n",
            "30000/30000 [==============================] - 4s 135us/sample - loss: 2.2872 - acc: 0.1498 - val_loss: 2.2809 - val_acc: 0.1663\n",
            "Epoch 9/20\n",
            "30000/30000 [==============================] - 4s 134us/sample - loss: 2.2730 - acc: 0.1643 - val_loss: 2.2578 - val_acc: 0.1817\n",
            "Epoch 10/20\n",
            "30000/30000 [==============================] - 4s 133us/sample - loss: 2.2321 - acc: 0.1764 - val_loss: 2.1800 - val_acc: 0.1872\n",
            "Epoch 11/20\n",
            "30000/30000 [==============================] - 4s 134us/sample - loss: 2.1452 - acc: 0.1779 - val_loss: 2.0690 - val_acc: 0.1963\n",
            "Epoch 12/20\n",
            "30000/30000 [==============================] - 4s 134us/sample - loss: 2.0747 - acc: 0.2012 - val_loss: 2.0264 - val_acc: 0.2162\n",
            "Epoch 13/20\n",
            "30000/30000 [==============================] - 4s 135us/sample - loss: 2.0189 - acc: 0.2233 - val_loss: 1.9742 - val_acc: 0.2318\n",
            "Epoch 14/20\n",
            "30000/30000 [==============================] - 4s 135us/sample - loss: 1.9701 - acc: 0.2440 - val_loss: 1.9783 - val_acc: 0.2365\n",
            "Epoch 15/20\n",
            "30000/30000 [==============================] - 4s 135us/sample - loss: 1.9321 - acc: 0.2542 - val_loss: 1.8681 - val_acc: 0.2680\n",
            "Epoch 16/20\n",
            "30000/30000 [==============================] - 4s 137us/sample - loss: 1.8970 - acc: 0.2581 - val_loss: 1.8412 - val_acc: 0.2678\n",
            "Epoch 17/20\n",
            "30000/30000 [==============================] - 4s 136us/sample - loss: 1.8715 - acc: 0.2622 - val_loss: 1.8181 - val_acc: 0.2808\n",
            "Epoch 18/20\n",
            "30000/30000 [==============================] - 4s 134us/sample - loss: 1.8421 - acc: 0.2695 - val_loss: 1.8052 - val_acc: 0.2787\n",
            "Epoch 19/20\n",
            "30000/30000 [==============================] - 4s 135us/sample - loss: 1.8228 - acc: 0.2719 - val_loss: 1.7763 - val_acc: 0.2827\n",
            "Epoch 20/20\n",
            "30000/30000 [==============================] - 4s 134us/sample - loss: 1.7949 - acc: 0.2798 - val_loss: 1.7421 - val_acc: 0.2950\n"
          ],
          "name": "stdout"
        },
        {
          "output_type": "execute_result",
          "data": {
            "text/plain": [
              "<tensorflow.python.keras.callbacks.History at 0x7f4ef0628d68>"
            ]
          },
          "metadata": {
            "tags": []
          },
          "execution_count": 33
        }
      ]
    },
    {
      "cell_type": "code",
      "metadata": {
        "id": "RXT6APF6doR8",
        "colab_type": "code",
        "colab": {}
      },
      "source": [
        "model.save('svhn_dnn_v1.h5')"
      ],
      "execution_count": 0,
      "outputs": []
    },
    {
      "cell_type": "code",
      "metadata": {
        "id": "uibs6UW5dtYD",
        "colab_type": "code",
        "outputId": "3c88b21f-e2aa-47e5-f2b5-a04be4e8f9ae",
        "colab": {
          "base_uri": "https://localhost:8080/",
          "height": 35
        }
      },
      "source": [
        "X_test[101:105].shape"
      ],
      "execution_count": 0,
      "outputs": [
        {
          "output_type": "execute_result",
          "data": {
            "text/plain": [
              "(4, 32, 32)"
            ]
          },
          "metadata": {
            "tags": []
          },
          "execution_count": 35
        }
      ]
    },
    {
      "cell_type": "code",
      "metadata": {
        "id": "B4LjMV_teCBZ",
        "colab_type": "code",
        "outputId": "ebff1d9a-24a7-48ca-8142-0ca08327de45",
        "colab": {
          "base_uri": "https://localhost:8080/",
          "height": 87
        }
      },
      "source": [
        "#Actual Label for the first example in test dataset\n",
        "print(testY[101:105])"
      ],
      "execution_count": 0,
      "outputs": [
        {
          "output_type": "stream",
          "text": [
            "[[0. 0. 0. 0. 0. 0. 0. 0. 0. 1.]\n",
            " [1. 0. 0. 0. 0. 0. 0. 0. 0. 0.]\n",
            " [0. 0. 0. 0. 0. 1. 0. 0. 0. 0.]\n",
            " [0. 1. 0. 0. 0. 0. 0. 0. 0. 0.]]\n"
          ],
          "name": "stdout"
        }
      ]
    },
    {
      "cell_type": "code",
      "metadata": {
        "id": "kcYURm4WeC_Z",
        "colab_type": "code",
        "outputId": "52b6264a-de7b-41cb-cbf5-8700d3f198d2",
        "colab": {
          "base_uri": "https://localhost:8080/",
          "height": 156
        }
      },
      "source": [
        "#Model prediction\n",
        "prediction = model.predict(X_test[101:105])\n",
        "\n",
        "#Print prediction\n",
        "print(prediction[0:4])"
      ],
      "execution_count": 0,
      "outputs": [
        {
          "output_type": "stream",
          "text": [
            "[[0.06150101 0.128013   0.08303941 0.1288486  0.05185302 0.15447025\n",
            "  0.03991526 0.063457   0.08346099 0.2054415 ]\n",
            " [0.21365422 0.00900275 0.00490102 0.01636662 0.21730791 0.08627904\n",
            "  0.24728988 0.00309377 0.18352835 0.01857652]\n",
            " [0.06810776 0.09278257 0.04671377 0.09205139 0.05642561 0.16743962\n",
            "  0.044631   0.03330154 0.08232488 0.31622186]\n",
            " [0.01758985 0.2002753  0.22190711 0.18449081 0.01437578 0.05272339\n",
            "  0.01065123 0.22175662 0.0306841  0.04554583]]\n"
          ],
          "name": "stdout"
        }
      ]
    },
    {
      "cell_type": "code",
      "metadata": {
        "id": "ymd1ebYdeIcQ",
        "colab_type": "code",
        "outputId": "b431ea7f-6f3c-4811-9a44-111737b55005",
        "colab": {
          "base_uri": "https://localhost:8080/",
          "height": 35
        }
      },
      "source": [
        "import numpy as np\n",
        "\n",
        "#Get predicted number with highest probability\n",
        "predicted_num = np.argmax(prediction[0:4])\n",
        "\n",
        "#Print the number\n",
        "print(predicted_num)"
      ],
      "execution_count": 0,
      "outputs": [
        {
          "output_type": "stream",
          "text": [
            "29\n"
          ],
          "name": "stdout"
        }
      ]
    },
    {
      "cell_type": "code",
      "metadata": {
        "id": "7rH2Xd0yeJcO",
        "colab_type": "code",
        "outputId": "3937b5af-b466-446e-f23f-882132ebb5df",
        "colab": {
          "base_uri": "https://localhost:8080/",
          "height": 287
        }
      },
      "source": [
        "#Lets print the image as well\n",
        "import matplotlib.pyplot as plt\n",
        "\n",
        "plt.imshow(X_test[102],cmap='gray')"
      ],
      "execution_count": 0,
      "outputs": [
        {
          "output_type": "execute_result",
          "data": {
            "text/plain": [
              "<matplotlib.image.AxesImage at 0x7f4eb330e4e0>"
            ]
          },
          "metadata": {
            "tags": []
          },
          "execution_count": 39
        },
        {
          "output_type": "display_data",
          "data": {
            "image/png": "[encoded data removed]",
            "text/plain": [
              "<Figure size 432x288 with 1 Axes>"
            ]
          },
          "metadata": {
            "tags": []
          }
        }
      ]
    },
    {
      "cell_type": "code",
      "metadata": {
        "id": "AdjqTia-Gdy8",
        "colab_type": "code",
        "colab": {}
      },
      "source": [
        ""
      ],
      "execution_count": 0,
      "outputs": []
    }
  ]
}