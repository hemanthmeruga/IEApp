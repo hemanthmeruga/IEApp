{
  "nbformat": 4,
  "nbformat_minor": 0,
  "metadata": {
    "colab": {
      "name": "R6_InternalLab_AIML_HM.ipynb",
      "version": "0.3.2",
      "provenance": [],
      "collapsed_sections": [
        "YJRBuqXhOB7_"
      ],
      "include_colab_link": true
    },
    "kernelspec": {
      "name": "python3",
      "display_name": "Python 3"
    },
    "accelerator": "GPU"
  },
  "cells": [
    {
      "cell_type": "markdown",
      "metadata": {
        "id": "view-in-github",
        "colab_type": "text"
      },
      "source": [
        "<a href=\"https://colab.research.google.com/github/hemanthmeruga/IEApp/blob/master/R6_InternalLab_AIML_HM.ipynb\" target=\"_parent\"><img src=\"https://colab.research.google.com/assets/colab-badge.svg\" alt=\"Open In Colab\"/></a>"
      ]
    },
    {
      "metadata": {
        "colab_type": "text",
        "id": "sb7Epo0VOB58"
      },
      "cell_type": "markdown",
      "source": [
        "### Load tensorflow"
      ]
    },
    {
      "metadata": {
        "colab_type": "code",
        "id": "fHpCNRv1OB5-",
        "colab": {}
      },
      "cell_type": "code",
      "source": [
        "import tensorflow as tf"
      ],
      "execution_count": 0,
      "outputs": []
    },
    {
      "metadata": {
        "id": "7sxIy3LO7cLK",
        "colab_type": "code",
        "colab": {}
      },
      "cell_type": "code",
      "source": [
        "from sklearn.preprocessing import Normalizer"
      ],
      "execution_count": 0,
      "outputs": []
    },
    {
      "metadata": {
        "colab_type": "text",
        "id": "DxJDmJqqOB6K"
      },
      "cell_type": "markdown",
      "source": [
        "### Collect Data"
      ]
    },
    {
      "metadata": {
        "colab_type": "code",
        "id": "FhllFLyKOB6N",
        "colab": {}
      },
      "cell_type": "code",
      "source": [
        "import pandas as pd"
      ],
      "execution_count": 0,
      "outputs": []
    },
    {
      "metadata": {
        "id": "4x2WLh051U2q",
        "colab_type": "code",
        "colab": {}
      },
      "cell_type": "code",
      "source": [
        ""
      ],
      "execution_count": 0,
      "outputs": []
    },
    {
      "metadata": {
        "colab_type": "code",
        "id": "B4yQKMiJOB6R",
        "colab": {}
      },
      "cell_type": "code",
      "source": [
        "def mount_drive(filename):\n",
        "  from google.colab import drive\n",
        "  drive.mount('/gdrive/')\n",
        "  data = pd.read_csv('/gdrive/My Drive/Colab Notebooks/' + filename)\n",
        "  return data"
      ],
      "execution_count": 0,
      "outputs": []
    },
    {
      "metadata": {
        "id": "u7hd9VjhbsIK",
        "colab_type": "code",
        "outputId": "d26dabf7-52bf-4be4-ed1f-79b37a1db994",
        "colab": {
          "base_uri": "https://localhost:8080/",
          "height": 34
        }
      },
      "cell_type": "code",
      "source": [
        "data =mount_drive(\"prices.csv\")"
      ],
      "execution_count": 0,
      "outputs": [
        {
          "output_type": "stream",
          "text": [
            "Drive already mounted at /gdrive/; to attempt to forcibly remount, call drive.mount(\"/gdrive/\", force_remount=True).\n"
          ],
          "name": "stdout"
        }
      ]
    },
    {
      "metadata": {
        "colab_type": "text",
        "id": "fgkX6SEqOB6W"
      },
      "cell_type": "markdown",
      "source": [
        "### Check all columns in the dataset"
      ]
    },
    {
      "metadata": {
        "colab_type": "code",
        "id": "7K8pWsNQOB6X",
        "outputId": "7ed5f6b0-0650-4e6b-8384-6938f7676219",
        "colab": {
          "base_uri": "https://localhost:8080/",
          "height": 153
        }
      },
      "cell_type": "code",
      "source": [
        "data.dtypes"
      ],
      "execution_count": 0,
      "outputs": [
        {
          "output_type": "execute_result",
          "data": {
            "text/plain": [
              "date       object\n",
              "symbol     object\n",
              "open      float64\n",
              "close     float64\n",
              "low       float64\n",
              "high      float64\n",
              "volume    float64\n",
              "dtype: object"
            ]
          },
          "metadata": {
            "tags": []
          },
          "execution_count": 54
        }
      ]
    },
    {
      "metadata": {
        "id": "_VOBtWDl4Zk5",
        "colab_type": "code",
        "outputId": "888d78b4-c106-4f4e-bca2-f13da142a2e7",
        "colab": {
          "base_uri": "https://localhost:8080/",
          "height": 34
        }
      },
      "cell_type": "code",
      "source": [
        "data.shape"
      ],
      "execution_count": 0,
      "outputs": [
        {
          "output_type": "execute_result",
          "data": {
            "text/plain": [
              "(851264, 7)"
            ]
          },
          "metadata": {
            "tags": []
          },
          "execution_count": 55
        }
      ]
    },
    {
      "metadata": {
        "id": "7omi-6qY4cao",
        "colab_type": "code",
        "outputId": "5753f040-ea80-46b2-e3fc-ced551122508",
        "colab": {
          "base_uri": "https://localhost:8080/",
          "height": 297
        }
      },
      "cell_type": "code",
      "source": [
        "data.describe()"
      ],
      "execution_count": 0,
      "outputs": [
        {
          "output_type": "execute_result",
          "data": {
            "text/html": [
              "<div>\n",
              "<style scoped>\n",
              "    .dataframe tbody tr th:only-of-type {\n",
              "        vertical-align: middle;\n",
              "    }\n",
              "\n",
              "    .dataframe tbody tr th {\n",
              "        vertical-align: top;\n",
              "    }\n",
              "\n",
              "    .dataframe thead th {\n",
              "        text-align: right;\n",
              "    }\n",
              "</style>\n",
              "<table border=\"1\" class=\"dataframe\">\n",
              "  <thead>\n",
              "    <tr style=\"text-align: right;\">\n",
              "      <th></th>\n",
              "      <th>open</th>\n",
              "      <th>close</th>\n",
              "      <th>low</th>\n",
              "      <th>high</th>\n",
              "      <th>volume</th>\n",
              "    </tr>\n",
              "  </thead>\n",
              "  <tbody>\n",
              "    <tr>\n",
              "      <th>count</th>\n",
              "      <td>851264.000000</td>\n",
              "      <td>851264.000000</td>\n",
              "      <td>851264.000000</td>\n",
              "      <td>851264.000000</td>\n",
              "      <td>8.512640e+05</td>\n",
              "    </tr>\n",
              "    <tr>\n",
              "      <th>mean</th>\n",
              "      <td>70.836986</td>\n",
              "      <td>70.857109</td>\n",
              "      <td>70.118414</td>\n",
              "      <td>71.543476</td>\n",
              "      <td>5.415113e+06</td>\n",
              "    </tr>\n",
              "    <tr>\n",
              "      <th>std</th>\n",
              "      <td>83.695876</td>\n",
              "      <td>83.689686</td>\n",
              "      <td>82.877294</td>\n",
              "      <td>84.465504</td>\n",
              "      <td>1.249468e+07</td>\n",
              "    </tr>\n",
              "    <tr>\n",
              "      <th>min</th>\n",
              "      <td>0.850000</td>\n",
              "      <td>0.860000</td>\n",
              "      <td>0.830000</td>\n",
              "      <td>0.880000</td>\n",
              "      <td>0.000000e+00</td>\n",
              "    </tr>\n",
              "    <tr>\n",
              "      <th>25%</th>\n",
              "      <td>33.840000</td>\n",
              "      <td>33.849998</td>\n",
              "      <td>33.480000</td>\n",
              "      <td>34.189999</td>\n",
              "      <td>1.221500e+06</td>\n",
              "    </tr>\n",
              "    <tr>\n",
              "      <th>50%</th>\n",
              "      <td>52.770000</td>\n",
              "      <td>52.799999</td>\n",
              "      <td>52.230000</td>\n",
              "      <td>53.310001</td>\n",
              "      <td>2.476250e+06</td>\n",
              "    </tr>\n",
              "    <tr>\n",
              "      <th>75%</th>\n",
              "      <td>79.879997</td>\n",
              "      <td>79.889999</td>\n",
              "      <td>79.110001</td>\n",
              "      <td>80.610001</td>\n",
              "      <td>5.222500e+06</td>\n",
              "    </tr>\n",
              "    <tr>\n",
              "      <th>max</th>\n",
              "      <td>1584.439941</td>\n",
              "      <td>1578.130005</td>\n",
              "      <td>1549.939941</td>\n",
              "      <td>1600.930054</td>\n",
              "      <td>8.596434e+08</td>\n",
              "    </tr>\n",
              "  </tbody>\n",
              "</table>\n",
              "</div>"
            ],
            "text/plain": [
              "                open          close            low           high  \\\n",
              "count  851264.000000  851264.000000  851264.000000  851264.000000   \n",
              "mean       70.836986      70.857109      70.118414      71.543476   \n",
              "std        83.695876      83.689686      82.877294      84.465504   \n",
              "min         0.850000       0.860000       0.830000       0.880000   \n",
              "25%        33.840000      33.849998      33.480000      34.189999   \n",
              "50%        52.770000      52.799999      52.230000      53.310001   \n",
              "75%        79.879997      79.889999      79.110001      80.610001   \n",
              "max      1584.439941    1578.130005    1549.939941    1600.930054   \n",
              "\n",
              "             volume  \n",
              "count  8.512640e+05  \n",
              "mean   5.415113e+06  \n",
              "std    1.249468e+07  \n",
              "min    0.000000e+00  \n",
              "25%    1.221500e+06  \n",
              "50%    2.476250e+06  \n",
              "75%    5.222500e+06  \n",
              "max    8.596434e+08  "
            ]
          },
          "metadata": {
            "tags": []
          },
          "execution_count": 56
        }
      ]
    },
    {
      "metadata": {
        "colab_type": "text",
        "id": "7dU6X7MpOB6c"
      },
      "cell_type": "markdown",
      "source": [
        "### Drop columns `date` and  `symbol`"
      ]
    },
    {
      "metadata": {
        "colab_type": "code",
        "id": "lh_6spSKOB6e",
        "colab": {}
      },
      "cell_type": "code",
      "source": [
        "data.drop(columns=['date','symbol'],axis=1,inplace=True)"
      ],
      "execution_count": 0,
      "outputs": []
    },
    {
      "metadata": {
        "colab_type": "text",
        "id": "3DBv3WWYOB6q"
      },
      "cell_type": "markdown",
      "source": [
        "### Consider only first 1000 rows in the dataset for building feature set and target set"
      ]
    },
    {
      "metadata": {
        "colab_type": "code",
        "id": "Z_hG9rGBOB6s",
        "colab": {}
      },
      "cell_type": "code",
      "source": [
        "data = data.head(1000)"
      ],
      "execution_count": 0,
      "outputs": []
    },
    {
      "metadata": {
        "id": "4DWG_F3_4ocu",
        "colab_type": "code",
        "outputId": "2da24bb2-6882-4d2e-fd40-74af4199f29f",
        "colab": {
          "base_uri": "https://localhost:8080/",
          "height": 34
        }
      },
      "cell_type": "code",
      "source": [
        "data.shape"
      ],
      "execution_count": 0,
      "outputs": [
        {
          "output_type": "execute_result",
          "data": {
            "text/plain": [
              "(1000, 5)"
            ]
          },
          "metadata": {
            "tags": []
          },
          "execution_count": 59
        }
      ]
    },
    {
      "metadata": {
        "id": "nNGD-Hiy4rDu",
        "colab_type": "code",
        "outputId": "d6f18f47-7d38-47ba-df07-7f052eaf5eff",
        "colab": {
          "base_uri": "https://localhost:8080/",
          "height": 204
        }
      },
      "cell_type": "code",
      "source": [
        "data.sample(5)"
      ],
      "execution_count": 0,
      "outputs": [
        {
          "output_type": "execute_result",
          "data": {
            "text/html": [
              "<div>\n",
              "<style scoped>\n",
              "    .dataframe tbody tr th:only-of-type {\n",
              "        vertical-align: middle;\n",
              "    }\n",
              "\n",
              "    .dataframe tbody tr th {\n",
              "        vertical-align: top;\n",
              "    }\n",
              "\n",
              "    .dataframe thead th {\n",
              "        text-align: right;\n",
              "    }\n",
              "</style>\n",
              "<table border=\"1\" class=\"dataframe\">\n",
              "  <thead>\n",
              "    <tr style=\"text-align: right;\">\n",
              "      <th></th>\n",
              "      <th>open</th>\n",
              "      <th>close</th>\n",
              "      <th>low</th>\n",
              "      <th>high</th>\n",
              "      <th>volume</th>\n",
              "    </tr>\n",
              "  </thead>\n",
              "  <tbody>\n",
              "    <tr>\n",
              "      <th>68</th>\n",
              "      <td>115.809998</td>\n",
              "      <td>117.989998</td>\n",
              "      <td>115.099998</td>\n",
              "      <td>118.010002</td>\n",
              "      <td>621700.0</td>\n",
              "    </tr>\n",
              "    <tr>\n",
              "      <th>597</th>\n",
              "      <td>40.259998</td>\n",
              "      <td>40.349998</td>\n",
              "      <td>40.259998</td>\n",
              "      <td>40.630001</td>\n",
              "      <td>546500.0</td>\n",
              "    </tr>\n",
              "    <tr>\n",
              "      <th>232</th>\n",
              "      <td>120.690002</td>\n",
              "      <td>121.480003</td>\n",
              "      <td>120.180000</td>\n",
              "      <td>122.059998</td>\n",
              "      <td>604700.0</td>\n",
              "    </tr>\n",
              "    <tr>\n",
              "      <th>415</th>\n",
              "      <td>82.610001</td>\n",
              "      <td>83.459999</td>\n",
              "      <td>82.550003</td>\n",
              "      <td>83.599998</td>\n",
              "      <td>18082400.0</td>\n",
              "    </tr>\n",
              "    <tr>\n",
              "      <th>607</th>\n",
              "      <td>26.139999</td>\n",
              "      <td>25.799999</td>\n",
              "      <td>25.719999</td>\n",
              "      <td>26.280001</td>\n",
              "      <td>2792600.0</td>\n",
              "    </tr>\n",
              "  </tbody>\n",
              "</table>\n",
              "</div>"
            ],
            "text/plain": [
              "           open       close         low        high      volume\n",
              "68   115.809998  117.989998  115.099998  118.010002    621700.0\n",
              "597   40.259998   40.349998   40.259998   40.630001    546500.0\n",
              "232  120.690002  121.480003  120.180000  122.059998    604700.0\n",
              "415   82.610001   83.459999   82.550003   83.599998  18082400.0\n",
              "607   26.139999   25.799999   25.719999   26.280001   2792600.0"
            ]
          },
          "metadata": {
            "tags": []
          },
          "execution_count": 60
        }
      ]
    },
    {
      "metadata": {
        "colab_type": "text",
        "id": "M3UaApqYOB6x"
      },
      "cell_type": "markdown",
      "source": [
        "### Divide the data into train and test sets"
      ]
    },
    {
      "metadata": {
        "colab_type": "code",
        "id": "2EkKAy7fOB6y",
        "colab": {}
      },
      "cell_type": "code",
      "source": [
        "from sklearn.model_selection import train_test_split\n",
        "\n",
        "X = data.drop(columns= \"close\" , axis = 1) \n",
        "Y = data[\"close\"]\n",
        "transformer = Normalizer()\n",
        "X= transformer.fit_transform(X)\n",
        "\n",
        "train_x, test_x,train_y,test_y = train_test_split(X, Y, test_size=.3, random_state=7)\n",
        "\n",
        "\n"
      ],
      "execution_count": 0,
      "outputs": []
    },
    {
      "metadata": {
        "id": "slTVpaXJu3SO",
        "colab_type": "text"
      },
      "cell_type": "markdown",
      "source": [
        ""
      ]
    },
    {
      "metadata": {
        "id": "jJnRlFWmu4z6",
        "colab_type": "code",
        "colab": {}
      },
      "cell_type": "code",
      "source": [
        ""
      ],
      "execution_count": 0,
      "outputs": []
    },
    {
      "metadata": {
        "colab_type": "text",
        "id": "v6vE4eYCOB62"
      },
      "cell_type": "markdown",
      "source": [
        "## Building the graph in tensorflow"
      ]
    },
    {
      "metadata": {
        "colab_type": "text",
        "id": "xK0zBd1VOB64"
      },
      "cell_type": "markdown",
      "source": [
        "1.Define input data placeholders"
      ]
    },
    {
      "metadata": {
        "colab_type": "code",
        "id": "JDrYlWTuOB66",
        "colab": {}
      },
      "cell_type": "code",
      "source": [
        "X1 = tf.placeholder(dtype=tf.float32, shape=[None, 4])\n",
        "Y1 = tf.placeholder(dtype=tf.float32, shape=[None])"
      ],
      "execution_count": 0,
      "outputs": []
    },
    {
      "metadata": {
        "colab_type": "text",
        "id": "297_qja4OB7A"
      },
      "cell_type": "markdown",
      "source": [
        "2.Define Weights and Bias"
      ]
    },
    {
      "metadata": {
        "colab_type": "code",
        "id": "L205qPeQOB7B",
        "colab": {}
      },
      "cell_type": "code",
      "source": [
        "w = tf.Variable(tf.zeros(shape=[4,1],dtype=\"float32\"))\n",
        "b = tf.Variable(tf.zeros(shape=(1),dtype=\"float32\"))"
      ],
      "execution_count": 0,
      "outputs": []
    },
    {
      "metadata": {
        "colab_type": "text",
        "id": "HgtWA-UIOB7F"
      },
      "cell_type": "markdown",
      "source": [
        "3.Prediction"
      ]
    },
    {
      "metadata": {
        "colab_type": "code",
        "id": "JveGlx25OB7H",
        "colab": {}
      },
      "cell_type": "code",
      "source": [
        "out = tf.add(tf.matmul(X1, w), b)"
      ],
      "execution_count": 0,
      "outputs": []
    },
    {
      "metadata": {
        "colab_type": "text",
        "id": "TL1hIwf_OB7M"
      },
      "cell_type": "markdown",
      "source": [
        "4.Loss (Cost) Function [Mean square error]"
      ]
    },
    {
      "metadata": {
        "colab_type": "code",
        "id": "8VSWPiGXOB7P",
        "colab": {}
      },
      "cell_type": "code",
      "source": [
        "mse = tf.reduce_mean(tf.squared_difference(out, Y1))"
      ],
      "execution_count": 0,
      "outputs": []
    },
    {
      "metadata": {
        "colab_type": "text",
        "id": "jzG85FUlOB7U"
      },
      "cell_type": "markdown",
      "source": [
        "5.GradientDescent Optimizer to minimize Loss [GradientDescentOptimizer]"
      ]
    },
    {
      "metadata": {
        "colab_type": "code",
        "id": "cj802w-3OB7X",
        "colab": {}
      },
      "cell_type": "code",
      "source": [
        "opt=tf.train.GradientDescentOptimizer(0.01).minimize(mse)\n"
      ],
      "execution_count": 0,
      "outputs": []
    },
    {
      "metadata": {
        "colab_type": "text",
        "id": "xSypb_u8OB7e"
      },
      "cell_type": "markdown",
      "source": [
        "## Execute the Graph for 100 epochs and observe the loss"
      ]
    },
    {
      "metadata": {
        "id": "u-27dkXVKgKN",
        "colab_type": "code",
        "colab": {}
      },
      "cell_type": "code",
      "source": [
        "net = tf.Session()\n",
        "net.run(tf.global_variables_initializer())"
      ],
      "execution_count": 0,
      "outputs": []
    },
    {
      "metadata": {
        "id": "cagN68CvD863",
        "colab_type": "code",
        "outputId": "a161a55f-a117-40b4-e594-0d2bb7689e48",
        "colab": {
          "base_uri": "https://localhost:8080/",
          "height": 1717
        }
      },
      "cell_type": "code",
      "source": [
        "\n",
        "for i in range(100):\n",
        "    _,loss = net.run([opt,mse], feed_dict={X1: train_x, Y1: train_y})\n",
        "    print('Current Loss on iteration',i,loss)"
      ],
      "execution_count": 0,
      "outputs": [
        {
          "output_type": "stream",
          "text": [
            "Current Loss on iteration 0 8370.582\n",
            "Current Loss on iteration 1 8002.651\n",
            "Current Loss on iteration 2 7663.5664\n",
            "Current Loss on iteration 3 7351.0664\n",
            "Current Loss on iteration 4 7063.0654\n",
            "Current Loss on iteration 5 6797.644\n",
            "Current Loss on iteration 6 6553.032\n",
            "Current Loss on iteration 7 6327.598\n",
            "Current Loss on iteration 8 6119.837\n",
            "Current Loss on iteration 9 5928.3643\n",
            "Current Loss on iteration 10 5751.9043\n",
            "Current Loss on iteration 11 5589.278\n",
            "Current Loss on iteration 12 5439.4014\n",
            "Current Loss on iteration 13 5301.276\n",
            "Current Loss on iteration 14 5173.9785\n",
            "Current Loss on iteration 15 5056.662\n",
            "Current Loss on iteration 16 4948.5425\n",
            "Current Loss on iteration 17 4848.9004\n",
            "Current Loss on iteration 18 4757.0693\n",
            "Current Loss on iteration 19 4672.438\n",
            "Current Loss on iteration 20 4594.442\n",
            "Current Loss on iteration 21 4522.5615\n",
            "Current Loss on iteration 22 4456.3154\n",
            "Current Loss on iteration 23 4395.263\n",
            "Current Loss on iteration 24 4338.997\n",
            "Current Loss on iteration 25 4287.143\n",
            "Current Loss on iteration 26 4239.3545\n",
            "Current Loss on iteration 27 4195.312\n",
            "Current Loss on iteration 28 4154.7227\n",
            "Current Loss on iteration 29 4117.3154\n",
            "Current Loss on iteration 30 4082.8408\n",
            "Current Loss on iteration 31 4051.0693\n",
            "Current Loss on iteration 32 4021.7888\n",
            "Current Loss on iteration 33 3994.8032\n",
            "Current Loss on iteration 34 3969.934\n",
            "Current Loss on iteration 35 3947.0146\n",
            "Current Loss on iteration 36 3925.891\n",
            "Current Loss on iteration 37 3906.4243\n",
            "Current Loss on iteration 38 3888.4841\n",
            "Current Loss on iteration 39 3871.95\n",
            "Current Loss on iteration 40 3856.7122\n",
            "Current Loss on iteration 41 3842.669\n",
            "Current Loss on iteration 42 3829.7268\n",
            "Current Loss on iteration 43 3817.799\n",
            "Current Loss on iteration 44 3806.8066\n",
            "Current Loss on iteration 45 3796.6765\n",
            "Current Loss on iteration 46 3787.3403\n",
            "Current Loss on iteration 47 3778.7356\n",
            "Current Loss on iteration 48 3770.806\n",
            "Current Loss on iteration 49 3763.4978\n",
            "Current Loss on iteration 50 3756.7625\n",
            "Current Loss on iteration 51 3750.5554\n",
            "Current Loss on iteration 52 3744.835\n",
            "Current Loss on iteration 53 3739.5627\n",
            "Current Loss on iteration 54 3734.7046\n",
            "Current Loss on iteration 55 3730.226\n",
            "Current Loss on iteration 56 3726.0999\n",
            "Current Loss on iteration 57 3722.2969\n",
            "Current Loss on iteration 58 3718.7915\n",
            "Current Loss on iteration 59 3715.5615\n",
            "Current Loss on iteration 60 3712.5847\n",
            "Current Loss on iteration 61 3709.841\n",
            "Current Loss on iteration 62 3707.3125\n",
            "Current Loss on iteration 63 3704.9822\n",
            "Current Loss on iteration 64 3702.8347\n",
            "Current Loss on iteration 65 3700.8552\n",
            "Current Loss on iteration 66 3699.0312\n",
            "Current Loss on iteration 67 3697.3506\n",
            "Current Loss on iteration 68 3695.8013\n",
            "Current Loss on iteration 69 3694.3733\n",
            "Current Loss on iteration 70 3693.0576\n",
            "Current Loss on iteration 71 3691.845\n",
            "Current Loss on iteration 72 3690.7275\n",
            "Current Loss on iteration 73 3689.6978\n",
            "Current Loss on iteration 74 3688.748\n",
            "Current Loss on iteration 75 3687.8735\n",
            "Current Loss on iteration 76 3687.0671\n",
            "Current Loss on iteration 77 3686.3242\n",
            "Current Loss on iteration 78 3685.6394\n",
            "Current Loss on iteration 79 3685.0085\n",
            "Current Loss on iteration 80 3684.4268\n",
            "Current Loss on iteration 81 3683.8906\n",
            "Current Loss on iteration 82 3683.397\n",
            "Current Loss on iteration 83 3682.9414\n",
            "Current Loss on iteration 84 3682.5225\n",
            "Current Loss on iteration 85 3682.1353\n",
            "Current Loss on iteration 86 3681.779\n",
            "Current Loss on iteration 87 3681.451\n",
            "Current Loss on iteration 88 3681.1477\n",
            "Current Loss on iteration 89 3680.869\n",
            "Current Loss on iteration 90 3680.6118\n",
            "Current Loss on iteration 91 3680.375\n",
            "Current Loss on iteration 92 3680.1567\n",
            "Current Loss on iteration 93 3679.9556\n",
            "Current Loss on iteration 94 3679.7698\n",
            "Current Loss on iteration 95 3679.5994\n",
            "Current Loss on iteration 96 3679.4417\n",
            "Current Loss on iteration 97 3679.2966\n",
            "Current Loss on iteration 98 3679.1626\n",
            "Current Loss on iteration 99 3679.0396\n"
          ],
          "name": "stdout"
        }
      ]
    },
    {
      "metadata": {
        "colab_type": "code",
        "id": "9smwOW-1OB7k",
        "colab": {}
      },
      "cell_type": "code",
      "source": [
        ""
      ],
      "execution_count": 0,
      "outputs": []
    },
    {
      "metadata": {
        "colab_type": "text",
        "id": "DOL2ncA1OB7q"
      },
      "cell_type": "markdown",
      "source": [
        "### Get the shapes and values of W and b\n",
        "\n",
        "Hint: Use sess.run(W) to get W."
      ]
    },
    {
      "metadata": {
        "colab_type": "code",
        "id": "ZGvtyTeuOB7r",
        "outputId": "87f7b4b5-0a23-451f-ac49-c4f9a7e834db",
        "colab": {
          "base_uri": "https://localhost:8080/",
          "height": 34
        }
      },
      "cell_type": "code",
      "source": [
        "net.run(w).shape"
      ],
      "execution_count": 0,
      "outputs": [
        {
          "output_type": "execute_result",
          "data": {
            "text/plain": [
              "(4, 1)"
            ]
          },
          "metadata": {
            "tags": []
          },
          "execution_count": 69
        }
      ]
    },
    {
      "metadata": {
        "id": "zoNn9yHzj-HP",
        "colab_type": "code",
        "outputId": "1b787ddb-b254-495f-b6d1-dc27c565a7c5",
        "colab": {
          "base_uri": "https://localhost:8080/",
          "height": 85
        }
      },
      "cell_type": "code",
      "source": [
        "net.run(w)"
      ],
      "execution_count": 0,
      "outputs": [
        {
          "output_type": "execute_result",
          "data": {
            "text/plain": [
              "array([[2.5353241e-03],\n",
              "       [2.5108382e-03],\n",
              "       [2.5564777e-03],\n",
              "       [3.3674850e+01]], dtype=float32)"
            ]
          },
          "metadata": {
            "tags": []
          },
          "execution_count": 70
        }
      ]
    },
    {
      "metadata": {
        "colab_type": "code",
        "id": "vhDtOv5UOB7x",
        "outputId": "5d80ca60-fdb1-4079-e2e8-d6d21f3c00b0",
        "colab": {
          "base_uri": "https://localhost:8080/",
          "height": 34
        }
      },
      "cell_type": "code",
      "source": [
        "net.run(b).shape"
      ],
      "execution_count": 0,
      "outputs": [
        {
          "output_type": "execute_result",
          "data": {
            "text/plain": [
              "(1,)"
            ]
          },
          "metadata": {
            "tags": []
          },
          "execution_count": 71
        }
      ]
    },
    {
      "metadata": {
        "id": "XzwfhBCWkAFt",
        "colab_type": "code",
        "outputId": "988cd591-7586-4963-82d1-17e9dec99381",
        "colab": {
          "base_uri": "https://localhost:8080/",
          "height": 34
        }
      },
      "cell_type": "code",
      "source": [
        "net.run(b)"
      ],
      "execution_count": 0,
      "outputs": [
        {
          "output_type": "execute_result",
          "data": {
            "text/plain": [
              "array([33.674854], dtype=float32)"
            ]
          },
          "metadata": {
            "tags": []
          },
          "execution_count": 72
        }
      ]
    },
    {
      "metadata": {
        "colab_type": "code",
        "id": "CZUAjZ5oOB78",
        "colab": {}
      },
      "cell_type": "code",
      "source": [
        "net.close()"
      ],
      "execution_count": 0,
      "outputs": []
    },
    {
      "metadata": {
        "colab_type": "text",
        "id": "YJRBuqXhOB7_"
      },
      "cell_type": "markdown",
      "source": [
        "### Linear Classification using Keras"
      ]
    },
    {
      "metadata": {
        "colab_type": "text",
        "id": "8GoNTWXAOB8C"
      },
      "cell_type": "markdown",
      "source": [
        "### Building the simple Neural Network in Keras with one neuron in the dense hidden layer.\n",
        "#### Use Mean square error as loss function and sgd as optimizer"
      ]
    },
    {
      "metadata": {
        "colab_type": "code",
        "id": "zpeL5rCTOB8D",
        "colab": {}
      },
      "cell_type": "code",
      "source": [
        "from keras.models import Sequential\n",
        "from keras.layers import Dense"
      ],
      "execution_count": 0,
      "outputs": []
    },
    {
      "metadata": {
        "id": "eYmOWu3Ta517",
        "colab_type": "code",
        "colab": {}
      },
      "cell_type": "code",
      "source": [
        "#Initialize Sequential model\n",
        "model = tf.keras.models.Sequential()\n",
        "model.add(tf.keras.layers.BatchNormalization())\n",
        "model.add(tf.keras.layers.Dense(1,  input_shape=(4,)))\n"
      ],
      "execution_count": 0,
      "outputs": []
    },
    {
      "metadata": {
        "colab_type": "text",
        "id": "Wt-HYFMEOB8G"
      },
      "cell_type": "markdown",
      "source": [
        "### Execute the model"
      ]
    },
    {
      "metadata": {
        "colab_type": "code",
        "id": "66JGJt7GOB8H",
        "colab": {}
      },
      "cell_type": "code",
      "source": [
        "model.compile(optimizer='sgd', loss='mean_squared_error')\n"
      ],
      "execution_count": 0,
      "outputs": []
    },
    {
      "metadata": {
        "id": "H6hUPiPXt_iL",
        "colab_type": "code",
        "colab": {}
      },
      "cell_type": "code",
      "source": [
        "from sklearn.model_selection import train_test_split\n",
        "\n",
        "X = data.drop(columns= \"close\" , axis = 1) \n",
        "Y = data[\"close\"]\n",
        "transformer = Normalizer()\n",
        "X= transformer.fit_transform(X)\n",
        "\n",
        "train_x, test_x,train_y,test_y = train_test_split(X, Y, test_size=.3, random_state=7)\n"
      ],
      "execution_count": 0,
      "outputs": []
    },
    {
      "metadata": {
        "id": "QuSzR0egddHQ",
        "colab_type": "code",
        "outputId": "468acf3a-5c09-47e8-c3c9-e9329fa7c7ea",
        "colab": {
          "base_uri": "https://localhost:8080/",
          "height": 1364
        }
      },
      "cell_type": "code",
      "source": [
        "model.fit(train_x,train_y, epochs=100)"
      ],
      "execution_count": 0,
      "outputs": [
        {
          "output_type": "error",
          "ename": "ValueError",
          "evalue": "ignored",
          "traceback": [
            "\u001b[0;31m---------------------------------------------------------------------------\u001b[0m",
            "\u001b[0;31mValueError\u001b[0m                                Traceback (most recent call last)",
            "\u001b[0;32m<ipython-input-78-305be8b164cb>\u001b[0m in \u001b[0;36m<module>\u001b[0;34m()\u001b[0m\n\u001b[0;32m----> 1\u001b[0;31m \u001b[0mmodel\u001b[0m\u001b[0;34m.\u001b[0m\u001b[0mfit\u001b[0m\u001b[0;34m(\u001b[0m\u001b[0mtrain_x\u001b[0m\u001b[0;34m,\u001b[0m\u001b[0mtrain_y\u001b[0m\u001b[0;34m,\u001b[0m \u001b[0mepochs\u001b[0m\u001b[0;34m=\u001b[0m\u001b[0;36m100\u001b[0m\u001b[0;34m)\u001b[0m\u001b[0;34m\u001b[0m\u001b[0;34m\u001b[0m\u001b[0m\n\u001b[0m",
            "\u001b[0;32m/usr/local/lib/python3.6/dist-packages/tensorflow/python/keras/engine/training.py\u001b[0m in \u001b[0;36mfit\u001b[0;34m(self, x, y, batch_size, epochs, verbose, callbacks, validation_split, validation_data, shuffle, class_weight, sample_weight, initial_epoch, steps_per_epoch, validation_steps, max_queue_size, workers, use_multiprocessing, **kwargs)\u001b[0m\n\u001b[1;32m    774\u001b[0m         \u001b[0msteps\u001b[0m\u001b[0;34m=\u001b[0m\u001b[0msteps_per_epoch\u001b[0m\u001b[0;34m,\u001b[0m\u001b[0;34m\u001b[0m\u001b[0;34m\u001b[0m\u001b[0m\n\u001b[1;32m    775\u001b[0m         \u001b[0mvalidation_split\u001b[0m\u001b[0;34m=\u001b[0m\u001b[0mvalidation_split\u001b[0m\u001b[0;34m,\u001b[0m\u001b[0;34m\u001b[0m\u001b[0;34m\u001b[0m\u001b[0m\n\u001b[0;32m--> 776\u001b[0;31m         shuffle=shuffle)\n\u001b[0m\u001b[1;32m    777\u001b[0m \u001b[0;34m\u001b[0m\u001b[0m\n\u001b[1;32m    778\u001b[0m     \u001b[0;31m# Prepare validation data.\u001b[0m\u001b[0;34m\u001b[0m\u001b[0;34m\u001b[0m\u001b[0;34m\u001b[0m\u001b[0m\n",
            "\u001b[0;32m/usr/local/lib/python3.6/dist-packages/tensorflow/python/keras/engine/training.py\u001b[0m in \u001b[0;36m_standardize_user_data\u001b[0;34m(self, x, y, sample_weight, class_weight, batch_size, check_steps, steps_name, steps, validation_split, shuffle)\u001b[0m\n\u001b[1;32m   2318\u001b[0m             raise ValueError('Please provide as model targets either a single '\n\u001b[1;32m   2319\u001b[0m                              \u001b[0;34m'array or a list of arrays. '\u001b[0m\u001b[0;34m\u001b[0m\u001b[0;34m\u001b[0m\u001b[0m\n\u001b[0;32m-> 2320\u001b[0;31m                              'You passed: y=' + str(y))\n\u001b[0m\u001b[1;32m   2321\u001b[0m           \u001b[0mall_inputs\u001b[0m\u001b[0;34m.\u001b[0m\u001b[0mappend\u001b[0m\u001b[0;34m(\u001b[0m\u001b[0my\u001b[0m\u001b[0;34m)\u001b[0m\u001b[0;34m\u001b[0m\u001b[0;34m\u001b[0m\u001b[0m\n\u001b[1;32m   2322\u001b[0m \u001b[0;34m\u001b[0m\u001b[0m\n",
            "\u001b[0;31mValueError\u001b[0m: Please provide as model targets either a single array or a list of arrays. You passed: y=822     33.930000\n188    132.110001\n251     31.300001\n71     121.260002\n664     29.419995\n418     53.980000\n336     26.500000\n328     32.060001\n350     56.349998\n909     38.090000\n928     40.430000\n986     16.860001\n375     31.000000\n557     15.510001\n684     17.889997\n451      3.680000\n809    342.130013\n505     76.370003\n677     10.040000\n833     38.480000\n526     29.180000\n480     22.890002\n446     14.790000\n218    122.489998\n239    122.260002\n752     19.570000\n525     62.779999\n192    131.059998\n795     32.369999\n191    132.089996\n          ...    \n787     22.910000\n6      112.849998\n250    122.279999\n823     74.500000\n75     123.790001\n512     30.350000\n940     54.169998\n391     45.380001\n895     16.239999\n432      7.960000\n68     117.989998\n167    124.849998\n904     43.259998\n730     25.280001\n554     48.450001\n366     11.220000\n345     21.700001\n584     25.000000\n535     91.669998\n398    100.379997\n185    127.989998\n348     46.230000\n615     52.540001\n919      3.760000\n211    123.669998\n579    223.960007\n502     19.309999\n537     83.019997\n196    127.910004\n175    122.300003\nName: close, Length: 700, dtype: float64"
          ]
        }
      ]
    },
    {
      "metadata": {
        "id": "9YX89152dZHP",
        "colab_type": "code",
        "outputId": "efff23ca-a67c-4b26-b9e4-bc7813efc3ee",
        "colab": {
          "base_uri": "https://localhost:8080/",
          "height": 204
        }
      },
      "cell_type": "code",
      "source": [
        "model.summary()"
      ],
      "execution_count": 0,
      "outputs": [
        {
          "output_type": "stream",
          "text": [
            "_________________________________________________________________\n",
            "Layer (type)                 Output Shape              Param #   \n",
            "=================================================================\n",
            "batch_normalization_v1_2 (Ba multiple                  16        \n",
            "_________________________________________________________________\n",
            "dense_4 (Dense)              multiple                  5         \n",
            "=================================================================\n",
            "Total params: 21\n",
            "Trainable params: 13\n",
            "Non-trainable params: 8\n",
            "_________________________________________________________________\n"
          ],
          "name": "stdout"
        }
      ]
    },
    {
      "metadata": {
        "id": "k4INoEuTzzDi",
        "colab_type": "text"
      },
      "cell_type": "markdown",
      "source": [
        "### Classification using Keras "
      ]
    },
    {
      "metadata": {
        "id": "mOZbqT4azzDj",
        "colab_type": "code",
        "colab": {}
      },
      "cell_type": "code",
      "source": [
        ""
      ],
      "execution_count": 0,
      "outputs": []
    },
    {
      "metadata": {
        "id": "gdvobTjKzzDl",
        "colab_type": "text"
      },
      "cell_type": "markdown",
      "source": [
        "### Load the given Iris data using pandas (Iris.csv)"
      ]
    },
    {
      "metadata": {
        "id": "Te3tqHlVzzDm",
        "colab_type": "code",
        "outputId": "5e6f3e04-9686-485d-eb79-de65270bff33",
        "colab": {
          "base_uri": "https://localhost:8080/",
          "height": 34
        }
      },
      "cell_type": "code",
      "source": [
        "iris= mount_drive(\"Iris-1.csv\")"
      ],
      "execution_count": 0,
      "outputs": [
        {
          "output_type": "stream",
          "text": [
            "Drive already mounted at /gdrive/; to attempt to forcibly remount, call drive.mount(\"/gdrive/\", force_remount=True).\n"
          ],
          "name": "stdout"
        }
      ]
    },
    {
      "metadata": {
        "id": "S7DcFfwXesRu",
        "colab_type": "code",
        "outputId": "d7cfb9cf-e1b0-4390-b88a-7e9139148801",
        "colab": {
          "base_uri": "https://localhost:8080/",
          "height": 136
        }
      },
      "cell_type": "code",
      "source": [
        "iris.dtypes"
      ],
      "execution_count": 0,
      "outputs": [
        {
          "output_type": "execute_result",
          "data": {
            "text/plain": [
              "Id                 int64\n",
              "SepalLengthCm    float64\n",
              "SepalWidthCm     float64\n",
              "PetalLengthCm    float64\n",
              "PetalWidthCm     float64\n",
              "Species           object\n",
              "dtype: object"
            ]
          },
          "metadata": {
            "tags": []
          },
          "execution_count": 81
        }
      ]
    },
    {
      "metadata": {
        "id": "i3uRJiJ8ewxT",
        "colab_type": "code",
        "outputId": "c0cc75ee-ec80-46dd-8c85-bddef7705d65",
        "colab": {
          "base_uri": "https://localhost:8080/",
          "height": 142
        }
      },
      "cell_type": "code",
      "source": [
        "iris.head(3)"
      ],
      "execution_count": 0,
      "outputs": [
        {
          "output_type": "execute_result",
          "data": {
            "text/html": [
              "<div>\n",
              "<style scoped>\n",
              "    .dataframe tbody tr th:only-of-type {\n",
              "        vertical-align: middle;\n",
              "    }\n",
              "\n",
              "    .dataframe tbody tr th {\n",
              "        vertical-align: top;\n",
              "    }\n",
              "\n",
              "    .dataframe thead th {\n",
              "        text-align: right;\n",
              "    }\n",
              "</style>\n",
              "<table border=\"1\" class=\"dataframe\">\n",
              "  <thead>\n",
              "    <tr style=\"text-align: right;\">\n",
              "      <th></th>\n",
              "      <th>Id</th>\n",
              "      <th>SepalLengthCm</th>\n",
              "      <th>SepalWidthCm</th>\n",
              "      <th>PetalLengthCm</th>\n",
              "      <th>PetalWidthCm</th>\n",
              "      <th>Species</th>\n",
              "    </tr>\n",
              "  </thead>\n",
              "  <tbody>\n",
              "    <tr>\n",
              "      <th>0</th>\n",
              "      <td>1</td>\n",
              "      <td>5.1</td>\n",
              "      <td>3.5</td>\n",
              "      <td>1.4</td>\n",
              "      <td>0.2</td>\n",
              "      <td>Iris-setosa</td>\n",
              "    </tr>\n",
              "    <tr>\n",
              "      <th>1</th>\n",
              "      <td>2</td>\n",
              "      <td>4.9</td>\n",
              "      <td>3.0</td>\n",
              "      <td>1.4</td>\n",
              "      <td>0.2</td>\n",
              "      <td>Iris-setosa</td>\n",
              "    </tr>\n",
              "    <tr>\n",
              "      <th>2</th>\n",
              "      <td>3</td>\n",
              "      <td>4.7</td>\n",
              "      <td>3.2</td>\n",
              "      <td>1.3</td>\n",
              "      <td>0.2</td>\n",
              "      <td>Iris-setosa</td>\n",
              "    </tr>\n",
              "  </tbody>\n",
              "</table>\n",
              "</div>"
            ],
            "text/plain": [
              "   Id  SepalLengthCm  SepalWidthCm  PetalLengthCm  PetalWidthCm      Species\n",
              "0   1            5.1           3.5            1.4           0.2  Iris-setosa\n",
              "1   2            4.9           3.0            1.4           0.2  Iris-setosa\n",
              "2   3            4.7           3.2            1.3           0.2  Iris-setosa"
            ]
          },
          "metadata": {
            "tags": []
          },
          "execution_count": 82
        }
      ]
    },
    {
      "metadata": {
        "id": "JTSVZ8lknvB_",
        "colab_type": "code",
        "colab": {}
      },
      "cell_type": "code",
      "source": [
        "iris[\"Species\"] = pd.Categorical(iris[\"Species\"]).codes"
      ],
      "execution_count": 0,
      "outputs": []
    },
    {
      "metadata": {
        "id": "hAQUsqmVi-Ml",
        "colab_type": "code",
        "colab": {}
      },
      "cell_type": "code",
      "source": [
        "iris.drop(\"Id\",axis=1,inplace=True)"
      ],
      "execution_count": 0,
      "outputs": []
    },
    {
      "metadata": {
        "id": "L31aAceVzzDn",
        "colab_type": "text"
      },
      "cell_type": "markdown",
      "source": [
        "### Splitting the data into feature set and target set"
      ]
    },
    {
      "metadata": {
        "id": "2j0DsaxCzzDo",
        "colab_type": "code",
        "colab": {}
      },
      "cell_type": "code",
      "source": [
        "features = iris.drop(columns= ['Species']) \n",
        "\n",
        "target = iris[['Species']]\n"
      ],
      "execution_count": 0,
      "outputs": []
    },
    {
      "metadata": {
        "id": "S-nTVZrrneCc",
        "colab_type": "code",
        "outputId": "86defb70-58c1-4324-d9e4-68ce5dd3f7f1",
        "colab": {
          "base_uri": "https://localhost:8080/",
          "height": 111
        }
      },
      "cell_type": "code",
      "source": [
        "features.head(2)"
      ],
      "execution_count": 0,
      "outputs": [
        {
          "output_type": "execute_result",
          "data": {
            "text/html": [
              "<div>\n",
              "<style scoped>\n",
              "    .dataframe tbody tr th:only-of-type {\n",
              "        vertical-align: middle;\n",
              "    }\n",
              "\n",
              "    .dataframe tbody tr th {\n",
              "        vertical-align: top;\n",
              "    }\n",
              "\n",
              "    .dataframe thead th {\n",
              "        text-align: right;\n",
              "    }\n",
              "</style>\n",
              "<table border=\"1\" class=\"dataframe\">\n",
              "  <thead>\n",
              "    <tr style=\"text-align: right;\">\n",
              "      <th></th>\n",
              "      <th>SepalLengthCm</th>\n",
              "      <th>SepalWidthCm</th>\n",
              "      <th>PetalLengthCm</th>\n",
              "      <th>PetalWidthCm</th>\n",
              "    </tr>\n",
              "  </thead>\n",
              "  <tbody>\n",
              "    <tr>\n",
              "      <th>0</th>\n",
              "      <td>5.1</td>\n",
              "      <td>3.5</td>\n",
              "      <td>1.4</td>\n",
              "      <td>0.2</td>\n",
              "    </tr>\n",
              "    <tr>\n",
              "      <th>1</th>\n",
              "      <td>4.9</td>\n",
              "      <td>3.0</td>\n",
              "      <td>1.4</td>\n",
              "      <td>0.2</td>\n",
              "    </tr>\n",
              "  </tbody>\n",
              "</table>\n",
              "</div>"
            ],
            "text/plain": [
              "   SepalLengthCm  SepalWidthCm  PetalLengthCm  PetalWidthCm\n",
              "0            5.1           3.5            1.4           0.2\n",
              "1            4.9           3.0            1.4           0.2"
            ]
          },
          "metadata": {
            "tags": []
          },
          "execution_count": 86
        }
      ]
    },
    {
      "metadata": {
        "id": "z-F7lHL1iPLf",
        "colab_type": "code",
        "outputId": "cedb74bf-3183-4696-e2f3-29b6d284007b",
        "colab": {
          "base_uri": "https://localhost:8080/",
          "height": 111
        }
      },
      "cell_type": "code",
      "source": [
        "target.head(2)"
      ],
      "execution_count": 0,
      "outputs": [
        {
          "output_type": "execute_result",
          "data": {
            "text/html": [
              "<div>\n",
              "<style scoped>\n",
              "    .dataframe tbody tr th:only-of-type {\n",
              "        vertical-align: middle;\n",
              "    }\n",
              "\n",
              "    .dataframe tbody tr th {\n",
              "        vertical-align: top;\n",
              "    }\n",
              "\n",
              "    .dataframe thead th {\n",
              "        text-align: right;\n",
              "    }\n",
              "</style>\n",
              "<table border=\"1\" class=\"dataframe\">\n",
              "  <thead>\n",
              "    <tr style=\"text-align: right;\">\n",
              "      <th></th>\n",
              "      <th>Species</th>\n",
              "    </tr>\n",
              "  </thead>\n",
              "  <tbody>\n",
              "    <tr>\n",
              "      <th>0</th>\n",
              "      <td>0</td>\n",
              "    </tr>\n",
              "    <tr>\n",
              "      <th>1</th>\n",
              "      <td>0</td>\n",
              "    </tr>\n",
              "  </tbody>\n",
              "</table>\n",
              "</div>"
            ],
            "text/plain": [
              "   Species\n",
              "0        0\n",
              "1        0"
            ]
          },
          "metadata": {
            "tags": []
          },
          "execution_count": 87
        }
      ]
    },
    {
      "metadata": {
        "id": "uiKT41skzzDp",
        "colab_type": "text"
      },
      "cell_type": "markdown",
      "source": [
        "### Target set has different categories. So, Label encode them. And convert into one-hot vectors using get_dummies in pandas."
      ]
    },
    {
      "metadata": {
        "id": "m7VKFZEwzzDq",
        "colab_type": "code",
        "colab": {}
      },
      "cell_type": "code",
      "source": [
        ""
      ],
      "execution_count": 0,
      "outputs": []
    },
    {
      "metadata": {
        "id": "AhESywOKzzDt",
        "colab_type": "text"
      },
      "cell_type": "markdown",
      "source": [
        "### Divide the dataset into Training and test (70:30)"
      ]
    },
    {
      "metadata": {
        "id": "HBAGpKTazzDt",
        "colab_type": "code",
        "colab": {}
      },
      "cell_type": "code",
      "source": [
        "from sklearn.model_selection import train_test_split\n",
        "transformer = Normalizer()\n",
        "#features = transformer.fit_transform(features)\n",
        "\n",
        "train_x, test_x,train_y,test_y = train_test_split(features, target, test_size=.3, random_state=7)"
      ],
      "execution_count": 0,
      "outputs": []
    },
    {
      "metadata": {
        "id": "FuohN1f0zzDw",
        "colab_type": "text"
      },
      "cell_type": "markdown",
      "source": [
        "### Model\n",
        "Build the model with following layers: <br>\n",
        "1. First dense layer with 10 neurons with input shape 4 (according to the feature set) <br>\n",
        "2. Second Dense layer with 8 neurons <br>\n",
        "3. Output layer with 3 neurons with softmax activation (output layer, 3 neurons as we have 3 classes) <br>\n",
        "4. Use SGD and categorical_crossentropy loss "
      ]
    },
    {
      "metadata": {
        "id": "l0kIYC3dzzDy",
        "colab_type": "code",
        "colab": {}
      },
      "cell_type": "code",
      "source": [
        "model = tf.keras.models.Sequential()\n",
        "model.add(tf.keras.layers.BatchNormalization())\n",
        "\n",
        "model.add(tf.keras.layers.Dense(10, activation='relu', input_shape=(4,)))\n",
        "model.add(tf.keras.layers.Dense(8, activation='relu'))\n",
        "model.add(tf.keras.layers.Dense(3, activation='softmax'))\n",
        "\n",
        "#Create optimizer with non-default learning rate\n",
        "sgd_optimizer = tf.keras.optimizers.SGD(lr=0.03)\n",
        "\n",
        "#Compile the model\n",
        "model.compile(optimizer=sgd_optimizer, loss='categorical_crossentropy', metrics=['accuracy'])"
      ],
      "execution_count": 0,
      "outputs": []
    },
    {
      "metadata": {
        "id": "lyszmGR2zzD0",
        "colab_type": "text"
      },
      "cell_type": "markdown",
      "source": [
        "### Fitting the model and predicting "
      ]
    },
    {
      "metadata": {
        "id": "5Ezs0-JdzzD1",
        "colab_type": "code",
        "outputId": "e613e27d-8aad-4404-c7ee-2456b45a0e66",
        "colab": {
          "base_uri": "https://localhost:8080/",
          "height": 1071
        }
      },
      "cell_type": "code",
      "source": [
        "\n",
        "#train model\n",
        "model.fit(features.values, target.values, validation_split=0.2, epochs=30)"
      ],
      "execution_count": 0,
      "outputs": [
        {
          "output_type": "stream",
          "text": [
            "Train on 120 samples, validate on 30 samples\n",
            "Epoch 1/30\n",
            "120/120 [==============================] - 0s 1ms/sample - loss: 2.4904 - acc: 0.0000e+00 - val_loss: 7.9632 - val_acc: 0.0000e+00\n",
            "Epoch 2/30\n",
            "120/120 [==============================] - 0s 142us/sample - loss: 2.4862 - acc: 0.0333 - val_loss: 7.6380 - val_acc: 0.0000e+00\n",
            "Epoch 3/30\n",
            "120/120 [==============================] - 0s 146us/sample - loss: 2.4831 - acc: 0.0500 - val_loss: 7.4335 - val_acc: 0.0000e+00\n",
            "Epoch 4/30\n",
            "120/120 [==============================] - 0s 159us/sample - loss: 2.4814 - acc: 0.0583 - val_loss: 7.2702 - val_acc: 0.0000e+00\n",
            "Epoch 5/30\n",
            "120/120 [==============================] - 0s 153us/sample - loss: 2.4802 - acc: 0.0917 - val_loss: 7.1517 - val_acc: 0.0000e+00\n",
            "Epoch 6/30\n",
            "120/120 [==============================] - 0s 146us/sample - loss: 2.4781 - acc: 0.1167 - val_loss: 7.0617 - val_acc: 0.0000e+00\n",
            "Epoch 7/30\n",
            "120/120 [==============================] - 0s 143us/sample - loss: 2.4780 - acc: 0.1417 - val_loss: 6.9922 - val_acc: 0.0000e+00\n",
            "Epoch 8/30\n",
            "120/120 [==============================] - 0s 135us/sample - loss: 2.4776 - acc: 0.1750 - val_loss: 6.9336 - val_acc: 0.0000e+00\n",
            "Epoch 9/30\n",
            "120/120 [==============================] - 0s 127us/sample - loss: 2.4770 - acc: 0.1667 - val_loss: 6.8870 - val_acc: 0.0000e+00\n",
            "Epoch 10/30\n",
            "120/120 [==============================] - 0s 130us/sample - loss: 2.4758 - acc: 0.2000 - val_loss: 6.8469 - val_acc: 0.0000e+00\n",
            "Epoch 11/30\n",
            "120/120 [==============================] - 0s 195us/sample - loss: 2.4759 - acc: 0.2167 - val_loss: 6.8152 - val_acc: 0.0000e+00\n",
            "Epoch 12/30\n",
            "120/120 [==============================] - 0s 190us/sample - loss: 2.4752 - acc: 0.2500 - val_loss: 6.7874 - val_acc: 0.0000e+00\n",
            "Epoch 13/30\n",
            "120/120 [==============================] - 0s 153us/sample - loss: 2.4759 - acc: 0.2333 - val_loss: 6.7630 - val_acc: 0.0000e+00\n",
            "Epoch 14/30\n",
            "120/120 [==============================] - 0s 151us/sample - loss: 2.4762 - acc: 0.2167 - val_loss: 6.7394 - val_acc: 0.0000e+00\n",
            "Epoch 15/30\n",
            "120/120 [==============================] - 0s 152us/sample - loss: 2.4752 - acc: 0.2667 - val_loss: 6.7226 - val_acc: 0.0000e+00\n",
            "Epoch 16/30\n",
            "120/120 [==============================] - 0s 150us/sample - loss: 2.4753 - acc: 0.2917 - val_loss: 6.7093 - val_acc: 0.0000e+00\n",
            "Epoch 17/30\n",
            "120/120 [==============================] - 0s 155us/sample - loss: 2.4751 - acc: 0.2833 - val_loss: 6.6969 - val_acc: 0.0000e+00\n",
            "Epoch 18/30\n",
            "120/120 [==============================] - 0s 148us/sample - loss: 2.4748 - acc: 0.2750 - val_loss: 6.6860 - val_acc: 0.0000e+00\n",
            "Epoch 19/30\n",
            "120/120 [==============================] - 0s 133us/sample - loss: 2.4745 - acc: 0.2833 - val_loss: 6.6764 - val_acc: 0.0000e+00\n",
            "Epoch 20/30\n",
            "120/120 [==============================] - 0s 142us/sample - loss: 2.4748 - acc: 0.3167 - val_loss: 6.6687 - val_acc: 0.0000e+00\n",
            "Epoch 21/30\n",
            "120/120 [==============================] - 0s 145us/sample - loss: 2.4745 - acc: 0.3167 - val_loss: 6.6616 - val_acc: 0.0000e+00\n",
            "Epoch 22/30\n",
            "120/120 [==============================] - 0s 163us/sample - loss: 2.4750 - acc: 0.2750 - val_loss: 6.6538 - val_acc: 0.0000e+00\n",
            "Epoch 23/30\n",
            "120/120 [==============================] - 0s 136us/sample - loss: 2.4742 - acc: 0.2750 - val_loss: 6.6487 - val_acc: 0.0000e+00\n",
            "Epoch 24/30\n",
            "120/120 [==============================] - 0s 136us/sample - loss: 2.4742 - acc: 0.2667 - val_loss: 6.6433 - val_acc: 0.0000e+00\n",
            "Epoch 25/30\n",
            "120/120 [==============================] - 0s 158us/sample - loss: 2.4741 - acc: 0.3167 - val_loss: 6.6388 - val_acc: 0.0000e+00\n",
            "Epoch 26/30\n",
            "120/120 [==============================] - 0s 158us/sample - loss: 2.4753 - acc: 0.2667 - val_loss: 6.6348 - val_acc: 0.0000e+00\n",
            "Epoch 27/30\n",
            "120/120 [==============================] - 0s 143us/sample - loss: 2.4742 - acc: 0.2417 - val_loss: 6.6311 - val_acc: 0.0000e+00\n",
            "Epoch 28/30\n",
            "120/120 [==============================] - 0s 144us/sample - loss: 2.4748 - acc: 0.2500 - val_loss: 6.6274 - val_acc: 0.0000e+00\n",
            "Epoch 29/30\n",
            "120/120 [==============================] - 0s 136us/sample - loss: 2.4744 - acc: 0.2750 - val_loss: 6.6238 - val_acc: 0.0000e+00\n",
            "Epoch 30/30\n",
            "120/120 [==============================] - 0s 147us/sample - loss: 2.4743 - acc: 0.2333 - val_loss: 6.6201 - val_acc: 0.0000e+00\n"
          ],
          "name": "stdout"
        },
        {
          "output_type": "execute_result",
          "data": {
            "text/plain": [
              "<tensorflow.python.keras.callbacks.History at 0x7f48dc7d6748>"
            ]
          },
          "metadata": {
            "tags": []
          },
          "execution_count": 90
        }
      ]
    },
    {
      "metadata": {
        "id": "8eJjStH_zzD3",
        "colab_type": "code",
        "colab": {}
      },
      "cell_type": "code",
      "source": [
        ""
      ],
      "execution_count": 0,
      "outputs": []
    },
    {
      "metadata": {
        "id": "iZ3dijC4zzD7",
        "colab_type": "text"
      },
      "cell_type": "markdown",
      "source": [
        "### Report Accuracy of the predicted values"
      ]
    },
    {
      "metadata": {
        "id": "P5j8Wi1azzD8",
        "colab_type": "code",
        "outputId": "d5fdbc76-ca50-4ee6-e41f-c89fffa76ddd",
        "colab": {
          "base_uri": "https://localhost:8080/",
          "height": 782
        }
      },
      "cell_type": "code",
      "source": [
        "model.predict(test_x)"
      ],
      "execution_count": 0,
      "outputs": [
        {
          "output_type": "execute_result",
          "data": {
            "text/plain": [
              "array([[0.31266114, 0.3359437 , 0.35139513],\n",
              "       [0.30647665, 0.32860282, 0.3649205 ],\n",
              "       [0.2697001 , 0.31608474, 0.4142151 ],\n",
              "       [0.30983818, 0.33588454, 0.35427728],\n",
              "       [0.33724383, 0.3301039 , 0.3326523 ],\n",
              "       [0.29762256, 0.3450849 , 0.35729256],\n",
              "       [0.302427  , 0.3947364 , 0.3028366 ],\n",
              "       [0.3221134 , 0.35264298, 0.32524362],\n",
              "       [0.27069396, 0.32167685, 0.40762922],\n",
              "       [0.30681744, 0.36379626, 0.32938626],\n",
              "       [0.3108494 , 0.37864232, 0.31050825],\n",
              "       [0.29403183, 0.33183616, 0.374132  ],\n",
              "       [0.234098  , 0.32249752, 0.44340444],\n",
              "       [0.28217614, 0.35773295, 0.3600909 ],\n",
              "       [0.26453003, 0.32299492, 0.41247505],\n",
              "       [0.29544476, 0.3307112 , 0.3738441 ],\n",
              "       [0.33089504, 0.36824295, 0.30086195],\n",
              "       [0.31355184, 0.36431384, 0.32213432],\n",
              "       [0.24862848, 0.3213934 , 0.42997816],\n",
              "       [0.2801069 , 0.3274986 , 0.39239445],\n",
              "       [0.32221147, 0.35943076, 0.31835774],\n",
              "       [0.30521223, 0.36602014, 0.32876766],\n",
              "       [0.31118053, 0.37142774, 0.31739172],\n",
              "       [0.32813635, 0.36882252, 0.30304107],\n",
              "       [0.2945557 , 0.42406905, 0.28137532],\n",
              "       [0.31085178, 0.3447649 , 0.3443834 ],\n",
              "       [0.3128103 , 0.3722539 , 0.31493583],\n",
              "       [0.3299893 , 0.35801482, 0.3119959 ],\n",
              "       [0.3331365 , 0.32966658, 0.33719698],\n",
              "       [0.3061959 , 0.34918725, 0.34461686],\n",
              "       [0.32636395, 0.35638976, 0.31724635],\n",
              "       [0.32465097, 0.3617985 , 0.3135506 ],\n",
              "       [0.2730228 , 0.31688654, 0.4100906 ],\n",
              "       [0.3153221 , 0.3722133 , 0.31246457],\n",
              "       [0.31191105, 0.37972596, 0.30836296],\n",
              "       [0.29293302, 0.3178026 , 0.38926443],\n",
              "       [0.26164946, 0.32541442, 0.41293615],\n",
              "       [0.24543695, 0.31578615, 0.4387769 ],\n",
              "       [0.26590562, 0.31782657, 0.41626775],\n",
              "       [0.31809747, 0.3776079 , 0.30429468],\n",
              "       [0.30066007, 0.3597492 , 0.33959073],\n",
              "       [0.30902258, 0.4026328 , 0.28834468],\n",
              "       [0.33261853, 0.33409768, 0.33328375],\n",
              "       [0.3158453 , 0.3676866 , 0.31646806],\n",
              "       [0.31015715, 0.3554378 , 0.33440506]], dtype=float32)"
            ]
          },
          "metadata": {
            "tags": []
          },
          "execution_count": 91
        }
      ]
    },
    {
      "metadata": {
        "id": "XKdxjPEZyvNW",
        "colab_type": "code",
        "colab": {}
      },
      "cell_type": "code",
      "source": [
        ""
      ],
      "execution_count": 0,
      "outputs": []
    }
  ]
}