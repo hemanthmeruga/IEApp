{
  "nbformat": 4,
  "nbformat_minor": 0,
  "metadata": {
    "colab": {
      "name": "R8_External_Lab_Questions_CIFAR10_Transfer_Learning.ipynb",
      "version": "0.3.2",
      "provenance": [],
      "collapsed_sections": [],
      "include_colab_link": true
    },
    "language_info": {
      "codemirror_mode": {
        "name": "ipython",
        "version": 3
      },
      "file_extension": ".py",
      "mimetype": "text/x-python",
      "name": "python",
      "nbconvert_exporter": "python",
      "pygments_lexer": "ipython3",
      "version": "3.6.8"
    },
    "kernelspec": {
      "display_name": "Python 3",
      "language": "python",
      "name": "python3"
    },
    "accelerator": "GPU"
  },
  "cells": [
    {
      "cell_type": "markdown",
      "metadata": {
        "id": "view-in-github",
        "colab_type": "text"
      },
      "source": [
        "<a href=\"https://colab.research.google.com/github/hemanthmeruga/IEApp/blob/master/R8_External_Lab_Questions_CIFAR10_Transfer_Learning.ipynb\" target=\"_parent\"><img src=\"https://colab.research.google.com/assets/colab-badge.svg\" alt=\"Open In Colab\"/></a>"
      ]
    },
    {
      "cell_type": "markdown",
      "metadata": {
        "colab_type": "text",
        "id": "QGIsF1ADyJ58"
      },
      "source": [
        "# Transfer Learning CIFAR10"
      ]
    },
    {
      "cell_type": "markdown",
      "metadata": {
        "colab_type": "text",
        "id": "E-n6tVFayGBe"
      },
      "source": [
        "* Train a simple convnet on the CIFAR dataset the first 5 output classes [0..4].\n",
        "* Freeze convolutional layers and fine-tune dense layers for the last 5 ouput classes [5..9].\n"
      ]
    },
    {
      "cell_type": "markdown",
      "metadata": {
        "colab_type": "text",
        "id": "Cq8ejXHJyGYq"
      },
      "source": [
        "### 1. Import CIFAR10 data and create 2 datasets with one dataset having classes from 0 to 4 and other having classes from 5 to 9 "
      ]
    },
    {
      "cell_type": "code",
      "metadata": {
        "colab_type": "code",
        "id": "uWYbxnBayFUP",
        "colab": {
          "base_uri": "https://localhost:8080/",
          "height": 34
        },
        "outputId": "a59509e2-b99a-42ea-b320-5f93b8e60f02"
      },
      "source": [
        "import pandas as pd\n",
        "import numpy as np\n",
        "from sklearn.model_selection import train_test_split\n",
        "from keras import applications\n",
        "from keras.models import Sequential, Model \n",
        "from keras import backend as k \n",
        "from keras.callbacks import ModelCheckpoint, EarlyStopping\n",
        "from keras.layers import Conv2D, MaxPooling2D, Activation, Flatten, Dense, Dropout\n",
        "from keras.callbacks import EarlyStopping, ModelCheckpoint\n",
        "import keras as keras\n",
        "import vis"
      ],
      "execution_count": 1,
      "outputs": [
        {
          "output_type": "stream",
          "text": [
            "Using TensorFlow backend.\n"
          ],
          "name": "stderr"
        }
      ]
    },
    {
      "cell_type": "code",
      "metadata": {
        "colab_type": "code",
        "id": "HwTdidP2xa26",
        "outputId": "a3b87c86-013f-4e7e-ab26-60732d512904",
        "colab": {
          "base_uri": "https://localhost:8080/",
          "height": 51
        }
      },
      "source": [
        "from keras.datasets import cifar10\n",
        "(x_train, y_train), (x_test, y_test) = cifar10.load_data()"
      ],
      "execution_count": 2,
      "outputs": [
        {
          "output_type": "stream",
          "text": [
            "Downloading data from https://www.cs.toronto.edu/~kriz/cifar-10-python.tar.gz\n",
            "170500096/170498071 [==============================] - 7s 0us/step\n"
          ],
          "name": "stdout"
        }
      ]
    },
    {
      "cell_type": "code",
      "metadata": {
        "colab_type": "code",
        "id": "fbejBhOFxqZr",
        "outputId": "9529bff7-7cc6-489b-d15d-34bcc7c720fa",
        "colab": {
          "base_uri": "https://localhost:8080/",
          "height": 51
        }
      },
      "source": [
        "y_train_1d = y_train[:, 0]\n",
        "y_test_1d = y_test[:, 0]\n",
        "print(y_train_1d.shape)\n",
        "print(y_test_1d.shape)"
      ],
      "execution_count": 3,
      "outputs": [
        {
          "output_type": "stream",
          "text": [
            "(50000,)\n",
            "(10000,)\n"
          ],
          "name": "stdout"
        }
      ]
    },
    {
      "cell_type": "code",
      "metadata": {
        "colab_type": "code",
        "id": "yWJwNuiH003C",
        "colab": {}
      },
      "source": [
        "# create two datasets one with classes from 0 to 4 and one with 5 to 9\n",
        "x_train_lt5 = x_train[y_train_1d < 5]\n",
        "y_train_lt5 = y_train_1d[y_train_1d < 5]\n",
        "x_test_lt5 = x_test[y_test_1d < 5]\n",
        "y_test_lt5 = y_test_1d[y_test_1d < 5]\n",
        "\n",
        "x_train_gte5 = x_train[y_train_1d >= 5]\n",
        "y_train_gte5 = y_train_1d[y_train_1d >= 5]\n",
        "x_test_gte5 = x_test[y_test_1d >= 5]\n",
        "y_test_gte5 = y_test_1d[y_test_1d >= 5]"
      ],
      "execution_count": 0,
      "outputs": []
    },
    {
      "cell_type": "code",
      "metadata": {
        "colab_type": "code",
        "id": "B_pIQ_ID16dc",
        "outputId": "0b2dcc73-822b-4f39-8dbb-df18b0a5d061",
        "colab": {
          "base_uri": "https://localhost:8080/",
          "height": 187
        }
      },
      "source": [
        "print(\"Dataset Samples: \\n\")\n",
        "print(\"X Train < 5: \", x_train_lt5[x_train_lt5 > 0])\n",
        "print(\"X Test < 5: \", x_test_lt5[x_test_lt5 > 0])\n",
        "print(\"Y Train < 5: \", y_train_lt5[0])\n",
        "print(\"Y Test < 5: \", y_test_lt5[0])\n",
        "print(\"X Train >= 5: \", x_train_gte5[x_train_gte5 > 0])\n",
        "print(\"X Test >=5 : \", x_test_gte5[x_test_gte5 > 0])\n",
        "print(\"Y Train >= 5: \", y_train_gte5[0])\n",
        "print(\"Y Test >= 5: \", y_test_gte5[0])"
      ],
      "execution_count": 6,
      "outputs": [
        {
          "output_type": "stream",
          "text": [
            "Dataset Samples: \n",
            "\n",
            "X Train < 5:  [ 28  25  10 ... 163 163 161]\n",
            "X Test < 5:  [158 112  49 ...  92 120  80]\n",
            "Y Train < 5:  4\n",
            "Y Test < 5:  3\n",
            "X Train >= 5:  [59 62 63 ... 12 31 50]\n",
            "X Test >=5 :  [235 235 235 ...  27  26  26]\n",
            "Y Train >= 5:  6\n",
            "Y Test >= 5:  8\n"
          ],
          "name": "stdout"
        }
      ]
    },
    {
      "cell_type": "markdown",
      "metadata": {
        "colab_type": "text",
        "id": "xtCKmQh4yXhT"
      },
      "source": [
        "### 2. Use One-hot encoding to divide y_train and y_test into required no of output classes"
      ]
    },
    {
      "cell_type": "code",
      "metadata": {
        "colab_type": "code",
        "id": "uN5O2kJ3yYa6",
        "colab": {}
      },
      "source": [
        "train_features_lt5 = x_train_lt5.astype('float32')/255\n",
        "test_features_lt5 = x_test_lt5.astype('float32')/255\n",
        "# convert class labels to binary class labels\n",
        "train_labels_lt5 = keras.utils.to_categorical(y_train_lt5, 10)\n",
        "test_labels_lt5 = keras.utils.to_categorical(y_test_lt5, 10)"
      ],
      "execution_count": 0,
      "outputs": []
    },
    {
      "cell_type": "markdown",
      "metadata": {
        "colab_type": "text",
        "id": "cuOiKWfeybAl"
      },
      "source": [
        "### 3. Build a sequential neural network model which can classify the classes 0 to 4 of CIFAR10 dataset with at least 80% accuracy on test data"
      ]
    },
    {
      "cell_type": "code",
      "metadata": {
        "colab_type": "code",
        "id": "5HzxNbiiyoBD",
        "outputId": "6d1a8c45-9315-4403-e587-4e6b5ef0f465",
        "colab": {
          "base_uri": "https://localhost:8080/",
          "height": 108
        }
      },
      "source": [
        "# input image dimensions\n",
        "IMG_SIZE = 32\n",
        "# number of convolutional filters to use\n",
        "filters = 32\n",
        "# size of pooling area for max pooling\n",
        "pool_size = 2\n",
        "# convolution kernel size\n",
        "kernel_size = 3\n",
        "# number of classes\n",
        "num_classes = 10\n",
        "\n",
        "conv_layers = [\n",
        "    Conv2D(filters, kernel_size,\n",
        "           padding='valid',\n",
        "           input_shape=(IMG_SIZE, IMG_SIZE, 3)),\n",
        "    keras.layers.BatchNormalization(),\n",
        "    Activation('relu'),\n",
        "    MaxPooling2D(pool_size = pool_size),\n",
        "    Conv2D(64, kernel_size),\n",
        "    keras.layers.BatchNormalization(),\n",
        "    Activation('relu'),\n",
        "    MaxPooling2D(pool_size = pool_size),\n",
        "    Conv2D(96, kernel_size),\n",
        "    keras.layers.BatchNormalization(),\n",
        "    Activation('relu'),\n",
        "    MaxPooling2D(pool_size = pool_size),\n",
        "    Flatten(),\n",
        "]\n",
        "\n",
        "output_layers = [\n",
        "    Dense(128),\n",
        "    keras.layers.BatchNormalization(),\n",
        "    Activation('relu'),\n",
        "    Dropout(0.25),\n",
        "    Dense(num_classes),\n",
        "    Activation('softmax')\n",
        "]"
      ],
      "execution_count": 8,
      "outputs": [
        {
          "output_type": "stream",
          "text": [
            "WARNING: Logging before flag parsing goes to stderr.\n",
            "W0903 17:56:40.469971 139865737955200 deprecation_wrapper.py:119] From /usr/local/lib/python3.6/dist-packages/keras/backend/tensorflow_backend.py:66: The name tf.get_default_graph is deprecated. Please use tf.compat.v1.get_default_graph instead.\n",
            "\n"
          ],
          "name": "stderr"
        }
      ]
    },
    {
      "cell_type": "code",
      "metadata": {
        "colab_type": "code",
        "id": "0FeRs-2y-ugm",
        "colab": {}
      },
      "source": [
        "from keras.preprocessing.image import ImageDataGenerator\n",
        "#Attempting to use Data Augmentation\n",
        "data = ImageDataGenerator(samplewise_center=False, # set input mean to 0 over the sample\n",
        "                          samplewise_std_normalization=False,  # divide inputs by std of the sample\n",
        "                          rotation_range=90,       # randomly rotate images in the range (degrees, 0 to 180)\n",
        "                          width_shift_range=0.2,   # randomly shift images horizontally (fraction of total width)\n",
        "                          height_shift_range=0.2,  # randomly shift images vertically (fraction of total height)\n",
        "                          fill_mode='reflect',     # filling the area outside\n",
        "                          zoom_range=0.4,          # random zoom\n",
        "                          horizontal_flip=True,    # randomly flip images\n",
        "                          vertical_flip=True)      # randomly flip images"
      ],
      "execution_count": 0,
      "outputs": []
    },
    {
      "cell_type": "code",
      "metadata": {
        "colab_type": "code",
        "id": "WtCujqny8Rag",
        "outputId": "f321d474-15db-434e-cb56-b6c311ec863d",
        "colab": {
          "base_uri": "https://localhost:8080/",
          "height": 292
        }
      },
      "source": [
        "# create complete model\n",
        "model = Sequential(conv_layers + output_layers)\n",
        "\n",
        "# Save the model \n",
        "checkpoint = ModelCheckpoint(\"init_model_upto_4.h5\", monitor='val_acc', verbose=1, save_best_only=True, mode='auto')\n",
        "early = EarlyStopping(monitor='val_acc', min_delta=0, patience=5, verbose=1, mode='auto')"
      ],
      "execution_count": 10,
      "outputs": [
        {
          "output_type": "stream",
          "text": [
            "W0903 17:56:54.280496 139865737955200 deprecation_wrapper.py:119] From /usr/local/lib/python3.6/dist-packages/keras/backend/tensorflow_backend.py:541: The name tf.placeholder is deprecated. Please use tf.compat.v1.placeholder instead.\n",
            "\n",
            "W0903 17:56:54.295736 139865737955200 deprecation_wrapper.py:119] From /usr/local/lib/python3.6/dist-packages/keras/backend/tensorflow_backend.py:4432: The name tf.random_uniform is deprecated. Please use tf.random.uniform instead.\n",
            "\n",
            "W0903 17:56:54.333864 139865737955200 deprecation_wrapper.py:119] From /usr/local/lib/python3.6/dist-packages/keras/backend/tensorflow_backend.py:190: The name tf.get_default_session is deprecated. Please use tf.compat.v1.get_default_session instead.\n",
            "\n",
            "W0903 17:56:54.334785 139865737955200 deprecation_wrapper.py:119] From /usr/local/lib/python3.6/dist-packages/keras/backend/tensorflow_backend.py:197: The name tf.ConfigProto is deprecated. Please use tf.compat.v1.ConfigProto instead.\n",
            "\n",
            "W0903 17:56:57.528173 139865737955200 deprecation_wrapper.py:119] From /usr/local/lib/python3.6/dist-packages/keras/backend/tensorflow_backend.py:2041: The name tf.nn.fused_batch_norm is deprecated. Please use tf.compat.v1.nn.fused_batch_norm instead.\n",
            "\n",
            "W0903 17:56:57.596521 139865737955200 deprecation_wrapper.py:119] From /usr/local/lib/python3.6/dist-packages/keras/backend/tensorflow_backend.py:4267: The name tf.nn.max_pool is deprecated. Please use tf.nn.max_pool2d instead.\n",
            "\n",
            "W0903 17:56:57.831453 139865737955200 deprecation.py:506] From /usr/local/lib/python3.6/dist-packages/keras/backend/tensorflow_backend.py:3733: calling dropout (from tensorflow.python.ops.nn_ops) with keep_prob is deprecated and will be removed in a future version.\n",
            "Instructions for updating:\n",
            "Please use `rate` instead of `keep_prob`. Rate should be set to `rate = 1 - keep_prob`.\n"
          ],
          "name": "stderr"
        }
      ]
    },
    {
      "cell_type": "code",
      "metadata": {
        "colab_type": "code",
        "id": "Ak1xm5hI9RhL",
        "outputId": "efb1db25-8b11-47dd-cbfc-fa075d356eb9",
        "colab": {
          "base_uri": "https://localhost:8080/",
          "height": 799
        }
      },
      "source": [
        "model.summary()"
      ],
      "execution_count": 11,
      "outputs": [
        {
          "output_type": "stream",
          "text": [
            "Model: \"sequential_1\"\n",
            "_________________________________________________________________\n",
            "Layer (type)                 Output Shape              Param #   \n",
            "=================================================================\n",
            "conv2d_1 (Conv2D)            (None, 30, 30, 32)        896       \n",
            "_________________________________________________________________\n",
            "batch_normalization_1 (Batch (None, 30, 30, 32)        128       \n",
            "_________________________________________________________________\n",
            "activation_1 (Activation)    (None, 30, 30, 32)        0         \n",
            "_________________________________________________________________\n",
            "max_pooling2d_1 (MaxPooling2 (None, 15, 15, 32)        0         \n",
            "_________________________________________________________________\n",
            "conv2d_2 (Conv2D)            (None, 13, 13, 64)        18496     \n",
            "_________________________________________________________________\n",
            "batch_normalization_2 (Batch (None, 13, 13, 64)        256       \n",
            "_________________________________________________________________\n",
            "activation_2 (Activation)    (None, 13, 13, 64)        0         \n",
            "_________________________________________________________________\n",
            "max_pooling2d_2 (MaxPooling2 (None, 6, 6, 64)          0         \n",
            "_________________________________________________________________\n",
            "conv2d_3 (Conv2D)            (None, 4, 4, 96)          55392     \n",
            "_________________________________________________________________\n",
            "batch_normalization_3 (Batch (None, 4, 4, 96)          384       \n",
            "_________________________________________________________________\n",
            "activation_3 (Activation)    (None, 4, 4, 96)          0         \n",
            "_________________________________________________________________\n",
            "max_pooling2d_3 (MaxPooling2 (None, 2, 2, 96)          0         \n",
            "_________________________________________________________________\n",
            "flatten_1 (Flatten)          (None, 384)               0         \n",
            "_________________________________________________________________\n",
            "dense_1 (Dense)              (None, 128)               49280     \n",
            "_________________________________________________________________\n",
            "batch_normalization_4 (Batch (None, 128)               512       \n",
            "_________________________________________________________________\n",
            "activation_4 (Activation)    (None, 128)               0         \n",
            "_________________________________________________________________\n",
            "dropout_1 (Dropout)          (None, 128)               0         \n",
            "_________________________________________________________________\n",
            "dense_2 (Dense)              (None, 10)                1290      \n",
            "_________________________________________________________________\n",
            "activation_5 (Activation)    (None, 10)                0         \n",
            "=================================================================\n",
            "Total params: 126,634\n",
            "Trainable params: 125,994\n",
            "Non-trainable params: 640\n",
            "_________________________________________________________________\n"
          ],
          "name": "stdout"
        }
      ]
    },
    {
      "cell_type": "code",
      "metadata": {
        "colab_type": "code",
        "id": "Mphz01wyEuk5",
        "outputId": "f6c58164-ba7a-4547-a656-88fa0d9500b8",
        "colab": {
          "base_uri": "https://localhost:8080/",
          "height": 34
        }
      },
      "source": [
        "train_features_lt5.shape[0]"
      ],
      "execution_count": 12,
      "outputs": [
        {
          "output_type": "execute_result",
          "data": {
            "text/plain": [
              "25000"
            ]
          },
          "metadata": {
            "tags": []
          },
          "execution_count": 12
        }
      ]
    },
    {
      "cell_type": "code",
      "metadata": {
        "colab_type": "code",
        "id": "IOHYVgzJ9ZtT",
        "outputId": "5075e0ff-27cd-4dc9-cccd-0ba9791b1981",
        "colab": {
          "base_uri": "https://localhost:8080/",
          "height": 1000
        }
      },
      "source": [
        "model.compile(loss='binary_crossentropy', optimizer='adam', metrics=['accuracy'])\n",
        "\n",
        "history = model.fit_generator(data.flow(train_features_lt5, train_labels_lt5, batch_size = 512),\n",
        "          steps_per_epoch = train_features_lt5.shape[0]/350, epochs = 7,\n",
        "          verbose = 1,\n",
        "          callbacks = [checkpoint, early],\n",
        "          validation_data= (test_features_lt5, test_labels_lt5))"
      ],
      "execution_count": 13,
      "outputs": [
        {
          "output_type": "stream",
          "text": [
            "W0903 17:57:35.067324 139865737955200 deprecation_wrapper.py:119] From /usr/local/lib/python3.6/dist-packages/keras/optimizers.py:793: The name tf.train.Optimizer is deprecated. Please use tf.compat.v1.train.Optimizer instead.\n",
            "\n",
            "W0903 17:57:35.094924 139865737955200 deprecation.py:323] From /usr/local/lib/python3.6/dist-packages/tensorflow/python/ops/nn_impl.py:180: add_dispatch_support.<locals>.wrapper (from tensorflow.python.ops.array_ops) is deprecated and will be removed in a future version.\n",
            "Instructions for updating:\n",
            "Use tf.where in 2.0, which has the same broadcast rule as np.where\n"
          ],
          "name": "stderr"
        },
        {
          "output_type": "stream",
          "text": [
            "Epoch 1/7\n",
            "72/71 [==============================] - 17s 240ms/step - loss: 0.2388 - acc: 0.9066 - val_loss: 0.1933 - val_acc: 0.9166\n",
            "\n",
            "Epoch 00001: val_acc improved from -inf to 0.91664, saving model to init_model_upto_4.h5\n",
            "Epoch 2/7\n",
            "72/71 [==============================] - 14s 188ms/step - loss: 0.1956 - acc: 0.9154 - val_loss: 0.1875 - val_acc: 0.9162\n",
            "\n",
            "Epoch 00002: val_acc did not improve from 0.91664\n",
            "Epoch 3/7\n",
            "72/71 [==============================] - 14s 192ms/step - loss: 0.1846 - acc: 0.9202 - val_loss: 0.2622 - val_acc: 0.8952\n",
            "\n",
            "Epoch 00003: val_acc did not improve from 0.91664\n",
            "Epoch 4/7\n",
            "72/71 [==============================] - 14s 191ms/step - loss: 0.1763 - acc: 0.9237 - val_loss: 0.1766 - val_acc: 0.9212\n",
            "\n",
            "Epoch 00004: val_acc improved from 0.91664 to 0.92124, saving model to init_model_upto_4.h5\n",
            "Epoch 5/7\n",
            "72/71 [==============================] - 14s 192ms/step - loss: 0.1728 - acc: 0.9253 - val_loss: 0.1709 - val_acc: 0.9244\n",
            "\n",
            "Epoch 00005: val_acc improved from 0.92124 to 0.92438, saving model to init_model_upto_4.h5\n",
            "Epoch 6/7\n",
            "72/71 [==============================] - 14s 190ms/step - loss: 0.1688 - acc: 0.9271 - val_loss: 0.1611 - val_acc: 0.9285\n",
            "\n",
            "Epoch 00006: val_acc improved from 0.92438 to 0.92846, saving model to init_model_upto_4.h5\n",
            "Epoch 7/7\n",
            "72/71 [==============================] - 14s 191ms/step - loss: 0.1645 - acc: 0.9289 - val_loss: 0.1766 - val_acc: 0.9232\n",
            "\n",
            "Epoch 00007: val_acc did not improve from 0.92846\n"
          ],
          "name": "stdout"
        }
      ]
    },
    {
      "cell_type": "code",
      "metadata": {
        "colab_type": "code",
        "id": "tpsOiNi1clLt",
        "outputId": "9421bb3c-217e-472c-c533-10fa68193fcf",
        "colab": {
          "base_uri": "https://localhost:8080/",
          "height": 51
        }
      },
      "source": [
        "output_model_train = model.evaluate(train_features_lt5, train_labels_lt5)\n",
        "output_model_test = model.evaluate(test_features_lt5, test_labels_lt5)"
      ],
      "execution_count": 14,
      "outputs": [
        {
          "output_type": "stream",
          "text": [
            "25000/25000 [==============================] - 2s 91us/step\n",
            "5000/5000 [==============================] - 0s 89us/step\n"
          ],
          "name": "stdout"
        }
      ]
    },
    {
      "cell_type": "code",
      "metadata": {
        "colab_type": "code",
        "id": "M1VNWToZcxPY",
        "outputId": "60e61c01-9a0f-4d0c-fecd-2b5b21b9f363",
        "colab": {
          "base_uri": "https://localhost:8080/",
          "height": 51
        }
      },
      "source": [
        "print('Model Train Accuracy:', output_model_train[1] * 100, \"%\")\n",
        "print('Model Test accuracy:', output_model_test[1] * 100, \"%\")"
      ],
      "execution_count": 15,
      "outputs": [
        {
          "output_type": "stream",
          "text": [
            "Model Train Accuracy: 92.35079903030396 %\n",
            "Model Test accuracy: 92.32199946403503 %\n"
          ],
          "name": "stdout"
        }
      ]
    },
    {
      "cell_type": "code",
      "metadata": {
        "colab_type": "code",
        "id": "6unHGzLkd1ha",
        "outputId": "12fa122d-895d-4114-b0d6-23d907676431",
        "colab": {
          "base_uri": "https://localhost:8080/",
          "height": 295
        }
      },
      "source": [
        "import matplotlib.pyplot as plt\n",
        "\n",
        "loss = history.history['loss']\n",
        "val_loss = history.history['val_loss']\n",
        "epochs = range(1, len(loss) + 1)\n",
        "plt.plot(epochs, loss, color='red', label='Training loss')\n",
        "plt.plot(epochs, val_loss, color='green', label='Validation loss')\n",
        "plt.title('Training and validation loss')\n",
        "plt.xlabel('Epochs')\n",
        "plt.ylabel('Loss')\n",
        "plt.legend()\n",
        "plt.show()"
      ],
      "execution_count": 16,
      "outputs": [
        {
          "output_type": "display_data",
          "data": {
            "image/png": "[encoded data removed]",
            "text/plain": [
              "<Figure size 432x288 with 1 Axes>"
            ]
          },
          "metadata": {
            "tags": []
          }
        }
      ]
    },
    {
      "cell_type": "code",
      "metadata": {
        "colab_type": "code",
        "id": "1gN7ysgXeUmy",
        "outputId": "27276cf0-6e72-4d3f-9f07-298cf0fec8ff",
        "colab": {
          "base_uri": "https://localhost:8080/",
          "height": 295
        }
      },
      "source": [
        "acc = history.history['acc']\n",
        "val_acc = history.history['val_acc']\n",
        "plt.plot(epochs, acc, color='red', label='Training acc')\n",
        "plt.plot(epochs, val_acc, color='green', label='Validation acc')\n",
        "plt.title('Training and validation accuracy')\n",
        "plt.xlabel('Epochs')\n",
        "plt.ylabel('Loss')\n",
        "plt.legend()\n",
        "plt.show()"
      ],
      "execution_count": 17,
      "outputs": [
        {
          "output_type": "display_data",
          "data": {
            "image/png": "[encoded data removed]",
            "text/plain": [
              "<Figure size 432x288 with 1 Axes>"
            ]
          },
          "metadata": {
            "tags": []
          }
        }
      ]
    },
    {
      "cell_type": "markdown",
      "metadata": {
        "colab_type": "text",
        "id": "WLzeCv5gfKnj"
      },
      "source": [
        "## Kindly do not consider below model. POC only."
      ]
    },
    {
      "cell_type": "code",
      "metadata": {
        "colab_type": "code",
        "id": "ciGhegPdiliP",
        "colab": {}
      },
      "source": [
        "#New Model, with Reference from an internet source (POC only, Please dont consider) #Please do not consider. Abandoned this approach.\n",
        "model_new = Sequential()\n",
        "model_new.add(Conv2D(32, kernel_size, padding='valid', input_shape=(IMG_SIZE, IMG_SIZE, 3)))\n",
        "model_new.add(keras.layers.BatchNormalization())\n",
        "model_new.add(Activation('relu'))\n",
        "model_new.add(Conv2D(32, kernel_size))\n",
        "model_new.add(keras.layers.BatchNormalization())\n",
        "model_new.add(Activation('relu'))\n",
        "model_new.add(MaxPooling2D(pool_size= pool_size))\n",
        "model_new.add(keras.layers.BatchNormalization())\n",
        "model_new.add(Activation('relu'))\n",
        "model_new.add(Conv2D(64, kernel_size))\n",
        "model_new.add(keras.layers.BatchNormalization())\n",
        "model_new.add(Activation('relu'))\n",
        "model_new.add(MaxPooling2D(pool_size= pool_size))\n",
        "model_new.add(Conv2D(64, kernel_size))\n",
        "model_new.add(keras.layers.BatchNormalization())\n",
        "model_new.add(Activation('relu'))\n",
        "model_new.add(Conv2D(96, kernel_size))\n",
        "model_new.add(keras.layers.BatchNormalization())\n",
        "model_new.add(Activation('relu'))\n",
        "model_new.add(MaxPooling2D(pool_size= pool_size))\n",
        "model_new.add(Flatten())\n",
        "model_new.add(Dense(512))\n",
        "model_new.add(Activation('relu'))\n",
        "model_new.add(Dropout(0.5))\n",
        "model_new.add(Dense(256))\n",
        "model_new.add(Activation('relu'))\n",
        "model_new.add(Dropout(0.5))\n",
        "model_new.add(Dense(num_classes, activation='softmax'))"
      ],
      "execution_count": 0,
      "outputs": []
    },
    {
      "cell_type": "code",
      "metadata": {
        "colab_type": "code",
        "id": "etKjxajrniU3",
        "outputId": "624dc0d2-edfd-49bb-eaec-0ac52d8a4d08",
        "colab": {
          "base_uri": "https://localhost:8080/",
          "height": 1000
        }
      },
      "source": [
        "model_new.summary()"
      ],
      "execution_count": 19,
      "outputs": [
        {
          "output_type": "stream",
          "text": [
            "Model: \"sequential_2\"\n",
            "_________________________________________________________________\n",
            "Layer (type)                 Output Shape              Param #   \n",
            "=================================================================\n",
            "conv2d_4 (Conv2D)            (None, 30, 30, 32)        896       \n",
            "_________________________________________________________________\n",
            "batch_normalization_5 (Batch (None, 30, 30, 32)        128       \n",
            "_________________________________________________________________\n",
            "activation_6 (Activation)    (None, 30, 30, 32)        0         \n",
            "_________________________________________________________________\n",
            "conv2d_5 (Conv2D)            (None, 28, 28, 32)        9248      \n",
            "_________________________________________________________________\n",
            "batch_normalization_6 (Batch (None, 28, 28, 32)        128       \n",
            "_________________________________________________________________\n",
            "activation_7 (Activation)    (None, 28, 28, 32)        0         \n",
            "_________________________________________________________________\n",
            "max_pooling2d_4 (MaxPooling2 (None, 14, 14, 32)        0         \n",
            "_________________________________________________________________\n",
            "batch_normalization_7 (Batch (None, 14, 14, 32)        128       \n",
            "_________________________________________________________________\n",
            "activation_8 (Activation)    (None, 14, 14, 32)        0         \n",
            "_________________________________________________________________\n",
            "conv2d_6 (Conv2D)            (None, 12, 12, 64)        18496     \n",
            "_________________________________________________________________\n",
            "batch_normalization_8 (Batch (None, 12, 12, 64)        256       \n",
            "_________________________________________________________________\n",
            "activation_9 (Activation)    (None, 12, 12, 64)        0         \n",
            "_________________________________________________________________\n",
            "max_pooling2d_5 (MaxPooling2 (None, 6, 6, 64)          0         \n",
            "_________________________________________________________________\n",
            "conv2d_7 (Conv2D)            (None, 4, 4, 64)          36928     \n",
            "_________________________________________________________________\n",
            "batch_normalization_9 (Batch (None, 4, 4, 64)          256       \n",
            "_________________________________________________________________\n",
            "activation_10 (Activation)   (None, 4, 4, 64)          0         \n",
            "_________________________________________________________________\n",
            "conv2d_8 (Conv2D)            (None, 2, 2, 96)          55392     \n",
            "_________________________________________________________________\n",
            "batch_normalization_10 (Batc (None, 2, 2, 96)          384       \n",
            "_________________________________________________________________\n",
            "activation_11 (Activation)   (None, 2, 2, 96)          0         \n",
            "_________________________________________________________________\n",
            "max_pooling2d_6 (MaxPooling2 (None, 1, 1, 96)          0         \n",
            "_________________________________________________________________\n",
            "flatten_2 (Flatten)          (None, 96)                0         \n",
            "_________________________________________________________________\n",
            "dense_3 (Dense)              (None, 512)               49664     \n",
            "_________________________________________________________________\n",
            "activation_12 (Activation)   (None, 512)               0         \n",
            "_________________________________________________________________\n",
            "dropout_2 (Dropout)          (None, 512)               0         \n",
            "_________________________________________________________________\n",
            "dense_4 (Dense)              (None, 256)               131328    \n",
            "_________________________________________________________________\n",
            "activation_13 (Activation)   (None, 256)               0         \n",
            "_________________________________________________________________\n",
            "dropout_3 (Dropout)          (None, 256)               0         \n",
            "_________________________________________________________________\n",
            "dense_5 (Dense)              (None, 10)                2570      \n",
            "=================================================================\n",
            "Total params: 305,802\n",
            "Trainable params: 305,162\n",
            "Non-trainable params: 640\n",
            "_________________________________________________________________\n"
          ],
          "name": "stdout"
        }
      ]
    },
    {
      "cell_type": "code",
      "metadata": {
        "colab_type": "code",
        "id": "4MBh_T-XE4s9",
        "colab": {}
      },
      "source": [
        "#model_new.compile(loss='categorical_crossentropy', optimizer='adam', metrics=['accuracy'])\n",
        "\n",
        "#history_new = model_new.fit_generator(data.flow(train_features_lt5, train_labels_lt5, batch_size = 128),\n",
        "#         steps_per_epoch = train_features_lt5.shape[0]/256, nb_epoch = 50,\n",
        "#         verbose = 1,\n",
        "#          callbacks = [checkpoint, early],\n",
        "#          validation_data= (test_features_lt5, test_labels_lt5))\n",
        "#Abandoned Model, Not to be considered"
      ],
      "execution_count": 0,
      "outputs": []
    },
    {
      "cell_type": "markdown",
      "metadata": {
        "colab_type": "text",
        "id": "SvSdHeJCfU9V"
      },
      "source": [
        "## Transfer Learning Starts Here"
      ]
    },
    {
      "cell_type": "markdown",
      "metadata": {
        "colab_type": "text",
        "id": "woTfNst_ynRG"
      },
      "source": [
        "### 4. In the model which was built above (for classification of classes 0-4 in CIFAR10), make only the dense layers to be trainable and conv layers to be non-trainable"
      ]
    },
    {
      "cell_type": "code",
      "metadata": {
        "colab_type": "code",
        "id": "o_VCDB3Byb1a",
        "colab": {}
      },
      "source": [
        "#Freezing layers in the model which don't have 'dense' in their name\n",
        "for layer in model.layers:\n",
        "    if('dense' not in layer.name): #prefix detection to freeze layers which does not have dense\n",
        "    #Freezing a layer\n",
        "        layer.trainable = False"
      ],
      "execution_count": 0,
      "outputs": []
    },
    {
      "cell_type": "code",
      "metadata": {
        "colab_type": "code",
        "id": "SskEmBC19JdH",
        "outputId": "d26972ca-7b1d-4f89-9496-606c46eae35e",
        "colab": {
          "base_uri": "https://localhost:8080/",
          "height": 663
        }
      },
      "source": [
        "#Module to print colourful statements\n",
        "from termcolor import colored\n",
        "\n",
        "#Check which layers have been frozen \n",
        "for layer in model.layers:\n",
        "    print (colored(layer.name, 'blue'))\n",
        "    print (colored(layer.trainable, 'red'))"
      ],
      "execution_count": 22,
      "outputs": [
        {
          "output_type": "stream",
          "text": [
            "\u001b[34mconv2d_1\u001b[0m\n",
            "\u001b[31mFalse\u001b[0m\n",
            "\u001b[34mbatch_normalization_1\u001b[0m\n",
            "\u001b[31mFalse\u001b[0m\n",
            "\u001b[34mactivation_1\u001b[0m\n",
            "\u001b[31mFalse\u001b[0m\n",
            "\u001b[34mmax_pooling2d_1\u001b[0m\n",
            "\u001b[31mFalse\u001b[0m\n",
            "\u001b[34mconv2d_2\u001b[0m\n",
            "\u001b[31mFalse\u001b[0m\n",
            "\u001b[34mbatch_normalization_2\u001b[0m\n",
            "\u001b[31mFalse\u001b[0m\n",
            "\u001b[34mactivation_2\u001b[0m\n",
            "\u001b[31mFalse\u001b[0m\n",
            "\u001b[34mmax_pooling2d_2\u001b[0m\n",
            "\u001b[31mFalse\u001b[0m\n",
            "\u001b[34mconv2d_3\u001b[0m\n",
            "\u001b[31mFalse\u001b[0m\n",
            "\u001b[34mbatch_normalization_3\u001b[0m\n",
            "\u001b[31mFalse\u001b[0m\n",
            "\u001b[34mactivation_3\u001b[0m\n",
            "\u001b[31mFalse\u001b[0m\n",
            "\u001b[34mmax_pooling2d_3\u001b[0m\n",
            "\u001b[31mFalse\u001b[0m\n",
            "\u001b[34mflatten_1\u001b[0m\n",
            "\u001b[31mFalse\u001b[0m\n",
            "\u001b[34mdense_1\u001b[0m\n",
            "\u001b[31mTrue\u001b[0m\n",
            "\u001b[34mbatch_normalization_4\u001b[0m\n",
            "\u001b[31mFalse\u001b[0m\n",
            "\u001b[34mactivation_4\u001b[0m\n",
            "\u001b[31mFalse\u001b[0m\n",
            "\u001b[34mdropout_1\u001b[0m\n",
            "\u001b[31mFalse\u001b[0m\n",
            "\u001b[34mdense_2\u001b[0m\n",
            "\u001b[31mTrue\u001b[0m\n",
            "\u001b[34mactivation_5\u001b[0m\n",
            "\u001b[31mFalse\u001b[0m\n"
          ],
          "name": "stdout"
        }
      ]
    },
    {
      "cell_type": "markdown",
      "metadata": {
        "colab_type": "text",
        "id": "1-uUPqWpyeyX"
      },
      "source": [
        "### 5. Utilize the the model trained on CIFAR 10 (classes 0 to 4) to classify the classes 5 to 9 of CIFAR 10  (Use Transfer Learning) <br>\n",
        "Achieve an accuracy of more than 85% on test data"
      ]
    },
    {
      "cell_type": "code",
      "metadata": {
        "colab_type": "code",
        "id": "zfiJmT08H6UJ",
        "colab": {}
      },
      "source": [
        "train_features_gte5 = x_train_gte5.astype('float32')/255\n",
        "test_features_gte5 = x_test_gte5.astype('float32')/255\n",
        "train_labels_gte5 = keras.utils.to_categorical(y_train_gte5, 10)\n",
        "test_labels_gte5 = keras.utils.to_categorical(y_test_gte5, 10)"
      ],
      "execution_count": 0,
      "outputs": []
    },
    {
      "cell_type": "code",
      "metadata": {
        "colab_type": "code",
        "id": "2KQh5HGTyygn",
        "outputId": "8824ed18-cabe-493c-f661-76f647ed9ea2",
        "colab": {
          "base_uri": "https://localhost:8080/",
          "height": 51
        }
      },
      "source": [
        "print(train_labels_gte5.shape)\n",
        "print(test_labels_gte5.shape)"
      ],
      "execution_count": 24,
      "outputs": [
        {
          "output_type": "stream",
          "text": [
            "(25000, 10)\n",
            "(5000, 10)\n"
          ],
          "name": "stdout"
        }
      ]
    },
    {
      "cell_type": "code",
      "metadata": {
        "colab_type": "code",
        "id": "vps9DBC8JVJe",
        "outputId": "dd2ab3fe-f4c4-4122-cdca-8c97a6168c37",
        "colab": {
          "base_uri": "https://localhost:8080/",
          "height": 663
        }
      },
      "source": [
        "#Module to print colourful statements\n",
        "from termcolor import colored\n",
        "\n",
        "#Check which layers have been frozen \n",
        "for layer in model.layers:\n",
        "    print (colored(layer.name, 'blue'))\n",
        "    print (colored(layer.trainable, 'red'))"
      ],
      "execution_count": 25,
      "outputs": [
        {
          "output_type": "stream",
          "text": [
            "\u001b[34mconv2d_1\u001b[0m\n",
            "\u001b[31mFalse\u001b[0m\n",
            "\u001b[34mbatch_normalization_1\u001b[0m\n",
            "\u001b[31mFalse\u001b[0m\n",
            "\u001b[34mactivation_1\u001b[0m\n",
            "\u001b[31mFalse\u001b[0m\n",
            "\u001b[34mmax_pooling2d_1\u001b[0m\n",
            "\u001b[31mFalse\u001b[0m\n",
            "\u001b[34mconv2d_2\u001b[0m\n",
            "\u001b[31mFalse\u001b[0m\n",
            "\u001b[34mbatch_normalization_2\u001b[0m\n",
            "\u001b[31mFalse\u001b[0m\n",
            "\u001b[34mactivation_2\u001b[0m\n",
            "\u001b[31mFalse\u001b[0m\n",
            "\u001b[34mmax_pooling2d_2\u001b[0m\n",
            "\u001b[31mFalse\u001b[0m\n",
            "\u001b[34mconv2d_3\u001b[0m\n",
            "\u001b[31mFalse\u001b[0m\n",
            "\u001b[34mbatch_normalization_3\u001b[0m\n",
            "\u001b[31mFalse\u001b[0m\n",
            "\u001b[34mactivation_3\u001b[0m\n",
            "\u001b[31mFalse\u001b[0m\n",
            "\u001b[34mmax_pooling2d_3\u001b[0m\n",
            "\u001b[31mFalse\u001b[0m\n",
            "\u001b[34mflatten_1\u001b[0m\n",
            "\u001b[31mFalse\u001b[0m\n",
            "\u001b[34mdense_1\u001b[0m\n",
            "\u001b[31mTrue\u001b[0m\n",
            "\u001b[34mbatch_normalization_4\u001b[0m\n",
            "\u001b[31mFalse\u001b[0m\n",
            "\u001b[34mactivation_4\u001b[0m\n",
            "\u001b[31mFalse\u001b[0m\n",
            "\u001b[34mdropout_1\u001b[0m\n",
            "\u001b[31mFalse\u001b[0m\n",
            "\u001b[34mdense_2\u001b[0m\n",
            "\u001b[31mTrue\u001b[0m\n",
            "\u001b[34mactivation_5\u001b[0m\n",
            "\u001b[31mFalse\u001b[0m\n"
          ],
          "name": "stdout"
        }
      ]
    },
    {
      "cell_type": "code",
      "metadata": {
        "colab_type": "code",
        "id": "jPUN9UL2II4k",
        "outputId": "681aa21f-e8f1-4e2b-fa0f-b8ebb5a82d95",
        "colab": {
          "base_uri": "https://localhost:8080/",
          "height": 340
        }
      },
      "source": [
        "model.layers"
      ],
      "execution_count": 26,
      "outputs": [
        {
          "output_type": "execute_result",
          "data": {
            "text/plain": [
              "[<keras.layers.convolutional.Conv2D at 0x7f34a5258b38>,\n",
              " <keras.layers.normalization.BatchNormalization at 0x7f34a5258c18>,\n",
              " <keras.layers.core.Activation at 0x7f34a5258eb8>,\n",
              " <keras.layers.pooling.MaxPooling2D at 0x7f34a5258ef0>,\n",
              " <keras.layers.convolutional.Conv2D at 0x7f34a5258f98>,\n",
              " <keras.layers.normalization.BatchNormalization at 0x7f34a41ac160>,\n",
              " <keras.layers.core.Activation at 0x7f34a41ac278>,\n",
              " <keras.layers.pooling.MaxPooling2D at 0x7f34a41ac2b0>,\n",
              " <keras.layers.convolutional.Conv2D at 0x7f34a41ac358>,\n",
              " <keras.layers.normalization.BatchNormalization at 0x7f34a41ac4e0>,\n",
              " <keras.layers.core.Activation at 0x7f34a41ac5f8>,\n",
              " <keras.layers.pooling.MaxPooling2D at 0x7f34a41ac630>,\n",
              " <keras.layers.core.Flatten at 0x7f34a41ac6d8>,\n",
              " <keras.layers.core.Dense at 0x7f34a41ac780>,\n",
              " <keras.layers.normalization.BatchNormalization at 0x7f34a41ac908>,\n",
              " <keras.layers.core.Activation at 0x7f34a41aca20>,\n",
              " <keras.layers.core.Dropout at 0x7f34a41aca58>,\n",
              " <keras.layers.core.Dense at 0x7f34a41aca90>,\n",
              " <keras.layers.core.Activation at 0x7f34a41acc18>]"
            ]
          },
          "metadata": {
            "tags": []
          },
          "execution_count": 26
        }
      ]
    },
    {
      "cell_type": "code",
      "metadata": {
        "colab_type": "code",
        "id": "T8Jk3gYQ4icE",
        "colab": {}
      },
      "source": [
        "trans_model = Sequential(model.layers[:13])"
      ],
      "execution_count": 0,
      "outputs": []
    },
    {
      "cell_type": "code",
      "metadata": {
        "colab_type": "code",
        "id": "gYAwhmqgIwq8",
        "outputId": "74d3003a-108a-4465-e5b4-e5cbb56c49ce",
        "colab": {
          "base_uri": "https://localhost:8080/",
          "height": 765
        }
      },
      "source": [
        "trans_model.add(Dense(256))\n",
        "trans_model.add(Activation('relu'))\n",
        "trans_model.add(Dropout(0.25))\n",
        "trans_model.add(Dense(10))\n",
        "trans_model.add(Activation('softmax'))\n",
        "trans_model.summary()"
      ],
      "execution_count": 28,
      "outputs": [
        {
          "output_type": "stream",
          "text": [
            "Model: \"sequential_3\"\n",
            "_________________________________________________________________\n",
            "Layer (type)                 Output Shape              Param #   \n",
            "=================================================================\n",
            "conv2d_1 (Conv2D)            (None, 30, 30, 32)        896       \n",
            "_________________________________________________________________\n",
            "batch_normalization_1 (Batch (None, 30, 30, 32)        128       \n",
            "_________________________________________________________________\n",
            "activation_1 (Activation)    (None, 30, 30, 32)        0         \n",
            "_________________________________________________________________\n",
            "max_pooling2d_1 (MaxPooling2 (None, 15, 15, 32)        0         \n",
            "_________________________________________________________________\n",
            "conv2d_2 (Conv2D)            (None, 13, 13, 64)        18496     \n",
            "_________________________________________________________________\n",
            "batch_normalization_2 (Batch (None, 13, 13, 64)        256       \n",
            "_________________________________________________________________\n",
            "activation_2 (Activation)    (None, 13, 13, 64)        0         \n",
            "_________________________________________________________________\n",
            "max_pooling2d_2 (MaxPooling2 (None, 6, 6, 64)          0         \n",
            "_________________________________________________________________\n",
            "conv2d_3 (Conv2D)            (None, 4, 4, 96)          55392     \n",
            "_________________________________________________________________\n",
            "batch_normalization_3 (Batch (None, 4, 4, 96)          384       \n",
            "_________________________________________________________________\n",
            "activation_3 (Activation)    (None, 4, 4, 96)          0         \n",
            "_________________________________________________________________\n",
            "max_pooling2d_3 (MaxPooling2 (None, 2, 2, 96)          0         \n",
            "_________________________________________________________________\n",
            "flatten_1 (Flatten)          (None, 384)               0         \n",
            "_________________________________________________________________\n",
            "dense_6 (Dense)              (None, 256)               98560     \n",
            "_________________________________________________________________\n",
            "activation_14 (Activation)   (None, 256)               0         \n",
            "_________________________________________________________________\n",
            "dropout_4 (Dropout)          (None, 256)               0         \n",
            "_________________________________________________________________\n",
            "dense_7 (Dense)              (None, 10)                2570      \n",
            "_________________________________________________________________\n",
            "activation_15 (Activation)   (None, 10)                0         \n",
            "=================================================================\n",
            "Total params: 176,682\n",
            "Trainable params: 101,130\n",
            "Non-trainable params: 75,552\n",
            "_________________________________________________________________\n"
          ],
          "name": "stdout"
        }
      ]
    },
    {
      "cell_type": "code",
      "metadata": {
        "colab_type": "code",
        "id": "HcTjM_xP45cb",
        "colab": {}
      },
      "source": [
        "trans_model.compile(loss='categorical_crossentropy', optimizer=\"adam\", metrics=['accuracy'])"
      ],
      "execution_count": 0,
      "outputs": []
    },
    {
      "cell_type": "code",
      "metadata": {
        "colab_type": "code",
        "id": "e4c8jyfE5oxr",
        "outputId": "4111daa1-5e77-4c05-823e-a0389cb97f57",
        "colab": {
          "base_uri": "https://localhost:8080/",
          "height": 714
        }
      },
      "source": [
        "output_transfer = trans_model.fit(train_features_gte5, train_labels_gte5, batch_size = 256, epochs = 20,verbose = 2,\n",
        "          validation_data= (test_features_gte5, test_labels_gte5))"
      ],
      "execution_count": 30,
      "outputs": [
        {
          "output_type": "stream",
          "text": [
            "Train on 25000 samples, validate on 5000 samples\n",
            "Epoch 1/20\n",
            " - 2s - loss: 0.9335 - acc: 0.6478 - val_loss: 1.0710 - val_acc: 0.5852\n",
            "Epoch 2/20\n",
            " - 1s - loss: 0.6924 - acc: 0.7437 - val_loss: 1.0153 - val_acc: 0.6108\n",
            "Epoch 3/20\n",
            " - 1s - loss: 0.6329 - acc: 0.7660 - val_loss: 0.8793 - val_acc: 0.6646\n",
            "Epoch 4/20\n",
            " - 1s - loss: 0.5916 - acc: 0.7801 - val_loss: 0.7882 - val_acc: 0.7044\n",
            "Epoch 5/20\n",
            " - 1s - loss: 0.5671 - acc: 0.7898 - val_loss: 0.8860 - val_acc: 0.6666\n",
            "Epoch 6/20\n",
            " - 1s - loss: 0.5362 - acc: 0.8027 - val_loss: 0.8643 - val_acc: 0.6704\n",
            "Epoch 7/20\n",
            " - 1s - loss: 0.5177 - acc: 0.8101 - val_loss: 0.8185 - val_acc: 0.6870\n",
            "Epoch 8/20\n",
            " - 1s - loss: 0.5012 - acc: 0.8153 - val_loss: 0.8721 - val_acc: 0.6810\n",
            "Epoch 9/20\n",
            " - 1s - loss: 0.4854 - acc: 0.8222 - val_loss: 0.8585 - val_acc: 0.6832\n",
            "Epoch 10/20\n",
            " - 1s - loss: 0.4662 - acc: 0.8279 - val_loss: 0.8808 - val_acc: 0.6808\n",
            "Epoch 11/20\n",
            " - 1s - loss: 0.4555 - acc: 0.8328 - val_loss: 0.7446 - val_acc: 0.7248\n",
            "Epoch 12/20\n",
            " - 1s - loss: 0.4439 - acc: 0.8360 - val_loss: 0.9333 - val_acc: 0.6758\n",
            "Epoch 13/20\n",
            " - 1s - loss: 0.4254 - acc: 0.8438 - val_loss: 0.9764 - val_acc: 0.6694\n",
            "Epoch 14/20\n",
            " - 1s - loss: 0.4216 - acc: 0.8463 - val_loss: 0.8280 - val_acc: 0.7028\n",
            "Epoch 15/20\n",
            " - 1s - loss: 0.4120 - acc: 0.8522 - val_loss: 0.8128 - val_acc: 0.7092\n",
            "Epoch 16/20\n",
            " - 1s - loss: 0.4006 - acc: 0.8542 - val_loss: 0.7548 - val_acc: 0.7296\n",
            "Epoch 17/20\n",
            " - 1s - loss: 0.3876 - acc: 0.8587 - val_loss: 0.8720 - val_acc: 0.7018\n",
            "Epoch 18/20\n",
            " - 1s - loss: 0.3772 - acc: 0.8634 - val_loss: 0.9135 - val_acc: 0.6932\n",
            "Epoch 19/20\n",
            " - 1s - loss: 0.3678 - acc: 0.8663 - val_loss: 0.8099 - val_acc: 0.7262\n",
            "Epoch 20/20\n",
            " - 1s - loss: 0.3587 - acc: 0.8696 - val_loss: 0.8881 - val_acc: 0.6972\n"
          ],
          "name": "stdout"
        }
      ]
    },
    {
      "cell_type": "code",
      "metadata": {
        "colab_type": "code",
        "id": "ynYN5a8Ybryy",
        "outputId": "59ae29cb-48b9-40dc-dec2-bc722ded0df9",
        "colab": {
          "base_uri": "https://localhost:8080/",
          "height": 51
        }
      },
      "source": [
        "output_transfer_model_train = trans_model.evaluate(train_features_gte5, train_labels_gte5)\n",
        "output_transfer_model_test = trans_model.evaluate(test_features_gte5, test_labels_gte5)"
      ],
      "execution_count": 31,
      "outputs": [
        {
          "output_type": "stream",
          "text": [
            "25000/25000 [==============================] - 2s 85us/step\n",
            "5000/5000 [==============================] - 0s 82us/step\n"
          ],
          "name": "stdout"
        }
      ]
    },
    {
      "cell_type": "code",
      "metadata": {
        "colab_type": "code",
        "id": "RcuR8tVCcI6J",
        "outputId": "8a534b10-b292-4ac3-dc43-af61ea01e05d",
        "colab": {
          "base_uri": "https://localhost:8080/",
          "height": 51
        }
      },
      "source": [
        "print('Transfer Model Train Accuracy:', output_transfer_model_train[1] * 100, \"%\")\n",
        "print('Transfer Model Test accuracy:', output_transfer_model_test[1] * 100, \"%\")"
      ],
      "execution_count": 33,
      "outputs": [
        {
          "output_type": "stream",
          "text": [
            "Transfer Model Train Accuracy: 73.312 %\n",
            "Transfer Model Test accuracy: 69.72 %\n"
          ],
          "name": "stdout"
        }
      ]
    },
    {
      "cell_type": "code",
      "metadata": {
        "colab_type": "code",
        "id": "IT6iT11uec6P",
        "outputId": "c3b0cdf6-8d49-4b7d-9270-ecaa2a3519b5",
        "colab": {
          "base_uri": "https://localhost:8080/",
          "height": 295
        }
      },
      "source": [
        "import matplotlib.pyplot as plt\n",
        "\n",
        "loss = output_transfer.history['loss']\n",
        "val_loss = output_transfer.history['val_loss']\n",
        "epochs = range(1, len(loss) + 1)\n",
        "plt.plot(epochs, loss, color='red', label='Training loss')\n",
        "plt.plot(epochs, val_loss, color='green', label='Validation loss')\n",
        "plt.title('Training and validation loss')\n",
        "plt.xlabel('Epochs')\n",
        "plt.ylabel('Loss')\n",
        "plt.legend()\n",
        "plt.show()"
      ],
      "execution_count": 34,
      "outputs": [
        {
          "output_type": "display_data",
          "data": {
            "image/png": "[encoded data removed]",
            "text/plain": [
              "<Figure size 432x288 with 1 Axes>"
            ]
          },
          "metadata": {
            "tags": []
          }
        }
      ]
    },
    {
      "cell_type": "code",
      "metadata": {
        "colab_type": "code",
        "id": "Hmea0q9pedDE",
        "outputId": "8ed6b311-ffe9-4b1e-8d9a-3a9025a6881c",
        "colab": {
          "base_uri": "https://localhost:8080/",
          "height": 295
        }
      },
      "source": [
        "acc = output_transfer.history['acc']\n",
        "val_acc = output_transfer.history['val_acc']\n",
        "plt.plot(epochs, acc, color='red', label='Training acc')\n",
        "plt.plot(epochs, val_acc, color='green', label='Validation acc')\n",
        "plt.title('Training and validation accuracy')\n",
        "plt.xlabel('Epochs')\n",
        "plt.ylabel('Loss')\n",
        "plt.legend()\n",
        "plt.show()"
      ],
      "execution_count": 35,
      "outputs": [
        {
          "output_type": "display_data",
          "data": {
            "image/png": "[encoded data removed]",
            "text/plain": [
              "<Figure size 432x288 with 1 Axes>"
            ]
          },
          "metadata": {
            "tags": []
          }
        }
      ]
    },
    {
      "cell_type": "markdown",
      "metadata": {
        "colab_type": "text",
        "id": "0zDuRecXzEtr"
      },
      "source": [
        "# Text classification using TF-IDF"
      ]
    },
    {
      "cell_type": "markdown",
      "metadata": {
        "colab_type": "text",
        "id": "xMPlEJhHzb6P"
      },
      "source": [
        "### 6. Load the dataset from sklearn.datasets"
      ]
    },
    {
      "cell_type": "code",
      "metadata": {
        "colab_type": "code",
        "id": "Fe-B59u3zHNb",
        "colab": {}
      },
      "source": [
        "from sklearn.datasets import fetch_20newsgroups"
      ],
      "execution_count": 0,
      "outputs": []
    },
    {
      "cell_type": "code",
      "metadata": {
        "colab_type": "code",
        "id": "PRrMemVQzbHU",
        "colab": {}
      },
      "source": [
        "categories = ['alt.atheism', 'soc.religion.christian', 'comp.graphics', 'sci.med']"
      ],
      "execution_count": 0,
      "outputs": []
    },
    {
      "cell_type": "markdown",
      "metadata": {
        "colab_type": "text",
        "id": "-sZX0UbJzmg5"
      },
      "source": [
        "### 7. Training data"
      ]
    },
    {
      "cell_type": "code",
      "metadata": {
        "colab_type": "code",
        "id": "CITr_5aXziJ2",
        "outputId": "af4e5e81-7c83-4b1b-c05f-f85b56e1dc0f",
        "colab": {
          "base_uri": "https://localhost:8080/",
          "height": 145
        }
      },
      "source": [
        "twenty_train = fetch_20newsgroups(subset='train', categories=categories, shuffle=True, random_state=42)"
      ],
      "execution_count": 38,
      "outputs": [
        {
          "output_type": "stream",
          "text": [
            "Downloading 20news dataset. This may take a few minutes.\n",
            "I0903 18:03:53.269506 139865737955200 twenty_newsgroups.py:247] Downloading 20news dataset. This may take a few minutes.\n",
            "Downloading dataset from https://ndownloader.figshare.com/files/5975967 (14 MB)\n",
            "I0903 18:03:53.272052 139865737955200 twenty_newsgroups.py:80] Downloading dataset from https://ndownloader.figshare.com/files/5975967 (14 MB)\n"
          ],
          "name": "stderr"
        }
      ]
    },
    {
      "cell_type": "markdown",
      "metadata": {
        "colab_type": "text",
        "id": "xcESc5QXzr6p"
      },
      "source": [
        "### 8. Test data"
      ]
    },
    {
      "cell_type": "code",
      "metadata": {
        "colab_type": "code",
        "id": "ysInblUMzpvl",
        "colab": {}
      },
      "source": [
        "twenty_test = fetch_20newsgroups(subset='test', categories=categories, shuffle=True, random_state=42)"
      ],
      "execution_count": 0,
      "outputs": []
    },
    {
      "cell_type": "markdown",
      "metadata": {
        "colab_type": "text",
        "id": "DriL2yZ50DQq"
      },
      "source": [
        "###  a.  You can access the values for the target variable using .target attribute \n",
        "###  b. You can access the name of the class in the target variable with .target_names\n"
      ]
    },
    {
      "cell_type": "code",
      "metadata": {
        "colab_type": "code",
        "id": "vlUuai99z1hX",
        "outputId": "9bdb37cc-ecee-40d1-9089-ef674929d4ed",
        "colab": {
          "base_uri": "https://localhost:8080/",
          "height": 34
        }
      },
      "source": [
        "twenty_train.target"
      ],
      "execution_count": 40,
      "outputs": [
        {
          "output_type": "execute_result",
          "data": {
            "text/plain": [
              "array([1, 1, 3, ..., 2, 2, 2])"
            ]
          },
          "metadata": {
            "tags": []
          },
          "execution_count": 40
        }
      ]
    },
    {
      "cell_type": "code",
      "metadata": {
        "colab_type": "code",
        "id": "VEKzaDfSz5E-",
        "outputId": "b0cf9c7e-667e-42c6-cdcf-f73fb90222ba",
        "colab": {
          "base_uri": "https://localhost:8080/",
          "height": 34
        }
      },
      "source": [
        "twenty_train.target_names"
      ],
      "execution_count": 41,
      "outputs": [
        {
          "output_type": "execute_result",
          "data": {
            "text/plain": [
              "['alt.atheism', 'comp.graphics', 'sci.med', 'soc.religion.christian']"
            ]
          },
          "metadata": {
            "tags": []
          },
          "execution_count": 41
        }
      ]
    },
    {
      "cell_type": "code",
      "metadata": {
        "colab_type": "code",
        "id": "clBMKHzC0_N1",
        "outputId": "552e02c6-cb18-4745-d3f1-e8df49f71556",
        "colab": {
          "base_uri": "https://localhost:8080/",
          "height": 142
        }
      },
      "source": [
        "twenty_train.data[0:5]"
      ],
      "execution_count": 42,
      "outputs": [
        {
          "output_type": "execute_result",
          "data": {
            "text/plain": [
              "['From: sd345@city.ac.uk (Michael Collier)\\nSubject: Converting images to HP LaserJet III?\\nNntp-Posting-Host: hampton\\nOrganization: The City University\\nLines: 14\\n\\nDoes anyone know of a good way (standard PC application/PD utility) to\\nconvert tif/img/tga files into LaserJet III format.  We would also like to\\ndo the same, converting to HPGL (HP plotter) files.\\n\\nPlease email any response.\\n\\nIs this the correct group?\\n\\nThanks in advance.  Michael.\\n-- \\nMichael Collier (Programmer)                 The Computer Unit,\\nEmail: M.P.Collier@uk.ac.city                The City University,\\nTel: 071 477-8000 x3769                      London,\\nFax: 071 477-8565                            EC1V 0HB.\\n',\n",
              " \"From: ani@ms.uky.edu (Aniruddha B. Deglurkar)\\nSubject: help: Splitting a trimming region along a mesh \\nOrganization: University Of Kentucky, Dept. of Math Sciences\\nLines: 28\\n\\n\\n\\n\\tHi,\\n\\n\\tI have a problem, I hope some of the 'gurus' can help me solve.\\n\\n\\tBackground of the problem:\\n\\tI have a rectangular mesh in the uv domain, i.e  the mesh is a \\n\\tmapping of a 3d Bezier patch into 2d. The area in this domain\\n\\twhich is inside a trimming loop had to be rendered. The trimming\\n\\tloop is a set of 2d Bezier curve segments.\\n\\tFor the sake of notation: the mesh is made up of cells.\\n\\n\\tMy problem is this :\\n\\tThe trimming area has to be split up into individual smaller\\n\\tcells bounded by the trimming curve segments. If a cell\\n\\tis wholly inside the area...then it is output as a whole ,\\n\\telse it is trivially rejected. \\n\\n\\tDoes any body know how thiss can be done, or is there any algo. \\n\\tsomewhere for doing this.\\n\\n\\tAny help would be appreciated.\\n\\n\\tThanks, \\n\\tAni.\\n-- \\nTo get irritated is human, to stay cool, divine.\\n\",\n",
              " \"From: djohnson@cs.ucsd.edu (Darin Johnson)\\nSubject: Re: harrassed at work, could use some prayers\\nOrganization: =CSE Dept., U.C. San Diego\\nLines: 63\\n\\n(Well, I'll email also, but this may apply to other people, so\\nI'll post also.)\\n\\n>I've been working at this company for eight years in various\\n>engineering jobs.  I'm female.  Yesterday I counted and realized that\\n>on seven different occasions I've been sexually harrassed at this\\n>company.\\n\\n>I dreaded coming back to work today.  What if my boss comes in to ask\\n>me some kind of question...\\n\\nYour boss should be the person bring these problems to.  If he/she\\ndoes not seem to take any action, keep going up higher and higher.\\nSexual harrassment does not need to be tolerated, and it can be an\\nenormous emotional support to discuss this with someone and know that\\nthey are trying to do something about it.  If you feel you can not\\ndiscuss this with your boss, perhaps your company has a personnel\\ndepartment that can work for you while preserving your privacy.  Most\\ncompanies will want to deal with this problem because constant anxiety\\ndoes seriously affect how effectively employees do their jobs.\\n\\nIt is unclear from your letter if you have done this or not.  It is\\nnot inconceivable that management remains ignorant of employee\\nproblems/strife even after eight years (it's a miracle if they do\\nnotice).  Perhaps your manager did not bring to the attention of\\nhigher ups?  If the company indeed does seem to want to ignore the\\nentire problem, there may be a state agency willing to fight with\\nyou.  (check with a lawyer, a women's resource center, etc to find out)\\n\\nYou may also want to discuss this with your paster, priest, husband,\\netc.  That is, someone you know will not be judgemental and that is\\nsupportive, comforting, etc.  This will bring a lot of healing.\\n\\n>So I returned at 11:25, only to find that ever single\\n>person had already left for lunch.  They left at 11:15 or so.  No one\\n>could be bothered to call me at the other building, even though my\\n>number was posted.\\n\\nThis happens to a lot of people.  Honest.  I believe it may seem\\nto be due to gross insensitivity because of the feelings you are\\ngoing through.  People in offices tend to be more insensitive while\\nworking than they normally are (maybe it's the hustle or stress or...)\\nI've had this happen to me a lot, often because they didn't realize\\nmy car was broken, etc.  Then they will come back and wonder why I\\ndidn't want to go (this would tend to make me stop being angry at\\nbeing ignored and make me laugh).  Once, we went off without our\\nboss, who was paying for the lunch :-)\\n\\n>For this\\n>reason I hope good Mr. Moderator allows me this latest indulgence.\\n\\nWell, if you can't turn to the computer for support, what would\\nwe do?  (signs of the computer age :-)\\n\\nIn closing, please don't let the hateful actions of a single person\\nharm you.  They are doing it because they are still the playground\\nbully and enjoy seeing the hurt they cause.  And you should not\\naccept the opinions of an imbecile that you are worthless - much\\nwiser people hold you in great esteem.\\n-- \\nDarin Johnson\\ndjohnson@ucsd.edu\\n  - Luxury!  In MY day, we had to make do with 5 bytes of swap...\\n\",\n",
              " 'From: s0612596@let.rug.nl (M.M. Zwart)\\nSubject: catholic church poland\\nOrganization: Faculteit der Letteren, Rijksuniversiteit Groningen, NL\\nLines: 10\\n\\nHello,\\n\\nI\\'m writing a paper on the role of the catholic church in Poland after 1989. \\nCan anyone tell me more about this, or fill me in on recent books/articles(\\nin english, german or french). Most important for me is the role of the \\nchurch concerning the abortion-law, religious education at schools,\\nbirth-control and the relation church-state(government). Thanx,\\n\\n                                                 Masja,\\n\"M.M.Zwart\"<s0612596@let.rug.nl>\\n',\n",
              " 'From: stanly@grok11.columbiasc.ncr.com (stanly)\\nSubject: Re: Elder Brother\\nOrganization: NCR Corp., Columbia SC\\nLines: 15\\n\\nIn article <Apr.8.00.57.41.1993.28246@athos.rutgers.edu> REXLEX@fnal.gov writes:\\n>In article <Apr.7.01.56.56.1993.22824@athos.rutgers.edu> shrum@hpfcso.fc.hp.com\\n>Matt. 22:9-14 \\'Go therefore to the main highways, and as many as you find\\n>there, invite to the wedding feast.\\'...\\n\\n>hmmmmmm.  Sounds like your theology and Christ\\'s are at odds. Which one am I \\n>to believe?\\n\\nIn this parable, Jesus tells the parable of the wedding feast. \"The kingdom\\nof heaven is like unto a certain king which made a marriage for his son\".\\nSo the wedding clothes were customary,  and \"given\" to those who \"chose\" to\\nattend.  This man \"refused\" to wear the clothes.  The wedding clothes are\\nequalivant to the \"clothes of righteousness\".  When Jesus died for our sins,\\nthose \"clothes\" were then provided.  Like that man, it is our decision to\\nput the clothes on.\\n']"
            ]
          },
          "metadata": {
            "tags": []
          },
          "execution_count": 42
        }
      ]
    },
    {
      "cell_type": "code",
      "metadata": {
        "colab_type": "code",
        "id": "1kT8qtCFToPA",
        "outputId": "493de81f-f32e-4e5c-aaab-dcc90a8504d4",
        "colab": {
          "base_uri": "https://localhost:8080/",
          "height": 136
        }
      },
      "source": [
        "print(twenty_train.filenames)"
      ],
      "execution_count": 43,
      "outputs": [
        {
          "output_type": "stream",
          "text": [
            "['/root/scikit_learn_data/20news_home/20news-bydate-train/comp.graphics/38440'\n",
            " '/root/scikit_learn_data/20news_home/20news-bydate-train/comp.graphics/38479'\n",
            " '/root/scikit_learn_data/20news_home/20news-bydate-train/soc.religion.christian/20737'\n",
            " ...\n",
            " '/root/scikit_learn_data/20news_home/20news-bydate-train/sci.med/58112'\n",
            " '/root/scikit_learn_data/20news_home/20news-bydate-train/sci.med/58578'\n",
            " '/root/scikit_learn_data/20news_home/20news-bydate-train/sci.med/58895']\n"
          ],
          "name": "stdout"
        }
      ]
    },
    {
      "cell_type": "markdown",
      "metadata": {
        "colab_type": "text",
        "id": "hTz4EaN_1WGc"
      },
      "source": [
        "### 9.  Now with dependent and independent data available for both train and test datasets, using TfidfVectorizer fit and transform the training data and test data and get the tfidf features for both"
      ]
    },
    {
      "cell_type": "code",
      "metadata": {
        "colab_type": "code",
        "id": "H5G477f81C0Z",
        "outputId": "fe66a61d-6991-45bd-bb5f-e7d66fc39dea",
        "colab": {
          "base_uri": "https://localhost:8080/",
          "height": 34
        }
      },
      "source": [
        "from sklearn.feature_extraction.text import TfidfVectorizer\n",
        "vectorizer = TfidfVectorizer()\n",
        "vectors = vectorizer.fit_transform(twenty_train.data)\n",
        "vectors.shape"
      ],
      "execution_count": 44,
      "outputs": [
        {
          "output_type": "execute_result",
          "data": {
            "text/plain": [
              "(2257, 35788)"
            ]
          },
          "metadata": {
            "tags": []
          },
          "execution_count": 44
        }
      ]
    },
    {
      "cell_type": "code",
      "metadata": {
        "colab_type": "code",
        "id": "b2FAzdzfUZAw",
        "colab": {}
      },
      "source": [
        "from sklearn import metrics\n",
        "vectors_test = vectorizer.transform(twenty_test.data)"
      ],
      "execution_count": 0,
      "outputs": []
    },
    {
      "cell_type": "code",
      "metadata": {
        "colab_type": "code",
        "id": "pOjR3OVBYu6Q",
        "outputId": "bb5332a0-a252-4280-e11e-cffabb897e3c",
        "colab": {
          "base_uri": "https://localhost:8080/",
          "height": 34
        }
      },
      "source": [
        "vectors_test.shape"
      ],
      "execution_count": 46,
      "outputs": [
        {
          "output_type": "execute_result",
          "data": {
            "text/plain": [
              "(1502, 35788)"
            ]
          },
          "metadata": {
            "tags": []
          },
          "execution_count": 46
        }
      ]
    },
    {
      "cell_type": "markdown",
      "metadata": {
        "colab_type": "text",
        "id": "tp_fDINJ1t4L"
      },
      "source": [
        "### 10. Use logisticRegression with tfidf features as input and targets as output and train the model and report the train and test accuracy score"
      ]
    },
    {
      "cell_type": "markdown",
      "metadata": {
        "colab_type": "text",
        "id": "6q6-tXSPbxhB"
      },
      "source": [
        ""
      ]
    },
    {
      "cell_type": "code",
      "metadata": {
        "colab_type": "code",
        "id": "THlN2b5d1yQp",
        "outputId": "4d237d90-6797-45de-a56a-9c732360a4a1",
        "colab": {
          "base_uri": "https://localhost:8080/",
          "height": 142
        }
      },
      "source": [
        "from sklearn.linear_model import LogisticRegression\n",
        "clf = LogisticRegression()\n",
        "clf.fit(vectors, twenty_train.target)\n",
        "pred = clf.predict(vectors_test)\n",
        "metrics.f1_score(twenty_test.target, pred, average='macro')"
      ],
      "execution_count": 47,
      "outputs": [
        {
          "output_type": "stream",
          "text": [
            "/usr/local/lib/python3.6/dist-packages/sklearn/linear_model/logistic.py:432: FutureWarning: Default solver will be changed to 'lbfgs' in 0.22. Specify a solver to silence this warning.\n",
            "  FutureWarning)\n",
            "/usr/local/lib/python3.6/dist-packages/sklearn/linear_model/logistic.py:469: FutureWarning: Default multi_class will be changed to 'auto' in 0.22. Specify the multi_class option to silence this warning.\n",
            "  \"this warning.\", FutureWarning)\n"
          ],
          "name": "stderr"
        },
        {
          "output_type": "execute_result",
          "data": {
            "text/plain": [
              "0.8836373105379085"
            ]
          },
          "metadata": {
            "tags": []
          },
          "execution_count": 47
        }
      ]
    },
    {
      "cell_type": "code",
      "metadata": {
        "colab_type": "code",
        "id": "Niz_1b9IXXvE",
        "outputId": "76c0ae6e-19ce-4e51-e081-0db15a1ba4e5",
        "colab": {
          "base_uri": "https://localhost:8080/",
          "height": 136
        }
      },
      "source": [
        "print(\"Train Accuracy: \\n\")\n",
        "print(metrics.accuracy_score(twenty_train.target, clf.predict(vectors)))\n",
        "print(\"\\n Test Accuracy: \\n\")\n",
        "print(metrics.accuracy_score(twenty_test.target, pred))"
      ],
      "execution_count": 48,
      "outputs": [
        {
          "output_type": "stream",
          "text": [
            "Train Accuracy: \n",
            "\n",
            "0.9827204253433761\n",
            "\n",
            " Test Accuracy: \n",
            "\n",
            "0.8868175765645806\n"
          ],
          "name": "stdout"
        }
      ]
    },
    {
      "cell_type": "code",
      "metadata": {
        "id": "ItCWGNMPNJMW",
        "colab_type": "code",
        "colab": {}
      },
      "source": [
        ""
      ],
      "execution_count": 0,
      "outputs": []
    }
  ]
}