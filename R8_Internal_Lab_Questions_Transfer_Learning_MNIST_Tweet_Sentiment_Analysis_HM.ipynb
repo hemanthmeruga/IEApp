{
  "nbformat": 4,
  "nbformat_minor": 0,
  "metadata": {
    "colab": {
      "name": "R8_Internal_Lab_Questions_Transfer_Learning_MNIST_Tweet_Sentiment_Analysis_HM.ipynb",
      "version": "0.3.2",
      "provenance": [],
      "collapsed_sections": [],
      "include_colab_link": true
    },
    "kernelspec": {
      "name": "python2",
      "display_name": "Python 2"
    },
    "accelerator": "GPU"
  },
  "cells": [
    {
      "cell_type": "markdown",
      "metadata": {
        "id": "view-in-github",
        "colab_type": "text"
      },
      "source": [
        "<a href=\"https://colab.research.google.com/github/hemanthmeruga/IEApp/blob/master/R8_Internal_Lab_Questions_Transfer_Learning_MNIST_Tweet_Sentiment_Analysis_HM.ipynb\" target=\"_parent\"><img src=\"https://colab.research.google.com/assets/colab-badge.svg\" alt=\"Open In Colab\"/></a>"
      ]
    },
    {
      "cell_type": "markdown",
      "metadata": {
        "colab_type": "text",
        "id": "NFfDTfhlaEI_"
      },
      "source": [
        "# Transfer Learning MNIST"
      ]
    },
    {
      "cell_type": "markdown",
      "metadata": {
        "colab_type": "text",
        "id": "rNwbqCFRaEJC"
      },
      "source": [
        "* Train a simple convnet on the MNIST dataset the first 5 digits [0..4].\n",
        "* Freeze convolutional layers and fine-tune dense layers for the classification of digits [5..9]."
      ]
    },
    {
      "cell_type": "markdown",
      "metadata": {
        "colab_type": "text",
        "id": "YUB1uDW_8XIy"
      },
      "source": [
        "## 1. Import necessary libraries for the model"
      ]
    },
    {
      "cell_type": "code",
      "metadata": {
        "colab_type": "code",
        "id": "Rsj4t5HTaEJE",
        "outputId": "e4705c78-0cc7-46f4-ab8a-e3b4abbe9c7b",
        "colab": {
          "base_uri": "https://localhost:8080/",
          "height": 34
        }
      },
      "source": [
        "import numpy as np\n",
        "import pandas as pd\n",
        "import keras\n",
        "import matplotlib.pyplot as plt\n",
        "% matplotlib inline\n",
        "import vis\n",
        "\n",
        "from keras.models import Sequential\n",
        "from keras.layers import Conv2D, MaxPooling2D, Activation, Flatten, Dense, Dropout\n",
        "from keras import backend as K\n"
      ],
      "execution_count": 0,
      "outputs": [
        {
          "output_type": "stream",
          "text": [
            "Using TensorFlow backend.\n"
          ],
          "name": "stderr"
        }
      ]
    },
    {
      "cell_type": "markdown",
      "metadata": {
        "colab_type": "text",
        "id": "IXrn3heBaEJa"
      },
      "source": [
        "## 2. Import MNIST data and create 2 datasets with one dataset having digits from 0 to 4 and other from 5 to 9 "
      ]
    },
    {
      "cell_type": "code",
      "metadata": {
        "colab_type": "code",
        "id": "pjDuiK6ztgOK",
        "colab": {}
      },
      "source": [
        "from keras.datasets import mnist"
      ],
      "execution_count": 0,
      "outputs": []
    },
    {
      "cell_type": "code",
      "metadata": {
        "id": "Pu-zOmCsTeo9",
        "colab_type": "code",
        "outputId": "6db7d49f-ca9f-46a2-fc00-2a63967e30c5",
        "colab": {
          "base_uri": "https://localhost:8080/",
          "height": 85
        }
      },
      "source": [
        "(x_train, y_train), (x_test, y_test) = mnist.load_data()\n",
        "x_train.shape, y_train.shape, x_test.shape, y_test.shape\n",
        "\n"
      ],
      "execution_count": 0,
      "outputs": [
        {
          "output_type": "stream",
          "text": [
            "Downloading data from https://s3.amazonaws.com/img-datasets/mnist.npz\n",
            "11493376/11490434 [==============================] - 1s 0us/step\n",
            "11501568/11490434 [==============================] - 1s 0us/step\n"
          ],
          "name": "stdout"
        },
        {
          "output_type": "execute_result",
          "data": {
            "text/plain": [
              "((60000, 28, 28), (60000,), (10000, 28, 28), (10000,))"
            ]
          },
          "metadata": {
            "tags": []
          },
          "execution_count": 3
        }
      ]
    },
    {
      "cell_type": "code",
      "metadata": {
        "id": "sBMiFhsbWNwD",
        "colab_type": "code",
        "colab": {}
      },
      "source": [
        "x_train_lt5 = x_train[y_train < 5]\n",
        "y_train_lt5 = y_train[y_train < 5]\n",
        "x_test_lt5 = x_test[y_test < 5]\n",
        "y_test_lt5 = y_test[y_test < 5]\n",
        "\n",
        "x_train_gt5 = x_train[y_train >= 5]\n",
        "y_train_gt5 = y_train[y_train >= 5] - 5\n",
        "x_test_gt5 = x_test[y_test >= 5]\n",
        "y_test_gt5 = y_test[y_test >= 5] - 5"
      ],
      "execution_count": 0,
      "outputs": []
    },
    {
      "cell_type": "code",
      "metadata": {
        "id": "o6USzpBeVoNn",
        "colab_type": "code",
        "colab": {}
      },
      "source": [
        ""
      ],
      "execution_count": 0,
      "outputs": []
    },
    {
      "cell_type": "markdown",
      "metadata": {
        "colab_type": "text",
        "id": "9qU14lYL9A5g"
      },
      "source": [
        "## 3. Print x_train, y_train, x_test and y_test for both the datasets"
      ]
    },
    {
      "cell_type": "code",
      "metadata": {
        "id": "70qvonJ-Qjmm",
        "colab_type": "code",
        "outputId": "ee63b553-464d-48ae-9362-3ec2d27122ee",
        "colab": {
          "base_uri": "https://localhost:8080/",
          "height": 1666
        }
      },
      "source": [
        "print(x_train_lt5, y_train_lt5, x_test_lt5, y_test_lt5)"
      ],
      "execution_count": 0,
      "outputs": [
        {
          "output_type": "stream",
          "text": [
            "(array([[[0, 0, 0, ..., 0, 0, 0],\n",
            "        [0, 0, 0, ..., 0, 0, 0],\n",
            "        [0, 0, 0, ..., 0, 0, 0],\n",
            "        ...,\n",
            "        [0, 0, 0, ..., 0, 0, 0],\n",
            "        [0, 0, 0, ..., 0, 0, 0],\n",
            "        [0, 0, 0, ..., 0, 0, 0]],\n",
            "\n",
            "       [[0, 0, 0, ..., 0, 0, 0],\n",
            "        [0, 0, 0, ..., 0, 0, 0],\n",
            "        [0, 0, 0, ..., 0, 0, 0],\n",
            "        ...,\n",
            "        [0, 0, 0, ..., 0, 0, 0],\n",
            "        [0, 0, 0, ..., 0, 0, 0],\n",
            "        [0, 0, 0, ..., 0, 0, 0]],\n",
            "\n",
            "       [[0, 0, 0, ..., 0, 0, 0],\n",
            "        [0, 0, 0, ..., 0, 0, 0],\n",
            "        [0, 0, 0, ..., 0, 0, 0],\n",
            "        ...,\n",
            "        [0, 0, 0, ..., 0, 0, 0],\n",
            "        [0, 0, 0, ..., 0, 0, 0],\n",
            "        [0, 0, 0, ..., 0, 0, 0]],\n",
            "\n",
            "       ...,\n",
            "\n",
            "       [[0, 0, 0, ..., 0, 0, 0],\n",
            "        [0, 0, 0, ..., 0, 0, 0],\n",
            "        [0, 0, 0, ..., 0, 0, 0],\n",
            "        ...,\n",
            "        [0, 0, 0, ..., 0, 0, 0],\n",
            "        [0, 0, 0, ..., 0, 0, 0],\n",
            "        [0, 0, 0, ..., 0, 0, 0]],\n",
            "\n",
            "       [[0, 0, 0, ..., 0, 0, 0],\n",
            "        [0, 0, 0, ..., 0, 0, 0],\n",
            "        [0, 0, 0, ..., 0, 0, 0],\n",
            "        ...,\n",
            "        [0, 0, 0, ..., 0, 0, 0],\n",
            "        [0, 0, 0, ..., 0, 0, 0],\n",
            "        [0, 0, 0, ..., 0, 0, 0]],\n",
            "\n",
            "       [[0, 0, 0, ..., 0, 0, 0],\n",
            "        [0, 0, 0, ..., 0, 0, 0],\n",
            "        [0, 0, 0, ..., 0, 0, 0],\n",
            "        ...,\n",
            "        [0, 0, 0, ..., 0, 0, 0],\n",
            "        [0, 0, 0, ..., 0, 0, 0],\n",
            "        [0, 0, 0, ..., 0, 0, 0]]], dtype=uint8), array([0, 4, 1, ..., 2, 1, 3], dtype=uint8), array([[[0, 0, 0, ..., 0, 0, 0],\n",
            "        [0, 0, 0, ..., 0, 0, 0],\n",
            "        [0, 0, 0, ..., 0, 0, 0],\n",
            "        ...,\n",
            "        [0, 0, 0, ..., 0, 0, 0],\n",
            "        [0, 0, 0, ..., 0, 0, 0],\n",
            "        [0, 0, 0, ..., 0, 0, 0]],\n",
            "\n",
            "       [[0, 0, 0, ..., 0, 0, 0],\n",
            "        [0, 0, 0, ..., 0, 0, 0],\n",
            "        [0, 0, 0, ..., 0, 0, 0],\n",
            "        ...,\n",
            "        [0, 0, 0, ..., 0, 0, 0],\n",
            "        [0, 0, 0, ..., 0, 0, 0],\n",
            "        [0, 0, 0, ..., 0, 0, 0]],\n",
            "\n",
            "       [[0, 0, 0, ..., 0, 0, 0],\n",
            "        [0, 0, 0, ..., 0, 0, 0],\n",
            "        [0, 0, 0, ..., 0, 0, 0],\n",
            "        ...,\n",
            "        [0, 0, 0, ..., 0, 0, 0],\n",
            "        [0, 0, 0, ..., 0, 0, 0],\n",
            "        [0, 0, 0, ..., 0, 0, 0]],\n",
            "\n",
            "       ...,\n",
            "\n",
            "       [[0, 0, 0, ..., 0, 0, 0],\n",
            "        [0, 0, 0, ..., 0, 0, 0],\n",
            "        [0, 0, 0, ..., 0, 0, 0],\n",
            "        ...,\n",
            "        [0, 0, 0, ..., 0, 0, 0],\n",
            "        [0, 0, 0, ..., 0, 0, 0],\n",
            "        [0, 0, 0, ..., 0, 0, 0]],\n",
            "\n",
            "       [[0, 0, 0, ..., 0, 0, 0],\n",
            "        [0, 0, 0, ..., 0, 0, 0],\n",
            "        [0, 0, 0, ..., 0, 0, 0],\n",
            "        ...,\n",
            "        [0, 0, 0, ..., 0, 0, 0],\n",
            "        [0, 0, 0, ..., 0, 0, 0],\n",
            "        [0, 0, 0, ..., 0, 0, 0]],\n",
            "\n",
            "       [[0, 0, 0, ..., 0, 0, 0],\n",
            "        [0, 0, 0, ..., 0, 0, 0],\n",
            "        [0, 0, 0, ..., 0, 0, 0],\n",
            "        ...,\n",
            "        [0, 0, 0, ..., 0, 0, 0],\n",
            "        [0, 0, 0, ..., 0, 0, 0],\n",
            "        [0, 0, 0, ..., 0, 0, 0]]], dtype=uint8), array([2, 1, 0, ..., 2, 3, 4], dtype=uint8))\n"
          ],
          "name": "stdout"
        }
      ]
    },
    {
      "cell_type": "code",
      "metadata": {
        "id": "4WXyP4IdaOJS",
        "colab_type": "code",
        "outputId": "b1523fe5-8491-4886-d615-3ad80fb0a92c",
        "colab": {
          "base_uri": "https://localhost:8080/",
          "height": 323
        }
      },
      "source": [
        "from skimage.transform import resize\n",
        "def resize_image(image):\n",
        "    return resize(image, (96,96,3), mode=\"symmetric\")\n",
        "plt.imshow(resize_image(x_train_lt5[9]));"
      ],
      "execution_count": 0,
      "outputs": [
        {
          "output_type": "stream",
          "text": [
            "/usr/local/lib/python2.7/dist-packages/skimage/transform/_warps.py:110: UserWarning: Anti-aliasing will be enabled by default in skimage 0.15 to avoid aliasing artifacts when down-sampling images.\n",
            "  warn(\"Anti-aliasing will be enabled by default in skimage 0.15 to \"\n"
          ],
          "name": "stderr"
        },
        {
          "output_type": "display_data",
          "data": {
            "image/png": "[encoded data removed]",
            "text/plain": [
              "<Figure size 432x288 with 1 Axes>"
            ]
          },
          "metadata": {
            "tags": []
          }
        }
      ]
    },
    {
      "cell_type": "code",
      "metadata": {
        "id": "qBQxd5iub4JQ",
        "colab_type": "code",
        "outputId": "7eb8a24c-b6a5-46af-f567-b48a0be49302",
        "colab": {
          "base_uri": "https://localhost:8080/",
          "height": 269
        }
      },
      "source": [
        "plt.imshow(resize_image(x_test_lt5[9]));"
      ],
      "execution_count": 0,
      "outputs": [
        {
          "output_type": "display_data",
          "data": {
            "image/png": "[encoded data removed]",
            "text/plain": [
              "<Figure size 432x288 with 1 Axes>"
            ]
          },
          "metadata": {
            "tags": []
          }
        }
      ]
    },
    {
      "cell_type": "markdown",
      "metadata": {
        "colab_type": "text",
        "id": "cB9BPFzr9oDF"
      },
      "source": [
        "## ** 4. Let us take only the dataset (x_train, y_train, x_test, y_test) for Integers 0 to 4 in MNIST **\n",
        "## Reshape x_train and x_test to a 4 Dimensional array (channel = 1) to pass it into a Conv2D layer"
      ]
    },
    {
      "cell_type": "code",
      "metadata": {
        "colab_type": "code",
        "id": "FlQRPfFzaEJx",
        "colab": {}
      },
      "source": [
        "x_train_conv = x_train_lt5.reshape(x_train_lt5.shape[0], 28, 28, 1)\n",
        "x_test_conv = x_test_lt5.reshape(x_test_lt5.shape[0], 28, 28, 1)\n",
        "input_shape = (28, 28, 1)"
      ],
      "execution_count": 0,
      "outputs": []
    },
    {
      "cell_type": "markdown",
      "metadata": {
        "colab_type": "text",
        "id": "jLQr-b3F-hw8"
      },
      "source": [
        "## 5. Normalize x_train and x_test by dividing it by 255"
      ]
    },
    {
      "cell_type": "code",
      "metadata": {
        "colab_type": "code",
        "id": "PlEZIAG5-g2I",
        "colab": {}
      },
      "source": [
        "x_train_conv =  x_train_conv.astype(\"float32\") / 255\n",
        "x_test_conv = x_test_conv.astype(\"float32\") / 255"
      ],
      "execution_count": 0,
      "outputs": []
    },
    {
      "cell_type": "markdown",
      "metadata": {
        "colab_type": "text",
        "id": "pytVBaw4-vMi"
      },
      "source": [
        "## 6. Use One-hot encoding to divide y_train and y_test into required no of output classes"
      ]
    },
    {
      "cell_type": "code",
      "metadata": {
        "colab_type": "code",
        "id": "V48xiua4-uUi",
        "colab": {}
      },
      "source": [
        "y_train_class = keras.utils.to_categorical(y_train_lt5, 5)\n",
        "y_test_class = keras.utils.to_categorical(y_test_lt5, 5)\n"
      ],
      "execution_count": 0,
      "outputs": []
    },
    {
      "cell_type": "code",
      "metadata": {
        "id": "41_LZLuTd9NQ",
        "colab_type": "code",
        "colab": {}
      },
      "source": [
        ""
      ],
      "execution_count": 0,
      "outputs": []
    },
    {
      "cell_type": "markdown",
      "metadata": {
        "colab_type": "text",
        "id": "elPkI44g_C2b"
      },
      "source": [
        "## 7. Build a sequential model with 2 Convolutional layers with 32 kernels of size (3,3) followed by a Max pooling layer of size (2,2) followed by a drop out layer to be trained for classification of digits 0-4  "
      ]
    },
    {
      "cell_type": "code",
      "metadata": {
        "colab_type": "code",
        "id": "MU09mm9F89gO",
        "colab": {}
      },
      "source": [
        "cnn_1 = Sequential()\n",
        "cnn_1.add(Conv2D(32, kernel_size=(3, 3), activation='relu', input_shape=(28,28,1), name='conv_1'))\n",
        "cnn_1.add(MaxPooling2D(pool_size=(2, 2)))\n",
        "cnn_1.add(Conv2D(32, kernel_size=(3, 3), activation='relu', input_shape=(28,28,1), name='conv_2'))\n",
        "cnn_1.add(MaxPooling2D(pool_size=(2, 2)))\n",
        "cnn_1.add(Dropout(0.25))"
      ],
      "execution_count": 0,
      "outputs": []
    },
    {
      "cell_type": "markdown",
      "metadata": {
        "colab_type": "text",
        "id": "sJQaycRO_3Au"
      },
      "source": [
        "## 8. Post that flatten the data and add 2 Dense layers with 128 neurons and neurons = output classes with activation = 'relu' and 'softmax' respectively. Add dropout layer inbetween if necessary  "
      ]
    },
    {
      "cell_type": "code",
      "metadata": {
        "colab_type": "code",
        "id": "vOZeRbK7t9AT",
        "colab": {}
      },
      "source": [
        "cnn_1.add(Flatten())\n",
        "cnn_1.add(Dense(128, activation='relu', name='dense_1'))\n",
        "cnn_1.add(Dense(5, activation='softmax', name='dense_2'))"
      ],
      "execution_count": 0,
      "outputs": []
    },
    {
      "cell_type": "markdown",
      "metadata": {
        "colab_type": "text",
        "id": "my1P09bxAv8H"
      },
      "source": [
        "## 9. Print the training and test accuracy"
      ]
    },
    {
      "cell_type": "code",
      "metadata": {
        "colab_type": "code",
        "id": "yf7F8Gdutbf0",
        "outputId": "0824e9bb-be83-4fc3-8fb3-2e53726f6fe3",
        "colab": {
          "base_uri": "https://localhost:8080/",
          "height": 408
        }
      },
      "source": [
        "cnn_1.summary()"
      ],
      "execution_count": 0,
      "outputs": [
        {
          "output_type": "stream",
          "text": [
            "_________________________________________________________________\n",
            "Layer (type)                 Output Shape              Param #   \n",
            "=================================================================\n",
            "conv_1 (Conv2D)              (None, 26, 26, 32)        320       \n",
            "_________________________________________________________________\n",
            "max_pooling2d_3 (MaxPooling2 (None, 13, 13, 32)        0         \n",
            "_________________________________________________________________\n",
            "conv_2 (Conv2D)              (None, 11, 11, 32)        9248      \n",
            "_________________________________________________________________\n",
            "max_pooling2d_4 (MaxPooling2 (None, 5, 5, 32)          0         \n",
            "_________________________________________________________________\n",
            "dropout_2 (Dropout)          (None, 5, 5, 32)          0         \n",
            "_________________________________________________________________\n",
            "flatten_2 (Flatten)          (None, 800)               0         \n",
            "_________________________________________________________________\n",
            "dense_1 (Dense)              (None, 128)               102528    \n",
            "_________________________________________________________________\n",
            "dense_2 (Dense)              (None, 5)                 645       \n",
            "=================================================================\n",
            "Total params: 112,741\n",
            "Trainable params: 112,741\n",
            "Non-trainable params: 0\n",
            "_________________________________________________________________\n"
          ],
          "name": "stdout"
        }
      ]
    },
    {
      "cell_type": "code",
      "metadata": {
        "id": "tOo-uycmdRYg",
        "colab_type": "code",
        "colab": {}
      },
      "source": [
        "cnn_1.compile(loss='categorical_crossentropy', optimizer=\"adam\", metrics=['accuracy'])"
      ],
      "execution_count": 0,
      "outputs": []
    },
    {
      "cell_type": "code",
      "metadata": {
        "id": "2t6mSzodddVc",
        "colab_type": "code",
        "outputId": "9c4c17e6-c61d-4d30-fa71-07527e9fa1aa",
        "colab": {
          "base_uri": "https://localhost:8080/",
          "height": 408
        }
      },
      "source": [
        "# fits the model on batches with real-time data augmentation:\n",
        "model_1 = cnn_1.fit(x_train_conv, y_train_class, \n",
        "                     validation_data=(x_test_conv, y_test_class),        \n",
        "                     batch_size=512, epochs=5)\n",
        "            \n"
      ],
      "execution_count": 0,
      "outputs": [
        {
          "output_type": "stream",
          "text": [
            "W0624 10:26:49.241417 140368799061888 deprecation.py:323] From /usr/local/lib/python2.7/dist-packages/tensorflow/python/ops/math_grad.py:1250: where (from tensorflow.python.ops.array_ops) is deprecated and will be removed in a future version.\n",
            "Instructions for updating:\n",
            "Use tf.where in 2.0, which has the same broadcast rule as np.where\n"
          ],
          "name": "stderr"
        },
        {
          "output_type": "stream",
          "text": [
            "Train on 30596 samples, validate on 5139 samples\n",
            "Epoch 1/5\n",
            "30596/30596 [==============================] - 8s 273us/step - loss: 0.3719 - acc: 0.8925 - val_loss: 0.0606 - val_acc: 0.9829\n",
            "Epoch 2/5\n",
            "30596/30596 [==============================] - 1s 21us/step - loss: 0.0688 - acc: 0.9788 - val_loss: 0.0244 - val_acc: 0.9932\n",
            "Epoch 3/5\n",
            "30596/30596 [==============================] - 1s 21us/step - loss: 0.0411 - acc: 0.9875 - val_loss: 0.0160 - val_acc: 0.9957\n",
            "Epoch 4/5\n",
            "30596/30596 [==============================] - 1s 21us/step - loss: 0.0327 - acc: 0.9898 - val_loss: 0.0127 - val_acc: 0.9969\n",
            "Epoch 5/5\n",
            "30596/30596 [==============================] - 1s 20us/step - loss: 0.0262 - acc: 0.9918 - val_loss: 0.0126 - val_acc: 0.9965\n"
          ],
          "name": "stdout"
        }
      ]
    },
    {
      "cell_type": "code",
      "metadata": {
        "id": "IfPU-5wnfStA",
        "colab_type": "code",
        "outputId": "c9b71af4-13ea-41c1-ae4f-d9826a7ff8d0",
        "colab": {
          "base_uri": "https://localhost:8080/",
          "height": 68
        }
      },
      "source": [
        "score = cnn_1.evaluate(x_test_conv, y_test_class)\n",
        "print('Test loss:', score[0])\n",
        "print('Test accuracy:', score[1])"
      ],
      "execution_count": 0,
      "outputs": [
        {
          "output_type": "stream",
          "text": [
            "5139/5139 [==============================] - 0s 56us/step\n",
            "('Test loss:', 0.012636372597585826)\n",
            "('Test accuracy:', 0.9964973730297724)\n"
          ],
          "name": "stdout"
        }
      ]
    },
    {
      "cell_type": "code",
      "metadata": {
        "id": "sOvzk2zOf77i",
        "colab_type": "code",
        "colab": {}
      },
      "source": [
        ""
      ],
      "execution_count": 0,
      "outputs": []
    },
    {
      "cell_type": "markdown",
      "metadata": {
        "colab_type": "text",
        "id": "z78o3WIjaEJ3"
      },
      "source": [
        "## 10. Make only the dense layers to be trainable and convolutional layers to be non-trainable"
      ]
    },
    {
      "cell_type": "code",
      "metadata": {
        "colab_type": "code",
        "id": "brN7VZHFaEJ4",
        "outputId": "8b2dcb2a-9fc0-4e84-92c4-6c8d94e39149",
        "colab": {
          "base_uri": "https://localhost:8080/",
          "height": 289
        }
      },
      "source": [
        "#Freezing layers in the model which don't have 'dense' in their name\n",
        "for layer in cnn_1.layers:\n",
        "  if('dense' not in layer.name): #prefix detection to freeze layers which does not have dense\n",
        "    #Freezing a layer\n",
        "    layer.trainable = False\n",
        "\n",
        "#Module to print colourful statements\n",
        "from termcolor import colored\n",
        "\n",
        "#Check which layers have been frozen \n",
        "for layer in cnn.layers:\n",
        "  print (colored(layer.name, 'blue'))\n",
        "  print (colored(layer.trainable, 'red'))"
      ],
      "execution_count": 0,
      "outputs": [
        {
          "output_type": "stream",
          "text": [
            "\u001b[34mconv_1\u001b[0m\n",
            "\u001b[31mTrue\u001b[0m\n",
            "\u001b[34mmax_pooling2d_1\u001b[0m\n",
            "\u001b[31mTrue\u001b[0m\n",
            "\u001b[34mconv_2\u001b[0m\n",
            "\u001b[31mTrue\u001b[0m\n",
            "\u001b[34mmax_pooling2d_2\u001b[0m\n",
            "\u001b[31mTrue\u001b[0m\n",
            "\u001b[34mdropout_1\u001b[0m\n",
            "\u001b[31mTrue\u001b[0m\n",
            "\u001b[34mflatten_1\u001b[0m\n",
            "\u001b[31mTrue\u001b[0m\n",
            "\u001b[34mdense_1\u001b[0m\n",
            "\u001b[31mTrue\u001b[0m\n",
            "\u001b[34mdense_2\u001b[0m\n",
            "\u001b[31mTrue\u001b[0m\n"
          ],
          "name": "stdout"
        }
      ]
    },
    {
      "cell_type": "markdown",
      "metadata": {
        "colab_type": "text",
        "id": "4opnW7o0BJ8P"
      },
      "source": [
        "## 11. Use the model trained on 0 to 4 digit classification and train it on the dataset which has digits 5 to 9  (Using Transfer learning keeping only the dense layers to be trainable)"
      ]
    },
    {
      "cell_type": "code",
      "metadata": {
        "id": "THDxNDGLnWFQ",
        "colab_type": "code",
        "colab": {}
      },
      "source": [
        "\n",
        "\n",
        "x_train_conv = x_train_gt5.reshape(x_train_gt5.shape[0], 28, 28, 1)\n",
        "x_test_conv = x_test_gt5.reshape(x_test_gt5.shape[0], 28, 28, 1)\n",
        "input_shape = (28, 28, 1)\n",
        "\n",
        "x_train_conv =  x_train_conv.astype(\"float32\") / 255\n",
        "x_test_conv = x_test_conv.astype(\"float32\") / 255\n",
        "\n",
        "y_train_class = keras.utils.to_categorical(y_train_gt5, 5)\n",
        "y_test_class = keras.utils.to_categorical(y_test_gt5, 5)"
      ],
      "execution_count": 0,
      "outputs": []
    },
    {
      "cell_type": "code",
      "metadata": {
        "colab_type": "code",
        "id": "lCFcYHTm6-cE",
        "outputId": "5e61e8ab-4709-46f5-82ec-9d43fff2653a",
        "colab": {
          "base_uri": "https://localhost:8080/",
          "height": 322
        }
      },
      "source": [
        "cnn_1.fit(x_train_conv, y_train_class, \n",
        "                     validation_data=(x_test_conv, y_test_class),        \n",
        "                     batch_size=512, epochs=5)"
      ],
      "execution_count": 0,
      "outputs": [
        {
          "output_type": "stream",
          "text": [
            "Train on 29404 samples, validate on 4861 samples\n",
            "Epoch 1/5\n",
            " 6656/29404 [=====>........................] - ETA: 0s - loss: 1.3038 - acc: 0.6704"
          ],
          "name": "stdout"
        },
        {
          "output_type": "stream",
          "text": [
            "/usr/local/lib/python2.7/dist-packages/keras/engine/training.py:490: UserWarning: Discrepancy between trainable weights and collected trainable weights, did you set `model.trainable` without calling `model.compile` after ?\n",
            "  'Discrepancy between trainable weights and collected trainable'\n"
          ],
          "name": "stderr"
        },
        {
          "output_type": "stream",
          "text": [
            "29404/29404 [==============================] - 1s 25us/step - loss: 0.4386 - acc: 0.8780 - val_loss: 0.0900 - val_acc: 0.9726\n",
            "Epoch 2/5\n",
            "29404/29404 [==============================] - 1s 21us/step - loss: 0.0937 - acc: 0.9691 - val_loss: 0.0569 - val_acc: 0.9815\n",
            "Epoch 3/5\n",
            "29404/29404 [==============================] - 1s 20us/step - loss: 0.0656 - acc: 0.9786 - val_loss: 0.0440 - val_acc: 0.9864\n",
            "Epoch 4/5\n",
            "29404/29404 [==============================] - 1s 20us/step - loss: 0.0551 - acc: 0.9825 - val_loss: 0.0364 - val_acc: 0.9877\n",
            "Epoch 5/5\n",
            "29404/29404 [==============================] - 1s 20us/step - loss: 0.0470 - acc: 0.9851 - val_loss: 0.0328 - val_acc: 0.9877\n"
          ],
          "name": "stdout"
        },
        {
          "output_type": "execute_result",
          "data": {
            "text/plain": [
              "<keras.callbacks.History at 0x7fa9c621ab50>"
            ]
          },
          "metadata": {
            "tags": []
          },
          "execution_count": 24
        }
      ]
    },
    {
      "cell_type": "code",
      "metadata": {
        "colab_type": "code",
        "id": "DITyAt3t7Tto",
        "colab": {}
      },
      "source": [
        ""
      ],
      "execution_count": 0,
      "outputs": []
    },
    {
      "cell_type": "markdown",
      "metadata": {
        "colab_type": "text",
        "id": "SoDozqghCJZ4"
      },
      "source": [
        "## 12. Print the accuracy for classification of digits 5 to 9"
      ]
    },
    {
      "cell_type": "code",
      "metadata": {
        "colab_type": "code",
        "id": "9fCxgb5s49Cj",
        "outputId": "7e4685ee-be3b-431c-e645-0404198bcc6d",
        "colab": {
          "base_uri": "https://localhost:8080/",
          "height": 68
        }
      },
      "source": [
        "score = cnn_1.evaluate(x_test_conv, y_test_class)\n",
        "print('Test loss:', score[0])\n",
        "print('Test accuracy:', score[1])"
      ],
      "execution_count": 0,
      "outputs": [
        {
          "output_type": "stream",
          "text": [
            "4861/4861 [==============================] - 0s 54us/step\n",
            "('Test loss:', 0.032829401966332286)\n",
            "('Test accuracy:', 0.9876568607282452)\n"
          ],
          "name": "stdout"
        }
      ]
    },
    {
      "cell_type": "code",
      "metadata": {
        "colab_type": "code",
        "id": "LRWizZIpCUKg",
        "colab": {}
      },
      "source": [
        ""
      ],
      "execution_count": 0,
      "outputs": []
    },
    {
      "cell_type": "markdown",
      "metadata": {
        "id": "FU-HwvIdH0M-",
        "colab_type": "text"
      },
      "source": [
        "## Sentiment analysis <br> \n",
        "\n",
        "The objective of the second problem is to perform Sentiment analysis from the tweets data collected from the users targeted at various mobile devices.\n",
        "Based on the tweet posted by a user (text), we will classify if the sentiment of the user targeted at a particular mobile device is positive or not."
      ]
    },
    {
      "cell_type": "markdown",
      "metadata": {
        "id": "nAQDiZHRH0M_",
        "colab_type": "text"
      },
      "source": [
        "### 13. Read the dataset (tweets.csv) and drop the NA's while reading the dataset"
      ]
    },
    {
      "cell_type": "code",
      "metadata": {
        "id": "3eXGIe-SH0NA",
        "colab_type": "code",
        "outputId": "6042097c-c12d-4dcc-99d0-1ebe41a02722",
        "colab": {
          "base_uri": "https://localhost:8080/",
          "height": 34
        }
      },
      "source": [
        "import pandas as pd \n",
        "\n",
        "from google.colab import drive\n",
        "drive.mount('/content/gdrive')\n",
        "\n",
        "t_df = pd.read_csv(\"/content/gdrive/My Drive/Colab Notebooks/Notebooks/tweets.csv\")"
      ],
      "execution_count": 0,
      "outputs": [
        {
          "output_type": "stream",
          "text": [
            "Drive already mounted at /content/gdrive; to attempt to forcibly remount, call drive.mount(\"/content/gdrive\", force_remount=True).\n"
          ],
          "name": "stdout"
        }
      ]
    },
    {
      "cell_type": "code",
      "metadata": {
        "id": "CWeWe1eJH0NF",
        "colab_type": "code",
        "outputId": "8739de4c-5d54-4fb3-9906-c9c2f2164e72",
        "colab": {
          "base_uri": "https://localhost:8080/",
          "height": 1969
        }
      },
      "source": [
        "t_df.dropna()"
      ],
      "execution_count": 0,
      "outputs": [
        {
          "output_type": "execute_result",
          "data": {
            "text/html": [
              "<div>\n",
              "<style scoped>\n",
              "    .dataframe tbody tr th:only-of-type {\n",
              "        vertical-align: middle;\n",
              "    }\n",
              "\n",
              "    .dataframe tbody tr th {\n",
              "        vertical-align: top;\n",
              "    }\n",
              "\n",
              "    .dataframe thead th {\n",
              "        text-align: right;\n",
              "    }\n",
              "</style>\n",
              "<table border=\"1\" class=\"dataframe\">\n",
              "  <thead>\n",
              "    <tr style=\"text-align: right;\">\n",
              "      <th></th>\n",
              "      <th>tweet_text</th>\n",
              "      <th>emotion_in_tweet_is_directed_at</th>\n",
              "      <th>is_there_an_emotion_directed_at_a_brand_or_product</th>\n",
              "    </tr>\n",
              "  </thead>\n",
              "  <tbody>\n",
              "    <tr>\n",
              "      <th>0</th>\n",
              "      <td>.@wesley83 I have a 3G iPhone. After 3 hrs twe...</td>\n",
              "      <td>iPhone</td>\n",
              "      <td>Negative emotion</td>\n",
              "    </tr>\n",
              "    <tr>\n",
              "      <th>1</th>\n",
              "      <td>@jessedee Know about @fludapp ? Awesome iPad/i...</td>\n",
              "      <td>iPad or iPhone App</td>\n",
              "      <td>Positive emotion</td>\n",
              "    </tr>\n",
              "    <tr>\n",
              "      <th>2</th>\n",
              "      <td>@swonderlin Can not wait for #iPad 2 also. The...</td>\n",
              "      <td>iPad</td>\n",
              "      <td>Positive emotion</td>\n",
              "    </tr>\n",
              "    <tr>\n",
              "      <th>3</th>\n",
              "      <td>@sxsw I hope this year's festival isn't as cra...</td>\n",
              "      <td>iPad or iPhone App</td>\n",
              "      <td>Negative emotion</td>\n",
              "    </tr>\n",
              "    <tr>\n",
              "      <th>4</th>\n",
              "      <td>@sxtxstate great stuff on Fri #SXSW: Marissa M...</td>\n",
              "      <td>Google</td>\n",
              "      <td>Positive emotion</td>\n",
              "    </tr>\n",
              "    <tr>\n",
              "      <th>7</th>\n",
              "      <td>#SXSW is just starting, #CTIA is around the co...</td>\n",
              "      <td>Android</td>\n",
              "      <td>Positive emotion</td>\n",
              "    </tr>\n",
              "    <tr>\n",
              "      <th>8</th>\n",
              "      <td>Beautifully smart and simple idea RT @madebyma...</td>\n",
              "      <td>iPad or iPhone App</td>\n",
              "      <td>Positive emotion</td>\n",
              "    </tr>\n",
              "    <tr>\n",
              "      <th>9</th>\n",
              "      <td>Counting down the days to #sxsw plus strong Ca...</td>\n",
              "      <td>Apple</td>\n",
              "      <td>Positive emotion</td>\n",
              "    </tr>\n",
              "    <tr>\n",
              "      <th>10</th>\n",
              "      <td>Excited to meet the @samsungmobileus at #sxsw ...</td>\n",
              "      <td>Android</td>\n",
              "      <td>Positive emotion</td>\n",
              "    </tr>\n",
              "    <tr>\n",
              "      <th>11</th>\n",
              "      <td>Find &amp;amp; Start Impromptu Parties at #SXSW Wi...</td>\n",
              "      <td>Android App</td>\n",
              "      <td>Positive emotion</td>\n",
              "    </tr>\n",
              "    <tr>\n",
              "      <th>12</th>\n",
              "      <td>Foursquare ups the game, just in time for #SXS...</td>\n",
              "      <td>Android App</td>\n",
              "      <td>Positive emotion</td>\n",
              "    </tr>\n",
              "    <tr>\n",
              "      <th>13</th>\n",
              "      <td>Gotta love this #SXSW Google Calendar featurin...</td>\n",
              "      <td>Other Google product or service</td>\n",
              "      <td>Positive emotion</td>\n",
              "    </tr>\n",
              "    <tr>\n",
              "      <th>14</th>\n",
              "      <td>Great #sxsw ipad app from @madebymany: http://...</td>\n",
              "      <td>iPad or iPhone App</td>\n",
              "      <td>Positive emotion</td>\n",
              "    </tr>\n",
              "    <tr>\n",
              "      <th>15</th>\n",
              "      <td>haha, awesomely rad iPad app by @madebymany ht...</td>\n",
              "      <td>iPad or iPhone App</td>\n",
              "      <td>Positive emotion</td>\n",
              "    </tr>\n",
              "    <tr>\n",
              "      <th>17</th>\n",
              "      <td>I just noticed DST is coming this weekend. How...</td>\n",
              "      <td>iPhone</td>\n",
              "      <td>Negative emotion</td>\n",
              "    </tr>\n",
              "    <tr>\n",
              "      <th>18</th>\n",
              "      <td>Just added my #SXSW flights to @planely. Match...</td>\n",
              "      <td>iPad or iPhone App</td>\n",
              "      <td>Positive emotion</td>\n",
              "    </tr>\n",
              "    <tr>\n",
              "      <th>19</th>\n",
              "      <td>Must have #SXSW app! RT @malbonster: Lovely re...</td>\n",
              "      <td>iPad or iPhone App</td>\n",
              "      <td>Positive emotion</td>\n",
              "    </tr>\n",
              "    <tr>\n",
              "      <th>20</th>\n",
              "      <td>Need to buy an iPad2 while I'm in Austin at #s...</td>\n",
              "      <td>iPad</td>\n",
              "      <td>Positive emotion</td>\n",
              "    </tr>\n",
              "    <tr>\n",
              "      <th>21</th>\n",
              "      <td>Oh. My. God. The #SXSW app for iPad is pure, u...</td>\n",
              "      <td>iPad or iPhone App</td>\n",
              "      <td>Positive emotion</td>\n",
              "    </tr>\n",
              "    <tr>\n",
              "      <th>22</th>\n",
              "      <td>Okay, this is really it: yay new @Foursquare f...</td>\n",
              "      <td>Android App</td>\n",
              "      <td>Positive emotion</td>\n",
              "    </tr>\n",
              "    <tr>\n",
              "      <th>23</th>\n",
              "      <td>Photo: Just installed the #SXSW iPhone app, wh...</td>\n",
              "      <td>iPad or iPhone App</td>\n",
              "      <td>Positive emotion</td>\n",
              "    </tr>\n",
              "    <tr>\n",
              "      <th>24</th>\n",
              "      <td>Really enjoying the changes in Gowalla 3.0 for...</td>\n",
              "      <td>Android App</td>\n",
              "      <td>Positive emotion</td>\n",
              "    </tr>\n",
              "    <tr>\n",
              "      <th>25</th>\n",
              "      <td>RT @LaurieShook: I'm looking forward to the #S...</td>\n",
              "      <td>iPad</td>\n",
              "      <td>Positive emotion</td>\n",
              "    </tr>\n",
              "    <tr>\n",
              "      <th>26</th>\n",
              "      <td>RT haha, awesomely rad iPad app by @madebymany...</td>\n",
              "      <td>iPad or iPhone App</td>\n",
              "      <td>Positive emotion</td>\n",
              "    </tr>\n",
              "    <tr>\n",
              "      <th>27</th>\n",
              "      <td>someone started an #austin @PartnerHub group i...</td>\n",
              "      <td>Other Google product or service</td>\n",
              "      <td>Positive emotion</td>\n",
              "    </tr>\n",
              "    <tr>\n",
              "      <th>28</th>\n",
              "      <td>The new #4sq3 looks like it is going to rock. ...</td>\n",
              "      <td>iPad or iPhone App</td>\n",
              "      <td>Positive emotion</td>\n",
              "    </tr>\n",
              "    <tr>\n",
              "      <th>29</th>\n",
              "      <td>They were right, the @gowalla 3 app on #androi...</td>\n",
              "      <td>Android App</td>\n",
              "      <td>Positive emotion</td>\n",
              "    </tr>\n",
              "    <tr>\n",
              "      <th>30</th>\n",
              "      <td>Very smart from @madebymany #hollergram iPad a...</td>\n",
              "      <td>iPad or iPhone App</td>\n",
              "      <td>Positive emotion</td>\n",
              "    </tr>\n",
              "    <tr>\n",
              "      <th>31</th>\n",
              "      <td>You must have this app for your iPad if you ar...</td>\n",
              "      <td>iPad or iPhone App</td>\n",
              "      <td>Positive emotion</td>\n",
              "    </tr>\n",
              "    <tr>\n",
              "      <th>36</th>\n",
              "      <td>The best!  RT @mention Ha! First in line for #...</td>\n",
              "      <td>iPad</td>\n",
              "      <td>Positive emotion</td>\n",
              "    </tr>\n",
              "    <tr>\n",
              "      <th>...</th>\n",
              "      <td>...</td>\n",
              "      <td>...</td>\n",
              "      <td>...</td>\n",
              "    </tr>\n",
              "    <tr>\n",
              "      <th>9008</th>\n",
              "      <td>I'm pretty sure the panelist that thinks &amp;quot...</td>\n",
              "      <td>Apple</td>\n",
              "      <td>Negative emotion</td>\n",
              "    </tr>\n",
              "    <tr>\n",
              "      <th>9009</th>\n",
              "      <td>Very happy that Discovr has been named as one ...</td>\n",
              "      <td>iPad or iPhone App</td>\n",
              "      <td>Positive emotion</td>\n",
              "    </tr>\n",
              "    <tr>\n",
              "      <th>9012</th>\n",
              "      <td>Apparently there is an iPad and iPhone app to ...</td>\n",
              "      <td>iPad or iPhone App</td>\n",
              "      <td>Positive emotion</td>\n",
              "    </tr>\n",
              "    <tr>\n",
              "      <th>9013</th>\n",
              "      <td>On the way to #sxsw, see you all tonight! hope...</td>\n",
              "      <td>iPad</td>\n",
              "      <td>Positive emotion</td>\n",
              "    </tr>\n",
              "    <tr>\n",
              "      <th>9017</th>\n",
              "      <td>Stopped by Tron Legacy Lounge at  #SXSW. Audio...</td>\n",
              "      <td>iPad</td>\n",
              "      <td>Positive emotion</td>\n",
              "    </tr>\n",
              "    <tr>\n",
              "      <th>9018</th>\n",
              "      <td>Second day using my Apple iPad2 at #SXSW and I...</td>\n",
              "      <td>iPad</td>\n",
              "      <td>Positive emotion</td>\n",
              "    </tr>\n",
              "    <tr>\n",
              "      <th>9022</th>\n",
              "      <td>By the way, I love that y'all are so down to d...</td>\n",
              "      <td>Apple</td>\n",
              "      <td>Positive emotion</td>\n",
              "    </tr>\n",
              "    <tr>\n",
              "      <th>9025</th>\n",
              "      <td>Absolutely!  RT @mention Timely good schtuff f...</td>\n",
              "      <td>Other Google product or service</td>\n",
              "      <td>Positive emotion</td>\n",
              "    </tr>\n",
              "    <tr>\n",
              "      <th>9027</th>\n",
              "      <td>Good job y'all!  RT @mention Yes! Gowalla wins...</td>\n",
              "      <td>Android App</td>\n",
              "      <td>Positive emotion</td>\n",
              "    </tr>\n",
              "    <tr>\n",
              "      <th>9029</th>\n",
              "      <td>[TOP STORY] At #SXSW, Apple schools the market...</td>\n",
              "      <td>Apple</td>\n",
              "      <td>Positive emotion</td>\n",
              "    </tr>\n",
              "    <tr>\n",
              "      <th>9033</th>\n",
              "      <td>@mention yep! I can't believe they set up a po...</td>\n",
              "      <td>Apple</td>\n",
              "      <td>Positive emotion</td>\n",
              "    </tr>\n",
              "    <tr>\n",
              "      <th>9035</th>\n",
              "      <td>@mention Yes, I picked up the ipad 2 at #SXSW....</td>\n",
              "      <td>iPad</td>\n",
              "      <td>Positive emotion</td>\n",
              "    </tr>\n",
              "    <tr>\n",
              "      <th>9036</th>\n",
              "      <td>@mention Yes, that's why I favorited it! I wan...</td>\n",
              "      <td>iPad</td>\n",
              "      <td>Positive emotion</td>\n",
              "    </tr>\n",
              "    <tr>\n",
              "      <th>9044</th>\n",
              "      <td>Look everyone! Zomg @mention got an iPad 2 on ...</td>\n",
              "      <td>iPad</td>\n",
              "      <td>Positive emotion</td>\n",
              "    </tr>\n",
              "    <tr>\n",
              "      <th>9045</th>\n",
              "      <td>@mention you are my favorite-- thanks for comi...</td>\n",
              "      <td>iPhone</td>\n",
              "      <td>Positive emotion</td>\n",
              "    </tr>\n",
              "    <tr>\n",
              "      <th>9048</th>\n",
              "      <td>@mention You bet man! Kindle and Apple for sur...</td>\n",
              "      <td>Apple</td>\n",
              "      <td>Positive emotion</td>\n",
              "    </tr>\n",
              "    <tr>\n",
              "      <th>9051</th>\n",
              "      <td>@mention You can get an iPad 1 for under $350 ...</td>\n",
              "      <td>iPad</td>\n",
              "      <td>No emotion toward brand or product</td>\n",
              "    </tr>\n",
              "    <tr>\n",
              "      <th>9060</th>\n",
              "      <td>@mention you might also appreciate new iPhone ...</td>\n",
              "      <td>iPad or iPhone App</td>\n",
              "      <td>Positive emotion</td>\n",
              "    </tr>\n",
              "    <tr>\n",
              "      <th>9061</th>\n",
              "      <td>@mention You realize I'm still padless? I just...</td>\n",
              "      <td>iPad</td>\n",
              "      <td>Positive emotion</td>\n",
              "    </tr>\n",
              "    <tr>\n",
              "      <th>9063</th>\n",
              "      <td>@mention You should get the iPad 2  to save yo...</td>\n",
              "      <td>iPad</td>\n",
              "      <td>Positive emotion</td>\n",
              "    </tr>\n",
              "    <tr>\n",
              "      <th>9064</th>\n",
              "      <td>@mention you should see the line here at #SXSW...</td>\n",
              "      <td>Apple</td>\n",
              "      <td>Positive emotion</td>\n",
              "    </tr>\n",
              "    <tr>\n",
              "      <th>9066</th>\n",
              "      <td>How much you want to bet Apple is disproportio...</td>\n",
              "      <td>Apple</td>\n",
              "      <td>I can't tell</td>\n",
              "    </tr>\n",
              "    <tr>\n",
              "      <th>9070</th>\n",
              "      <td>You know you've made it to #sxsw when you see ...</td>\n",
              "      <td>iPad</td>\n",
              "      <td>Positive emotion</td>\n",
              "    </tr>\n",
              "    <tr>\n",
              "      <th>9071</th>\n",
              "      <td>what are your essentials for #SxSW?  Mine? poc...</td>\n",
              "      <td>iPad</td>\n",
              "      <td>Positive emotion</td>\n",
              "    </tr>\n",
              "    <tr>\n",
              "      <th>9072</th>\n",
              "      <td>@mention your iPhone 4 cases are Rad and Ready...</td>\n",
              "      <td>iPhone</td>\n",
              "      <td>Positive emotion</td>\n",
              "    </tr>\n",
              "    <tr>\n",
              "      <th>9077</th>\n",
              "      <td>@mention your PR guy just convinced me to swit...</td>\n",
              "      <td>iPhone</td>\n",
              "      <td>Positive emotion</td>\n",
              "    </tr>\n",
              "    <tr>\n",
              "      <th>9079</th>\n",
              "      <td>&amp;quot;papyrus...sort of like the ipad&amp;quot; - ...</td>\n",
              "      <td>iPad</td>\n",
              "      <td>Positive emotion</td>\n",
              "    </tr>\n",
              "    <tr>\n",
              "      <th>9080</th>\n",
              "      <td>Diller says Google TV &amp;quot;might be run over ...</td>\n",
              "      <td>Other Google product or service</td>\n",
              "      <td>Negative emotion</td>\n",
              "    </tr>\n",
              "    <tr>\n",
              "      <th>9085</th>\n",
              "      <td>I've always used Camera+ for my iPhone b/c it ...</td>\n",
              "      <td>iPad or iPhone App</td>\n",
              "      <td>Positive emotion</td>\n",
              "    </tr>\n",
              "    <tr>\n",
              "      <th>9088</th>\n",
              "      <td>Ipad everywhere. #SXSW {link}</td>\n",
              "      <td>iPad</td>\n",
              "      <td>Positive emotion</td>\n",
              "    </tr>\n",
              "  </tbody>\n",
              "</table>\n",
              "<p>3291 rows × 3 columns</p>\n",
              "</div>"
            ],
            "text/plain": [
              "                                             tweet_text  ... is_there_an_emotion_directed_at_a_brand_or_product\n",
              "0     .@wesley83 I have a 3G iPhone. After 3 hrs twe...  ...                                   Negative emotion\n",
              "1     @jessedee Know about @fludapp ? Awesome iPad/i...  ...                                   Positive emotion\n",
              "2     @swonderlin Can not wait for #iPad 2 also. The...  ...                                   Positive emotion\n",
              "3     @sxsw I hope this year's festival isn't as cra...  ...                                   Negative emotion\n",
              "4     @sxtxstate great stuff on Fri #SXSW: Marissa M...  ...                                   Positive emotion\n",
              "7     #SXSW is just starting, #CTIA is around the co...  ...                                   Positive emotion\n",
              "8     Beautifully smart and simple idea RT @madebyma...  ...                                   Positive emotion\n",
              "9     Counting down the days to #sxsw plus strong Ca...  ...                                   Positive emotion\n",
              "10    Excited to meet the @samsungmobileus at #sxsw ...  ...                                   Positive emotion\n",
              "11    Find &amp; Start Impromptu Parties at #SXSW Wi...  ...                                   Positive emotion\n",
              "12    Foursquare ups the game, just in time for #SXS...  ...                                   Positive emotion\n",
              "13    Gotta love this #SXSW Google Calendar featurin...  ...                                   Positive emotion\n",
              "14    Great #sxsw ipad app from @madebymany: http://...  ...                                   Positive emotion\n",
              "15    haha, awesomely rad iPad app by @madebymany ht...  ...                                   Positive emotion\n",
              "17    I just noticed DST is coming this weekend. How...  ...                                   Negative emotion\n",
              "18    Just added my #SXSW flights to @planely. Match...  ...                                   Positive emotion\n",
              "19    Must have #SXSW app! RT @malbonster: Lovely re...  ...                                   Positive emotion\n",
              "20    Need to buy an iPad2 while I'm in Austin at #s...  ...                                   Positive emotion\n",
              "21    Oh. My. God. The #SXSW app for iPad is pure, u...  ...                                   Positive emotion\n",
              "22    Okay, this is really it: yay new @Foursquare f...  ...                                   Positive emotion\n",
              "23    Photo: Just installed the #SXSW iPhone app, wh...  ...                                   Positive emotion\n",
              "24    Really enjoying the changes in Gowalla 3.0 for...  ...                                   Positive emotion\n",
              "25    RT @LaurieShook: I'm looking forward to the #S...  ...                                   Positive emotion\n",
              "26    RT haha, awesomely rad iPad app by @madebymany...  ...                                   Positive emotion\n",
              "27    someone started an #austin @PartnerHub group i...  ...                                   Positive emotion\n",
              "28    The new #4sq3 looks like it is going to rock. ...  ...                                   Positive emotion\n",
              "29    They were right, the @gowalla 3 app on #androi...  ...                                   Positive emotion\n",
              "30    Very smart from @madebymany #hollergram iPad a...  ...                                   Positive emotion\n",
              "31    You must have this app for your iPad if you ar...  ...                                   Positive emotion\n",
              "36    The best!  RT @mention Ha! First in line for #...  ...                                   Positive emotion\n",
              "...                                                 ...  ...                                                ...\n",
              "9008  I'm pretty sure the panelist that thinks &quot...  ...                                   Negative emotion\n",
              "9009  Very happy that Discovr has been named as one ...  ...                                   Positive emotion\n",
              "9012  Apparently there is an iPad and iPhone app to ...  ...                                   Positive emotion\n",
              "9013  On the way to #sxsw, see you all tonight! hope...  ...                                   Positive emotion\n",
              "9017  Stopped by Tron Legacy Lounge at  #SXSW. Audio...  ...                                   Positive emotion\n",
              "9018  Second day using my Apple iPad2 at #SXSW and I...  ...                                   Positive emotion\n",
              "9022  By the way, I love that y'all are so down to d...  ...                                   Positive emotion\n",
              "9025  Absolutely!  RT @mention Timely good schtuff f...  ...                                   Positive emotion\n",
              "9027  Good job y'all!  RT @mention Yes! Gowalla wins...  ...                                   Positive emotion\n",
              "9029  [TOP STORY] At #SXSW, Apple schools the market...  ...                                   Positive emotion\n",
              "9033  @mention yep! I can't believe they set up a po...  ...                                   Positive emotion\n",
              "9035  @mention Yes, I picked up the ipad 2 at #SXSW....  ...                                   Positive emotion\n",
              "9036  @mention Yes, that's why I favorited it! I wan...  ...                                   Positive emotion\n",
              "9044  Look everyone! Zomg @mention got an iPad 2 on ...  ...                                   Positive emotion\n",
              "9045  @mention you are my favorite-- thanks for comi...  ...                                   Positive emotion\n",
              "9048  @mention You bet man! Kindle and Apple for sur...  ...                                   Positive emotion\n",
              "9051  @mention You can get an iPad 1 for under $350 ...  ...                 No emotion toward brand or product\n",
              "9060  @mention you might also appreciate new iPhone ...  ...                                   Positive emotion\n",
              "9061  @mention You realize I'm still padless? I just...  ...                                   Positive emotion\n",
              "9063  @mention You should get the iPad 2  to save yo...  ...                                   Positive emotion\n",
              "9064  @mention you should see the line here at #SXSW...  ...                                   Positive emotion\n",
              "9066  How much you want to bet Apple is disproportio...  ...                                       I can't tell\n",
              "9070  You know you've made it to #sxsw when you see ...  ...                                   Positive emotion\n",
              "9071  what are your essentials for #SxSW?  Mine? poc...  ...                                   Positive emotion\n",
              "9072  @mention your iPhone 4 cases are Rad and Ready...  ...                                   Positive emotion\n",
              "9077  @mention your PR guy just convinced me to swit...  ...                                   Positive emotion\n",
              "9079  &quot;papyrus...sort of like the ipad&quot; - ...  ...                                   Positive emotion\n",
              "9080  Diller says Google TV &quot;might be run over ...  ...                                   Negative emotion\n",
              "9085  I've always used Camera+ for my iPhone b/c it ...  ...                                   Positive emotion\n",
              "9088                      Ipad everywhere. #SXSW {link}  ...                                   Positive emotion\n",
              "\n",
              "[3291 rows x 3 columns]"
            ]
          },
          "metadata": {
            "tags": []
          },
          "execution_count": 36
        }
      ]
    },
    {
      "cell_type": "code",
      "metadata": {
        "id": "Hfwp5OSczGUV",
        "colab_type": "code",
        "outputId": "dccb0229-d43e-4bd5-90aa-11d0b1aefbb3",
        "colab": {
          "base_uri": "https://localhost:8080/",
          "height": 173
        }
      },
      "source": [
        "t_df.describe()"
      ],
      "execution_count": 0,
      "outputs": [
        {
          "output_type": "execute_result",
          "data": {
            "text/html": [
              "<div>\n",
              "<style scoped>\n",
              "    .dataframe tbody tr th:only-of-type {\n",
              "        vertical-align: middle;\n",
              "    }\n",
              "\n",
              "    .dataframe tbody tr th {\n",
              "        vertical-align: top;\n",
              "    }\n",
              "\n",
              "    .dataframe thead th {\n",
              "        text-align: right;\n",
              "    }\n",
              "</style>\n",
              "<table border=\"1\" class=\"dataframe\">\n",
              "  <thead>\n",
              "    <tr style=\"text-align: right;\">\n",
              "      <th></th>\n",
              "      <th>tweet_text</th>\n",
              "      <th>emotion_in_tweet_is_directed_at</th>\n",
              "      <th>is_there_an_emotion_directed_at_a_brand_or_product</th>\n",
              "    </tr>\n",
              "  </thead>\n",
              "  <tbody>\n",
              "    <tr>\n",
              "      <th>count</th>\n",
              "      <td>9092</td>\n",
              "      <td>3291</td>\n",
              "      <td>9093</td>\n",
              "    </tr>\n",
              "    <tr>\n",
              "      <th>unique</th>\n",
              "      <td>9065</td>\n",
              "      <td>9</td>\n",
              "      <td>4</td>\n",
              "    </tr>\n",
              "    <tr>\n",
              "      <th>top</th>\n",
              "      <td>RT @mention Marissa Mayer: Google Will Connect...</td>\n",
              "      <td>iPad</td>\n",
              "      <td>No emotion toward brand or product</td>\n",
              "    </tr>\n",
              "    <tr>\n",
              "      <th>freq</th>\n",
              "      <td>5</td>\n",
              "      <td>946</td>\n",
              "      <td>5389</td>\n",
              "    </tr>\n",
              "  </tbody>\n",
              "</table>\n",
              "</div>"
            ],
            "text/plain": [
              "                                               tweet_text  ... is_there_an_emotion_directed_at_a_brand_or_product\n",
              "count                                                9092  ...                                               9093\n",
              "unique                                               9065  ...                                                  4\n",
              "top     RT @mention Marissa Mayer: Google Will Connect...  ...                 No emotion toward brand or product\n",
              "freq                                                    5  ...                                               5389\n",
              "\n",
              "[4 rows x 3 columns]"
            ]
          },
          "metadata": {
            "tags": []
          },
          "execution_count": 37
        }
      ]
    },
    {
      "cell_type": "markdown",
      "metadata": {
        "id": "jPJvTjefH0NI",
        "colab_type": "text"
      },
      "source": [
        "### 14. Preprocess the text and add the preprocessed text in a column with name `text` in the dataframe."
      ]
    },
    {
      "cell_type": "code",
      "metadata": {
        "id": "5iec5s9gH0NI",
        "colab_type": "code",
        "colab": {}
      },
      "source": [
        "def preprocess(text):\n",
        "    try:\n",
        "        return text.decode('ascii')\n",
        "    except Exception as e:\n",
        "        return \"\""
      ],
      "execution_count": 0,
      "outputs": []
    },
    {
      "cell_type": "code",
      "metadata": {
        "id": "EQSmqA-vH0NT",
        "colab_type": "code",
        "colab": {}
      },
      "source": [
        "t_df['text'] = [preprocess(text) for text in t_df.tweet_text]"
      ],
      "execution_count": 0,
      "outputs": []
    },
    {
      "cell_type": "code",
      "metadata": {
        "id": "7kX-WoJDH0NV",
        "colab_type": "code",
        "outputId": "89f198bb-b427-452f-8041-c00fc81fdae8",
        "colab": {
          "base_uri": "https://localhost:8080/",
          "height": 34
        }
      },
      "source": [
        "t_df.shape\n"
      ],
      "execution_count": 0,
      "outputs": [
        {
          "output_type": "execute_result",
          "data": {
            "text/plain": [
              "(9093, 4)"
            ]
          },
          "metadata": {
            "tags": []
          },
          "execution_count": 40
        }
      ]
    },
    {
      "cell_type": "markdown",
      "metadata": {
        "id": "OGWB3P2WH0NY",
        "colab_type": "text"
      },
      "source": [
        "### 15. Consider only rows having Positive emotion and Negative emotion and remove other rows from the dataframe."
      ]
    },
    {
      "cell_type": "code",
      "metadata": {
        "id": "bdgA_8N2H0NY",
        "colab_type": "code",
        "colab": {}
      },
      "source": [
        "t_df_filtered =  t_df[(t_df['is_there_an_emotion_directed_at_a_brand_or_product']=='Positive emotion') | (t_df['is_there_an_emotion_directed_at_a_brand_or_product']=='Negative emotion')]"
      ],
      "execution_count": 0,
      "outputs": []
    },
    {
      "cell_type": "code",
      "metadata": {
        "id": "_Jlu-reIH0Na",
        "colab_type": "code",
        "outputId": "aac4661f-47fe-47e6-b1c5-d468b9106220",
        "colab": {
          "base_uri": "https://localhost:8080/",
          "height": 34
        }
      },
      "source": [
        "t_df_filtered.shape"
      ],
      "execution_count": 0,
      "outputs": [
        {
          "output_type": "execute_result",
          "data": {
            "text/plain": [
              "(3548, 4)"
            ]
          },
          "metadata": {
            "tags": []
          },
          "execution_count": 42
        }
      ]
    },
    {
      "cell_type": "code",
      "metadata": {
        "id": "3onGC13S8tu8",
        "colab_type": "code",
        "outputId": "7f4b3b7b-cc67-4adb-b686-e82e14a01c11",
        "colab": {
          "base_uri": "https://localhost:8080/",
          "height": 408
        }
      },
      "source": [
        "t_df_filtered.head()"
      ],
      "execution_count": 0,
      "outputs": [
        {
          "output_type": "execute_result",
          "data": {
            "text/html": [
              "<div>\n",
              "<style scoped>\n",
              "    .dataframe tbody tr th:only-of-type {\n",
              "        vertical-align: middle;\n",
              "    }\n",
              "\n",
              "    .dataframe tbody tr th {\n",
              "        vertical-align: top;\n",
              "    }\n",
              "\n",
              "    .dataframe thead th {\n",
              "        text-align: right;\n",
              "    }\n",
              "</style>\n",
              "<table border=\"1\" class=\"dataframe\">\n",
              "  <thead>\n",
              "    <tr style=\"text-align: right;\">\n",
              "      <th></th>\n",
              "      <th>tweet_text</th>\n",
              "      <th>emotion_in_tweet_is_directed_at</th>\n",
              "      <th>is_there_an_emotion_directed_at_a_brand_or_product</th>\n",
              "      <th>text</th>\n",
              "    </tr>\n",
              "  </thead>\n",
              "  <tbody>\n",
              "    <tr>\n",
              "      <th>0</th>\n",
              "      <td>.@wesley83 I have a 3G iPhone. After 3 hrs twe...</td>\n",
              "      <td>iPhone</td>\n",
              "      <td>Negative emotion</td>\n",
              "      <td>.@wesley83 I have a 3G iPhone. After 3 hrs twe...</td>\n",
              "    </tr>\n",
              "    <tr>\n",
              "      <th>1</th>\n",
              "      <td>@jessedee Know about @fludapp ? Awesome iPad/i...</td>\n",
              "      <td>iPad or iPhone App</td>\n",
              "      <td>Positive emotion</td>\n",
              "      <td>@jessedee Know about @fludapp ? Awesome iPad/i...</td>\n",
              "    </tr>\n",
              "    <tr>\n",
              "      <th>2</th>\n",
              "      <td>@swonderlin Can not wait for #iPad 2 also. The...</td>\n",
              "      <td>iPad</td>\n",
              "      <td>Positive emotion</td>\n",
              "      <td>@swonderlin Can not wait for #iPad 2 also. The...</td>\n",
              "    </tr>\n",
              "    <tr>\n",
              "      <th>3</th>\n",
              "      <td>@sxsw I hope this year's festival isn't as cra...</td>\n",
              "      <td>iPad or iPhone App</td>\n",
              "      <td>Negative emotion</td>\n",
              "      <td>@sxsw I hope this year's festival isn't as cra...</td>\n",
              "    </tr>\n",
              "    <tr>\n",
              "      <th>4</th>\n",
              "      <td>@sxtxstate great stuff on Fri #SXSW: Marissa M...</td>\n",
              "      <td>Google</td>\n",
              "      <td>Positive emotion</td>\n",
              "      <td>@sxtxstate great stuff on Fri #SXSW: Marissa M...</td>\n",
              "    </tr>\n",
              "  </tbody>\n",
              "</table>\n",
              "</div>"
            ],
            "text/plain": [
              "                                          tweet_text  ...                                               text\n",
              "0  .@wesley83 I have a 3G iPhone. After 3 hrs twe...  ...  .@wesley83 I have a 3G iPhone. After 3 hrs twe...\n",
              "1  @jessedee Know about @fludapp ? Awesome iPad/i...  ...  @jessedee Know about @fludapp ? Awesome iPad/i...\n",
              "2  @swonderlin Can not wait for #iPad 2 also. The...  ...  @swonderlin Can not wait for #iPad 2 also. The...\n",
              "3  @sxsw I hope this year's festival isn't as cra...  ...  @sxsw I hope this year's festival isn't as cra...\n",
              "4  @sxtxstate great stuff on Fri #SXSW: Marissa M...  ...  @sxtxstate great stuff on Fri #SXSW: Marissa M...\n",
              "\n",
              "[5 rows x 4 columns]"
            ]
          },
          "metadata": {
            "tags": []
          },
          "execution_count": 43
        }
      ]
    },
    {
      "cell_type": "markdown",
      "metadata": {
        "id": "SotCRvkDH0Nf",
        "colab_type": "text"
      },
      "source": [
        "### 16. Represent text as numerical data using `CountVectorizer` and get the document term frequency matrix\n",
        "\n",
        "#### Use `vect` as the variable name for initialising CountVectorizer."
      ]
    },
    {
      "cell_type": "code",
      "metadata": {
        "id": "YcbkY4sgH0Ng",
        "colab_type": "code",
        "colab": {}
      },
      "source": [
        "from sklearn.feature_extraction.text import CountVectorizer\n",
        "\n",
        "\n",
        "vectorizer = CountVectorizer(analyzer = \"word\",   \\\n",
        "                             tokenizer = None,    \\\n",
        "                             preprocessor = None, \\\n",
        "                             stop_words = None,   \\\n",
        "                             max_features = 5000) \n",
        "\n",
        "\n",
        "train_data_features = vectorizer.fit_transform(df_clean.text)\n",
        "train_data_features = train_data_features.toarray()\n",
        "\n",
        "# train_data_features = train_data_features.toarray()"
      ],
      "execution_count": 0,
      "outputs": []
    },
    {
      "cell_type": "code",
      "metadata": {
        "id": "KyXtZGr-H0Nl",
        "colab_type": "code",
        "outputId": "4b44ff34-9279-487e-e2e3-d025bb638175",
        "colab": {
          "base_uri": "https://localhost:8080/",
          "height": 34
        }
      },
      "source": [
        "train_data_features.shape"
      ],
      "execution_count": 0,
      "outputs": [
        {
          "output_type": "execute_result",
          "data": {
            "text/plain": [
              "(3548, 5000)"
            ]
          },
          "metadata": {
            "tags": []
          },
          "execution_count": 45
        }
      ]
    },
    {
      "cell_type": "code",
      "metadata": {
        "id": "Z4LUM-XPH0Nn",
        "colab_type": "code",
        "outputId": "f14215a4-eff7-4e8e-a21d-b9ed97effc85",
        "colab": {
          "base_uri": "https://localhost:8080/",
          "height": 136
        }
      },
      "source": [
        "train_data_features"
      ],
      "execution_count": 0,
      "outputs": [
        {
          "output_type": "execute_result",
          "data": {
            "text/plain": [
              "array([[0, 0, 0, ..., 0, 0, 0],\n",
              "       [0, 0, 0, ..., 0, 0, 0],\n",
              "       [0, 0, 0, ..., 0, 0, 0],\n",
              "       ...,\n",
              "       [0, 0, 0, ..., 0, 0, 0],\n",
              "       [0, 0, 0, ..., 0, 0, 0],\n",
              "       [0, 0, 0, ..., 0, 0, 0]])"
            ]
          },
          "metadata": {
            "tags": []
          },
          "execution_count": 46
        }
      ]
    },
    {
      "cell_type": "code",
      "metadata": {
        "id": "aIdZYxJtH0Nq",
        "colab_type": "code",
        "colab": {}
      },
      "source": [
        ""
      ],
      "execution_count": 0,
      "outputs": []
    },
    {
      "cell_type": "markdown",
      "metadata": {
        "id": "5pxd5fSHH0Nt",
        "colab_type": "text"
      },
      "source": [
        "### 17. Find number of different words in vocabulary"
      ]
    },
    {
      "cell_type": "code",
      "metadata": {
        "id": "p1DQ2LdNH0Nu",
        "colab_type": "code",
        "outputId": "e0824790-2a13-449d-e5c9-db1a8ae8f17e",
        "colab": {
          "base_uri": "https://localhost:8080/",
          "height": 74
        }
      },
      "source": [
        "vocab = vectorizer.get_feature_names()\n",
        "print vocab"
      ],
      "execution_count": 0,
      "outputs": [
        {
          "output_type": "stream",
          "text": [
            "[u'000', u'02', u'03', u'0310apple', u'08', u'10', u'100', u'100s', u'100tc', u'101', u'106', u'10am', u'10k', u'10mins', u'10pm', u'10x', u'11', u'11ntc', u'11th', u'12', u'120', u'12b', u'12th', u'13', u'130', u'14', u'1406', u'1413', u'1415', u'15', u'150', u'1500', u'150m', u'157', u'15am', u'15k', u'15slides', u'16162', u'169', u'16gb', u'16mins', u'17', u'188', u'1986', u'1990style', u'1991', u'1k', u'1m', u'1pm', u'1st', u'20', u'200', u'2010', u'2011', u'2012', u'20s', u'21', u'210', u'22', u'23', u'24', u'25', u'250k', u'25th', u'2am', u'2day', u'2honor', u'2moro', u'2nd', u'2nite', u'2s', u'2yrs', u'30', u'300', u'3000', u'30a', u'30am', u'30p', u'30pm', u'310409h2011', u'32', u'32gb', u'35', u'36', u'360', u'37', u'3blks', u'3d', u'3g', u'3gs', u'3k', u'3rd', u'3x', u'40', u'400', u'40min', u'41', u'437', u'45', u'45am', u'47', u'48', u'4am', u'4android', u'4chan', u'4g', u'4nqv92l', u'4sq', u'4sq3', u'4square', u'50', u'54', u'55', u'58', u'59', u'59pm', u'5hrs', u'5pm', u'5th', u'60', u'64g', u'64gb', u'64gig', u'64mb', u'65', u'6hours', u'6th', u'70', u'75', u'7th', u'80', u'800', u'80s', u'81', u'82', u'83323324', u'83323414', u'89', u'8am', u'8p', u'8pm', u'90', u'900', u'911tweets', u'95', u'96', u'967', u'97', u'98', u'99', u'9th', u'______', u'_______', u'a3xvwc6', u'aapl', u'abacus', u'abandoned', u'ability', u'able', u'about', u'above', u'abroad', u'absolute', u'absolutely', u'abt', u'abuzz', u'academy', u'acc', u'acceptable', u'access', u'accessibility', u'accessible', u'accessories', u'accessory', u'accesssxsw', u'accommodate', u'according', u'accordion', u'account', u'acerbic', u'achieve', u'acknowledge', u'aclu', u'aclus', u'acquired', u'across', u'acrosse', u'acting', u'action', u'actions', u'activate', u'activations', u'activity', u'actors', u'actsofsharing', u'actual', u'actually', u'ad', u'adam', u'adapt', u'adaptive', u'add', u'added', u'addicted', u'addictedtotheinterwebs', u'addiction', u'addictive', u'addicts', u'adding', u'addition', u'additional', u'address', u'admired', u'admission', u'admit', u'admits', u'admitting', u'ado', u'adopter', u'adopters', u'adoption', u'adpeopleproblems', u'ads', u'advanced', u'advantage', u'advent', u'adventure', u'advertising', u'advice', u'advisory', u'aesthetic', u'affair', u'affirmative', u'afford', u'afraid', u'africans', u'after', u'afternoon', u'again', u'against', u'agchat', u'age', u'agencies', u'agency', u'agenda', u'agents', u'agileagency', u'agnerd', u'ago', u'agree', u'agreed', u'ah', u'ahead', u'ahem', u'ahh', u'ahhh', u'ahing', u'aicn', u'aiding', u'aim', u'ain', u'air', u'airline', u'airlines', u'airplane', u'airport', u'airports', u'airs', u'ajs2011', u'aka', u'akqas', u'al', u'alamo', u'alan', u'alarm', u'alarms', u'alas', u'album', u'alert', u'alerts', u'alex', u'algorithm', u'alive', u'all', u'allhat', u'allhat3', u'allow', u'allowing', u'allows', u'almost', u'alone', u'along', u'alot', u'alphagraphics', u'already', u'also', u'alt', u'alternate', u'alternative', u'although', u'altimeter', u'always', u'alwayshavingtoplugin', u'am', u'amateurhour', u'amazing', u'amazingly', u'amazon', u'ambassador', u'amble', u'amen', u'america', u'amex', u'amid', u'amigos', u'amismarternow', u'among', u'amount', u'amp', u'amused', u'amusing', u'an', u'analysis', u'analytics', u'and', u'andoid', u'andrew', u'andriod', u'andro', u'android', u'androidsxsw', u'angel', u'angry', u'angrybirds', u'animation', u'announce', u'announced', u'announcement', u'announcements', u'announces', u'announcing', u'annoyed', u'annoying', u'another', u'answer', u'answered', u'anti', u'anticipate', u'antigov', u'antique', u'antonio', u'antwoord', u'anxiety', u'anxious', u'any', u'anybody', u'anybodywanttobuymeanipad2', u'anymore', u'anyone', u'anyones', u'anything', u'anyway', u'anyways', u'anywhere', u'aos', u'ap', u'apac', u'apartment', u'api', u'apis', u'apologies', u'app', u'apparent', u'apparently', u'appcircus', u'appeal', u'appealing', u'appear', u'appears', u'applauds', u'applause', u'apple', u'apple_store', u'appleaddiction', u'appleatxdt', u'applefanatic', u'apples', u'appletakingoverworld', u'appletogo', u'application', u'applications', u'appolicious', u'appreciate', u'appreciation', u'approaches', u'approval', u'approved', u'approves', u'apps', u'appstore', u'aquent', u'arcade', u'archive', u'arctic', u'arduino', u'are', u'area', u'areas', u'aren', u'arg', u'argues', u'argument', u'aristotle', u'arm', u'armadillo', u'armed', u'aron', u'around', u'arrived', u'arrives', u'arriving', u'arsenal', u'art', u'article', u'articles', u'articulate', u'artificial', u'artist', u'artistic', u'artists', u'artwork', u'artworks', u'arw', u'as', u'asddieu', u'ask', u'asked', u'asking', u'asks', u'asleep', u'ass', u'assistivetech', u'assume', u'at', u'atari', u'atl', u'atms', u'atrix', u'att', u'attached', u'attempt', u'attend', u'attended', u'attendees', u'attending', u'attention', u'attitudes', u'attracted', u'attracting', u'attractive', u'atx', u'atzip', u'audience', u'audio', u'augcomm', u'augmented', u'augmentedreality', u'auntie', u'aus', u'austin', u'austincrowd', u'austinites', u'austintx', u'austinwins', u'australian', u'ausxsw', u'auth', u'authenticator', u'authorization', u'autistic', u'auto', u'autocorrect', u'autocorrected', u'autocorrects', u'autodial', u'automatically', u'autonomous', u'avail', u'available', u'ave', u'avenue', u'average', u'averages', u'avoid', u'avoiding', u'aw', u'awake', u'award', u'awards', u'aware', u'awareness', u'away', u'awe', u'awesome', u'awesomely', u'awesomeness', u'awesometiming', u'awhile', u'awkward', u'awwww', u'axzwxb', u'b4', u'baby', u'back', u'background', u'backlight', u'backpack', u'backup', u'backupify', u'bad', u'badge', u'badger', u'badges', u'bag', u'bags', u'bahahahaha', u'bajillions', u'balance', u'balckberries', u'balcony', u'ball', u'ballroom', u'ballrooms', u'banality', u'band', u'bands', u'bandwaggoners', u'bandwidth', u'bang', u'banged', u'bank', u'banking', u'bankinnovate', u'bankinnovation', u'banks', u'bar', u'barcode', u'barely', u'barging', u'barring', u'barroom', u'barry', u'barrydiller', u'bars', u'bart', u'barton', u'based', u'bashing', u'basic', u'basically', u'basics', u'basis', u'basket', u'bastards', u'bat', u'bathroom', u'batphone', u'batt', u'batteries', u'battery', u'batterykiller', u'battle', u'battledecks', u'battlela', u'bavc', u'bavcid', u'bawling', u'bb', u'bbq', u'bc', u'bday', u'be', u'beach', u'beans', u'bear', u'beard', u'beards', u'beat', u'beats', u'beautiful', u'beautifully', u'beauty', u'because', u'become', u'becoming', u'bed', u'beechwood', u'been', u'beer', u'before', u'beforetwitter', u'begin', u'beginning', u'begins', u'behance', u'behave', u'behaving', u'behavior', u'behind', u'being', u'believe', u'belinsky', u'belong', u'beluga', u'bemyneighbor', u'ben', u'benefit', u'benieuwd', u'bereft', u'bergstrom', u'berklee', u'berkowitz', u'bernd', u'berry', u'best', u'bestappever', u'bestie', u'bet', u'beta', u'betainvites', u'better', u'bettercloud', u'bettersearch', u'betterthingstodo', u'between', u'beware', u'beyond', u'beyondwc', u'bff', u'bgr', u'bicycle', u'big', u'bigger', u'biggest', u'bike', u'billboard', u'billion', u'bin', u'bing', u'biomimicry', u'bird', u'birds', u'birth', u'bit', u'bite', u'biz', u'bizzy', u'bjdproductions', u'black', u'blackberry', u'blackbook', u'blacked', u'blame', u'blast', u'bldg', u'bleed', u'blew', u'blind', u'blinksale', u'block', u'blocked', u'blocks', u'blog', u'bloggable', u'blogger', u'blogging', u'blogs', u'bloody', u'bloomberg', u'blowing', u'blows', u'blue', u'blueray', u'bluetooth', u'bluezoom', u'bmm', u'bnet', u'board', u'boarded', u'body', u'bomb', u'bonus', u'boo', u'book', u'bookbook', u'books', u'boom', u'boomers', u'boooo', u'boost', u'booth', u'boots', u'booyah', u'booze', u'borderstylo', u'bored', u'boring', u'born', u'borrow', u'borrowing', u'boss', u'botch', u'both', u'bother', u'bots', u'bottom', u'bought', u'bounced', u'bound', u'boundaries', u'bout', u'bowl', u'box', u'boxee', u'boxes', u'boy', u'boyfriend', u'boyfriends', u'boys', u'bpm', u'bracket', u'brah', u'brain', u'brains', u'brainwashed', u'brand', u'branded', u'brands', u'bravo', u'brawls', u'brazil', u'breach', u'bread', u'break', u'breakdown', u'breakfast', u'breaking', u'breakout', u'breakthrough', u'breath', u'breathtaking', u'breeds', u'brian_lam', u'brick', u'bricklin', u'bridging', u'brief', u'bright', u'brightens', u'brightness', u'brilliance', u'brilliant', u'bring', u'bringing', u'brings', u'brisk', u'british', u'brits', u'brk', u'bro', u'broadcast', u'broadcastr', u'broadfeed', u'broken', u'brother', u'brought', u'browse', u'browser', u'browserwars', u'browsing', u'bruises', u'brushstroke', u'bryce', u'bt', u'btw', u'bubble', u'bucket', u'buffalo', u'bug', u'bugger', u'buggy', u'bugs', u'build', u'building', u'buildings', u'built', u'bull', u'bulletin', u'bullish', u'bummed', u'bummer', u'bump', u'bumped', u'bunch', u'burn', u'bursts', u'bus', u'busdev', u'business', u'businesses', u'busy', u'but', u'butt', u'button', u'buttons', u'butts', u'buy', u'buyers', u'buying', u'buys', u'buzz', u'buzzing', u'buzzmetrics', u'by', u'bynd', u'ca', u'cab', u'cabbies', u'cable', u'cables', u'cabs', u'cactus', u'cake', u'calendar', u'calhoun', u'california', u'call', u'callback', u'called', u'calls', u'calyp', u'cam', u'came', u'camera', u'cameras', u'campaigns', u'campbell', u'campus', u'can', u'canada', u'canadian', u'cancel', u'cannot', u'cant', u'canvas', u'capabilities', u'capitol', u'capped', u'capture', u'captured', u'car', u'caramel', u'carbon', u'card', u'cards', u'care', u'career', u'caring', u'carousel', u'carry', u'carrying', u'cart', u'cartel', u'cartoon', u'cartoonishly', u'case', u'cases', u'cash', u'cashmere', u'cashmore', u'cast', u'castle', u'casually', u'cat', u'catch', u'catching', u'catfight', u'catphysics', u'cattle', u'cause', u'caused', u'causing', u'cautiously', u'cbatsxsw', u'cc', u'cedar', u'celebrate', u'celebrating', u'celebs', u'cell', u'cellular', u'center', u'centers', u'central', u'centre', u'centric', u'cents', u'ceo', u'ceokidschat', u'cera', u'cerebellum', u'cerebral', u'certain', u'certificate', u'ces', u'chain', u'chair', u'chalked', u'challenged', u'challenges', u'champ', u'chance', u'chances', u'change', u'changed', u'changer', u'changes', u'changing', u'channel', u'channels', u'chaos', u'characters', u'charge', u'charged', u'charger', u'chargers', u'charges', u'chargin2diffphonesatonce', u'charging', u'charity', u'charles', u'charm', u'charts', u'chat', u'chatter', u'chatting', u'cheap', u'cheapen', u'cheaper', u'check', u'checked', u'checking', u'checkins', u'cheeky', u'cheer', u'cheers', u'cheese', u'chen', u'chevy', u'chevysmc', u'chevysxsw', u'chevytweethouse', u'chic', u'chief', u'childhood', u'chill', u'chilltab', u'china', u'chinese', u'chip', u'chk', u'chng', u'choice', u'chokes', u'choose', u'choplifter', u'choreography', u'chris', u'christian', u'christmas', u'chrome', u'chromeos', u'chronicling', u'chumps', u'chunky', u'cigarettes', u'cinema', u'circle', u'circles', u'circus', u'circusmash', u'cited', u'cites', u'city', u'ck', u'cks', u'claims', u'clarity', u'clark', u'class', u'classics', u'classiest', u'classy', u'cle', u'clean', u'clear', u'clearly', u'cleveland', u'clever', u'click', u'clicked', u'client', u'clients', u'climbing', u'clip', u'clipcon', u'clocks', u'close', u'closed', u'closely', u'closer', u'clothes', u'cloud', u'cloudapp', u'cloudsight', u'clumsily', u'cluster', u'cluttering', u'cm48', u'cmswire', u'cmty', u'cn', u'cnet', u'cnn', u'cnngrill', u'cnnmoney', u'cnnmoneysxsw', u'cnt', u'cntr', u'co', u'cobra', u'cocaine', u'cocky', u'cocoon', u'code', u'coded', u'coders', u'coding', u'coffee', u'cohen', u'coincide', u'coincides', u'coinsidence', u'cold', u'colin', u'collab', u'collect', u'collection', u'collective', u'collectively', u'color', u'colors', u'colour', u'com', u'combine', u'combines', u'comcom', u'come', u'comedy', u'comers', u'comes', u'comfort', u'comfortable', u'comic', u'coming', u'commandeered', u'comment', u'comments', u'common', u'comms', u'communal', u'communicate', u'communication', u'communications', u'community', u'comp', u'compact', u'compan', u'companies', u'company', u'compared', u'compatible', u'compels', u'compete', u'competition', u'competitor', u'competitors', u'compiling', u'complement', u'complete', u'completely', u'completes', u'complex', u'complicated', u'composed', u'computer', u'computers', u'computing', u'concentrate', u'concept', u'concert', u'concertgoers', u'concierge', u'condense', u'conf', u'conference', u'conferences', u'confession', u'confines', u'confirmed', u'conflagration', u'confusion', u'congrats', u'congratulation', u'congratulations', u'congress', u'connect', u'connected', u'connectedcar', u'connectedtv', u'connectivity', u'connects', u'conquered', u'consciously', u'consequences', u'considering', u'consistent', u'consistently', u'constant', u'consultation', u'consulting', u'consume', u'consumer', u'consumerist', u'consumerization', u'cont', u'contact', u'content', u'contentrules', u'contest', u'context', u'contextual', u'continual', u'continued', u'continues', u'continuous', u'continuum', u'control', u'controller', u'conv', u'convenient', u'conveniently', u'convention', u'conventions', u'converge', u'conversation', u'conversations', u'conversion', u'convience', u'convince', u'convinced', u'convore', u'cool', u'coolaid', u'cooler', u'coolest', u'coolhaus', u'coolness', u'coordinate', u'cope', u'copia', u'copper', u'cops', u'copy', u'cor', u'cord', u'cordless', u'cords', u'core', u'corner', u'coronasdk', u'corporate', u'corporation', u'corps', u'corralling', u'correct', u'correcting', u'corrupted', u'cost', u'costs', u'costume', u'couch', u'couchfan', u'cough', u'could', u'couldn', u'count', u'countering', u'counting', u'country', u'couple', u'coupons', u'course', u'courtesy', u'courtside', u'courtyard', u'cover', u'coverage', u'covered', u'covering', u'covet', u'cow', u'cowboy', u'coworkers', u'cpa', u'cr', u'crack', u'crackberry', u'crashed', u'crashes', u'crashing', u'crashy', u'crave', u'craving', u'crazy', u'cream', u'create', u'created', u'creating', u'creative', u'credit', u'crew', u'crisis', u'cross', u'crowd', u'crowded', u'crowds', u'crowdsourcing', u'crowley', u'cruze', u'cry', u'csr', u'ctia', u'cult', u'curiosity', u'curious', u'cursor', u'custom', u'customer', u'customers', u'cut', u'cute', u'cutsies', u'cuz', u'dah', u'dahl', u'daily', u'damn', u'damon', u'dan', u'dance', u'dancing', u'dang', u'dark', u'data', u'date', u'dawn', u'day', u'days', u'de', u'dead', u'deadly', u'deal', u'dealing', u'deals', u'dear', u'death', u'debating', u'debut', u'debuting', u'debuts', u'decide', u'decided', u'decision', u'def', u'default', u'define', u'defining', u'definitely', u'deforestation', u'delegates', u'delete', u'deleting', u'delicious', u'delightful', u'delivered', u'delivery', u'dell', u'demand', u'demo', u'democracy', u'demoed', u'demonstrate', u'demonstrates', u'demos', u'denies', u'dennis', u'denotes', u'density', u'design', u'designed', u'designers', u'designing', u'desk', u'desktop', u'despite', u'destroyed', u'detail', u'detailed', u'details', u'dev', u'developed', u'developer', u'developers', u'developing', u'development', u'deviantart', u'device', u'devices', u'devs', u'dfp', u'did', u'didn', u'die', u'died', u'dies', u'different', u'digital', u'dilemma', u'diller', u'dinner', u'directions', u'director', u'directors', u'disagree', u'disappointed', u'disaster', u'disc', u'discotalk', u'discover', u'discovered', u'discovery', u'discovr', u'discuss', u'discussion', u'disney', u'display', u'displaying', u'disruptive', u'divide', u'dj', u'dl', u'dm', u'do', u'doc', u'dock', u'docs', u'does', u'doesn', u'dogs', u'doing', u'dokobots', u'dollar', u'dollars', u'domain', u'domo', u'don', u'donates', u'done', u'dont', u'doo', u'doodle', u'doodles', u'door', u'double', u'doubt', u'douche', u'down', u'download', u'downloaded', u'downloads', u'downside', u'downtown', u'drag', u'draw', u'drawing', u'dream', u'dreams', u'drink', u'drinks', u'drive', u'driven', u'drivers', u'drives', u'driving', u'droid', u'drooling', u'drop', u'dropped', u'dropping', u'drowning', u'drumroll', u'drunk', u'dst', u'dt', u'dude', u'due', u'duh', u'during', u'dynamic', u'each', u'early', u'earphones', u'earplugs', u'ears', u'earth', u'earthhour', u'earthquake', u'easeljs', u'easier', u'easy', u'eat', u'eatdrinktweet', u'eats', u'ecosystem', u'edit', u'edtech', u'effective', u'efficient', u'effing', u'effort', u'eg', u'egomaniacs', u'elbow', u'electronics', u'elegant', u'elements', u'elevate', u'else', u'email', u'embarrassed', u'emc', u'emotional', u'employees', u'enchanting', u'enchantment', u'end', u'ended', u'endorsement', u'energy', u'engagement', u'engaging', u'engine', u'engines', u'english', u'enjoy', u'enjoying', u'enjoys', u'enough', u'enter', u'entered', u'enterprise', u'entertaining', u'entire', u'entirely', u'entry', u'environment', u'envy', u'epic', u'epicurious', u'error', u'ers', u'esp', u'especially', u'essential', u'essentials', u'etc', u'etch', u'etsy', u'europe', u'even', u'evening', u'event', u'events', u'eventseekr', u'ever', u'evernote', u'every', u'everybody', u'everyday', u'everyone', u'everything', u'everywhere', u'evidence', u'evil', u'evo', u'evolvingworkplace', u'ex', u'example', u'examples', u'excellent', u'except', u'excited', u'exciting', u'exclusive', u'excuse', u'exhibit', u'exist', u'existence', u'exists', u'expect', u'expected', u'expecting', u'expensive', u'experience', u'experiment', u'experts', u'explaining', u'explanation', u'exploiting', u'explorer', u'extended', u'extra', u'extraordinary', u'eyeballed', u'fab5', u'fabulous', u'face', u'facebook', u'facing', u'fact', u'factor', u'facts', u'fades', u'fail', u'failed', u'failing', u'failure', u'fair', u'fake', u'false', u'fam', u'familiarize', u'famous', u'fan', u'fanbois', u'fanboy', u'fanboyism', u'fanboys', u'fancrazed', u'fandango', u'fans', u'fantastic', u'fantastico', u'far', u'farm', u'farmers', u'farmville', u'farooqui', u'fascinating', u'fascist', u'fashion', u'fast', u'fastcompanygrill', u'fastcompanygrille', u'faster', u'fastest', u'fastsociety', u'fat', u'fathom', u'faulty', u'fav', u'fave', u'favorite', u'favorited', u'favorites', u'favour', u'fawning', u'fb', u'fear', u'feature', u'featured', u'features', u'featuring', u'feckin', u'fed', u'feed', u'feeding', u'feel', u'feelin', u'feeling', u'feelings', u'feels', u'fees', u'felix', u'fell', u'fellow', u'fellowship', u'felt', u'ferris', u'ferriss', u'fessing', u'fest', u'festgoers', u'festival', u'festivalgenius', u'fetishism', u'few', u'ff', u'fh', u'fi', u'field', u'fiendishly', u'fight', u'fighting', u'fightthepaddle', u'figure', u'figuring', u'fill', u'filled', u'filling', u'film', u'filmaster', u'filming', u'filter', u'filters', u'fin', u'final', u'finalist', u'finalists', u'finally', u'finals', u'find', u'finder', u'finding', u'finds', u'fine', u'finger', u'fingerprint', u'fingers', u'finish', u'finished', u'fire', u'firm', u'first', u'firstworldproblems', u'fishing', u'fists', u'fit', u'fits', u'five', u'fives', u'fiving', u'fix', u'fixing', u'flaming', u'flannel', u'flap', u'flash', u'flask', u'flavor', u'flaw', u'flawless', u'fleets', u'flew', u'flight', u'flights', u'flip', u'flipboard', u'floating', u'flocking', u'flood', u'floor', u'flop', u'florian', u'flow', u'fludapp', u'fluffertrax', u'fluid', u'flummoxed', u'fly', u'flying', u'flypost', u'fml', u'fmsignal', u'focus', u'focuses', u'focusing', u'fodder', u'foing', u'folks', u'follow', u'followed', u'followers', u'following', u'followings', u'fond', u'fondling', u'fonts', u'food', u'food4thought', u'foodies', u'foods', u'foodspotting', u'fools', u'foosspotting', u'foot', u'footage', u'footnotes', u'for', u'forbes', u'forbidden', u'force', u'forecast', u'forests', u'forever', u'forget', u'forgo', u'forgot', u'forgotten', u'form', u'format', u'formation', u'former', u'formerly', u'formula', u'forward', u'foster', u'found', u'four', u'foursquare', u'fr', u'fragmentation', u'framework', u'franchised', u'francisco', u'franco', u'frank', u'franken', u'frankeninterface', u'freak', u'freaking', u'free', u'freemusic', u'freespeech', u'freeze', u'frenzy', u'fresh', u'fri', u'frickin', u'fricking', u'friday', u'friend', u'friendly', u'friends', u'frm', u'from', u'front', u'frontend', u'frood', u'frostwire', u'frothy', u'frozen', u'fruit', u'frustrated', u'frustrating', u'frustration', u'ft', u'ftp', u'ftw', u'fuck', u'fucking', u'fuckit', u'fuckyeah', u'fuel', u'full', u'fulltime', u'fully', u'fun', u'function', u'functionality', u'fundraising', u'funny', u'fusion', u'future', u'futurecast', u'futuremf', u'futureoftouch', u'fwd', u'fxsw', u'fyi', u'g03mzb', u'g2', u'g4gzypv', u'gabacustweets', u'gadget', u'gadgetenvy', u'gadgets', u'gadgetzilla', u'gah', u'gain', u'gaining', u'gains', u'galaxy', u'gallery', u'galore', u'game', u'gamechanger', u'gamelayer', u'games', u'gamesfortv', u'gamestorming', u'gaming', u'gap', u'garageband', u'garyvee', u'gas', u'gasps', u'gatekeeper', u'gathering', u'gave', u'gawking', u'gay', u'gayno', u'gb', u'ge', u'gear', u'gecko', u'gee', u'geek', u'geekdate', u'geekdilemma', u'geekdom', u'geekery', u'geekest', u'geekfest', u'geeking', u'geekout', u'geeks', u'geeksrule', u'geeky', u'gen', u'general', u'generally', u'generated', u'generations', u'generous', u'genius', u'geniuses', u'gents', u'geo', u'geogames', u'geolocation', u'germ', u'gesture', u'get', u'getjarsxsw', u'gets', u'getting', u'gettinng', u'ghost', u'giant', u'gibson', u'giddy', u'gift', u'gig', u'giggle', u'giggling', u'gigs', u'gilt', u'ginger', u'girl', u'girlcrush', u'girls', u'gitchococktailon', u'give', u'giveaway', u'giveaways', u'given', u'gives', u'giving', u'glad', u'glass', u'glasses', u'glenda', u'glimpse', u'global', u'globalbestaward', u'globally', u'glow', u'glowing', u'glued', u'gmail', u'go', u'go2', u'god', u'goddamn', u'godsend', u'goer', u'goers', u'goes', u'gogglers', u'goggles', u'gogo', u'goin', u'going', u'gold', u'golden', u'golds', u'gone', u'gonna', u'gonnagetanipad2', u'goo', u'good', u'goodcustomerservice', u'gooddeed', u'goodguide', u'goodness', u'goody', u'goog', u'google', u'googlebread', u'googlecircles', u'googled', u'googledoodle', u'googledoodles', u'googlegays', u'googleio', u'googlemaps', u'googleplaces', u'googletv', u'goona', u'gorgeous', u'got', u'gotta', u'gotten', u'gotto', u'government', u'govt', u'gowalla', u'gps', u'gr2l2', u'gr8', u'grab', u'grabbed', u'grabs', u'gram', u'gran', u'grand', u'grant', u'granted', u'grape', u'graph', u'graphic', u'graphics', u'grateful', u'gratification', u'great', u'greater', u'greatergood', u'greatest', u'greet', u'greeted', u'grew', u'griddler', u'griffin', u'grill', u'grindr', u'grn7pk', u'grooving', u'grossed', u'ground', u'groundlink', u'group', u'groupme', u'groups', u'growing', u'grrr', u'gsd', u'gsdm', u'gt', u'guard', u'guards', u'guess', u'guest', u'guide', u'guilty', u'guitar', u'gun', u'guy', u'guykawasaki', u'guys', u'gym', u'h264', u'h4ckers', u'ha', u'hackathon', u'hackers', u'had', u'haha', u'hair', u'hairy', u'half', u'halfway', u'hall', u'hand', u'handing', u'handle', u'hands', u'handset', u'handy', u'hang', u'hanging', u'happen', u'happened', u'happening', u'happily', u'happy', u'happydance', u'hard', u'has', u'hash', u'hashable', u'hashtag', u'hashtags', u'hasn', u'hassle', u'hate', u'hated', u'haul', u'hauling', u'have', u'haven', u'havent', u'having', u'havnt', u'hawk', u'hawt', u'haystack', u'haz', u'hcsm', u'hdmi', u'he', u'head', u'headaches', u'headed', u'heading', u'headline', u'headphones', u'heads', u'headsets', u'health2dev', u'hear', u'heard', u'hearing', u'heart', u'heat', u'heating', u'heatmap', u'heats', u'heattracker', u'heavenly', u'heavens', u'heavier', u'heaving', u'heavy', u'heck', u'held', u'hell', u'hello', u'help', u'helped', u'helpful', u'helping', u'helps', u'her', u'here', u'hereforwork', u'herself', u'hey', u'heyo', u'hhaha', u'hhrs', u'hi', u'hidden', u'hide', u'high', u'higher', u'highlight', u'highlights', u'highly', u'highs', u'hijack', u'hilarious', u'hill', u'hilton', u'him', u'hint', u'hints', u'hip', u'hipstamatic', u'hipstapaks', u'hipster', u'hipstermuch', u'hipsters', u'hire', u'hireme', u'hirer', u'his', u'hiss', u'history', u'hisxsw', u'hit', u'hitlantis', u'hive', u'hls', u'hm', u'hmm', u'hmmm', u'hmmzies', u'hobo', u'hoc', u'hoffman', u'hold', u'holding', u'hole', u'holla', u'holler', u'hollergram', u'hollow', u'hollrback', u'hollywood', u'holy', u'holytrafficjams', u'home', u'homeless', u'homepage', u'homogeneity', u'honesty', u'honor', u'honors', u'hoo', u'hook', u'hooked', u'hoooooooooooooo', u'hooray', u'hoot', u'hooting', u'hootsuite', u'hop', u'hope', u'hopefully', u'hopes', u'hoping', u'hopkins', u'hordes', u'horrendous', u'horrible', u'horror', u'host', u'hosted', u'hosting', u'hot', u'hotel', u'hotels', u'hotpot', u'hotspot', u'hottest', u'hour', u'hours', u'house', u'housecat', u'housing', u'how', u'howdy', u'howmto', u'hp', u'hpsxsw', u'hr', u'hrs', u'ht', u'htdfim', u'html', u'html5', u'http', u'https', u'hubby', u'huge', u'human', u'hundred', u'hundreds', u'hunger', u'hungry', u'hunt', u'hunts', u'hurricaneparty', u'husband', u'huzzah', u'hyatt', u'hype', u'hyped', u'i41h53', u'ia', u'iads', u'ical', u'icanhas', u'ice', u'icebreaker', u'iconbuffet', u'id', u'id420666439', u'idea', u'ideally', u'ideas', u'identity', u'idiocy', u'idiot', u'idk', u'idol', u'idontbelieve', u'ie', u'ie9', u'if', u'ifr3dw', u'ifrom', u'ignite', u'ignore', u'igottagetit', u'ihop', u'il', u'illa', u'illegal', u'illmakeitwork', u'iloveasurprise', u'im', u'imac', u'imaconf', u'imacs', u'image', u'images', u'imagine', u'imanidiot', u'imanoutcast', u'imho', u'immersive', u'immobile', u'imo', u'imp1000', u'impact', u'impactdashboard', u'impediment', u'impedimenta', u'implement', u'implementation', u'implementing', u'implode', u'important', u'impossible', u'impressed', u'impression', u'impressions', u'impressive', u'impromptu', u'improve', u'improvement', u'improvements', u'improvemnt', u'impulse', u'impulsive', u'imrich', u'imthatgood', u'in', u'inane', u'inbox', u'incapable', u'incenticize', u'incl', u'include', u'included', u'includes', u'including', u'incorrect', u'increase', u'incredible', u'incredibly', u'indeed', u'indicates', u'indie', u'indigenous', u'individuals', u'indoor', u'industry', u'infact', u'infektd', u'inferior', u'influence', u'influencers', u'influx', u'info', u'informal', u'information', u'informed', u'ing', u'ingenious', u'initial', u'initiative', u'ink', u'innacurate', u'inner', u'innotribe', u'innovate', u'innovating', u'innovation', u'innovative', u'innovators', u'input', u'ins', u'insane', u'insanely', u'insatiable', u'insertion', u'inside', u'insider', u'insidious', u'insight', u'insightful', u'insights', u'insists', u'inspired', u'inspiring', u'instagram', u'install', u'installed', u'installing', u'instant', u'instantly', u'instead', u'instruments', u'integrated', u'integration', u'intel', u'intelligence', u'intelligent', u'intended', u'intense', u'interact', u'interactive', u'interested', u'interesting', u'interface', u'interfaces', u'intermittent', u'international', u'internet', u'internetonlinewebsite', u'interrupt', u'interview', u'interviewed', u'intimate', u'intimidated', u'into', u'intrestin', u'intricate', u'intriguing', u'intro', u'introduced', u'introduces', u'introducing', u'intrvw', u'invades', u'inventing', u'inventory', u'invest', u'investment', u'investor', u'investors', u'invisible', u'invite', u'invited', u'invites', u'invoking', u'io', u'ios', u'ip', u'ip4', u'ipad', u'ipad1', u'ipad2', u'ipad2s', u'ipad2time', u'ipad_2', u'ipaddesignheadaches', u'ipading', u'ipadmadness', u'ipads', u'iphone', u'iphone4', u'iphone5', u'iphones', u'ipod', u'ipods', u'ipoo', u'iqlab', u'iradar', u'irelay', u'ireport', u'ireports', u'iron', u'ironic', u'irrelevant', u'irresistible', u'is', u'isack', u'ischafer', u'isn', u'issue', u'issues', u'istache', u'istock', u'it', u'item', u'itme', u'its', u'itself', u'ittttt', u'itun', u'itunes', u'itwillbemine', u'iusxsw', u'iwantacameraonmyipad', u'ixd', u'jailbreak', u'jaloux', u'james', u'jammy', u'janecek', u'japan', u'japanese', u'jared', u'java', u'javascript', u'jaw', u'jcpenney', u'jealous', u'jeanne', u'jeans', u'jeebus', u'jeez', u'jerk', u'jk', u'job', u'jobs', u'join', u'joined', u'joins', u'joke', u'jonathan', u'josh', u'journalsim', u'joy', u'jr', u'js', u'juice', u'juicepack', u'jump', u'june', u'just', u'justsaying', u'kara', u'karaoke', u'karateka', u'kawasaki', u'keep', u'keepaustinweird', u'keeping', u'keeps', u'kek', u'kenny', u'keyboard', u'keynote', u'khoi', u'kick', u'kicking', u'kid', u'kidding', u'kids', u'kill', u'killcommunity', u'killer', u'killers', u'killing', u'kind', u'kinda', u'kindle', u'kiosk', u'kirkus', u'kit', u'knew', u'know', u'known', u'knows', u'korean', u'korine', u'kthxbai', u'kudos', u'kweli', u'kyping', u'la', u'lab', u'labs', u'lack', u'ladies', u'lady', u'lake', u'lame', u'lamesauce', u'land', u'landlords', u'landmark', u'landscapes', u'lanyrd', u'lap', u'laptop', u'laptops', u'large', u'larger', u'largest', u'larry', u'laser', u'last', u'lasts', u'late', u'lately', u'later', u'latest', u'latitude', u'laugh', u'laughed', u'launch', u'launched', u'launches', u'launching', u'launchrock', u'laurieshook', u'lava', u'lavelle', u'law', u'laws', u'lax', u'layer', u'lazy', u'lazyweb', u'lbs', u'lead', u'leading', u'league', u'leaked', u'leaning', u'leanstartup', u'learn', u'learned', u'learning', u'learnt', u'leash', u'leasing', u'least', u'leather', u'leave', u'leaves', u'leaving', u'left', u'legacy', u'lego', u'leisure', u'leisurely', u'lemon', u'length', u'leo', u'leopard', u'less', u'let', u'lets', u'letschangetheworld', u'letter', u'letters', u'letting', u'letushopenot', u'level', u'leveraging', u'lewis', u'liberty', u'libraries', u'library', u'licked', u'lie', u'life', u'lifeless', u'lifelinetotheworld', u'lifetime', u'light', u'lightbox', u'lightbox_photos', u'lightbulb', u'lighters', u'likability', u'like', u'likeability', u'liked', u'likely', u'likes', u'liking', u'lil', u'limit', u'limited', u'limp', u'lindsay', u'line', u'lines', u'lineup', u'lining', u'link', u'linking', u'links', u'lions', u'lisa', u'list', u'listen', u'listened', u'listening', u'lists', u'literally', u'litle', u'little', u'live', u'liveblog', u'lives', u'livesteam', u'livetapp', u'living', u'livingthedream', u'll', u'lmndst', u'load', u'loaded', u'loading', u'loathe', u'lobby', u'lobbying', u'local', u'localmind', u'locals', u'locating', u'location', u'locations', u'lockers', u'lockout', u'logic', u'logical', u'login', u'logo', u'logos', u'lol', u'lonely', u'lonelyplanet', u'long', u'longer', u'longlinesbadux', u'look', u'lookalike', u'looked', u'lookin', u'looking', u'lookingforwardtothemusicfest', u'looks', u'loose', u'looseorganizations', u'lord', u'lordy', u'lorry', u'lose', u'losers', u'losing', u'lost', u'lot', u'lots', u'lottery', u'loud', u'louis', u'louisiana', u'lounge', u'lousy', u'love', u'loved', u'lovefresh', u'loveher', u'lovely', u'lovemusicapi', u'lovers', u'loves', u'lovesit', u'lovin', u'loving', u'lowest', u'loyalists', u'loyalty', u'lp', u'lt', u'luck', u'luckily', u'lucky', u'ludicon', u'lug', u'lugging', u'lunch', u'lust', u'lustre', u'luxury', u'lxh', u'ly', u'lybian', u'lying', u'lynn', u'ma', u'mac', u'macallan', u'macbook', u'macbookpro', u'macchiato', u'machine', u'machines', u'mackbook', u'macs', u'macys', u'mad', u'made', u'madebymany', u'madness', u'mae', u'maes', u'magazine', u'magazines', u'maggie', u'magic', u'maglight', u'magnet', u'magnetic', u'magnifying', u'mags', u'mail', u'major', u'majority', u'make', u'makery', u'makes', u'makeshift', u'making', u'malady', u'malbonster', u'mall', u'malt', u'man', u'manage', u'management', u'manager', u'managing', u'mania', u'manor', u'mantra', u'many', u'map', u'mapped', u'mappers', u'mapping', u'mapquest', u'maps', u'mar', u'marc', u'marcelosomers', u'march', u'margarita', u'margin', u'marisa', u'marissa', u'marissagoogle', u'marissamayer', u'marissameyer', u'mark', u'marker', u'market', u'marketer', u'marketers', u'marketing', u'marketplace', u'markets', u'mart', u'martinis', u'marty', u'marys', u'masha', u'mashable', u'mashbash', u'mass', u'masses', u'massive', u'mastered', u'matching', u'mater', u'math', u'matt', u'matter', u'matthew', u'maudies', u'mavis', u'maximum', u'may', u'maybe', u'mayer', u'mayers', u'mayor', u'mb', u'mbp', u'mccannsxsw', u'mdw', u'me', u'mealtime', u'mean', u'meaning', u'meaningful', u'means', u'meant', u'measurement', u'measuring', u'meat', u'mecca', u'mechanics', u'media', u'meet', u'meeti', u'meeting', u'meetings', u'meets', u'meetup', u'meetups', u'mega', u'megastore', u'meh', u'mekong', u'mel', u'member', u'memolane', u'memories', u'men', u'mental', u'mention', u'mentioned', u'mentionn', u'mentionr', u'mercy', u'message', u'messages', u'messaging', u'messed', u'messenger', u'messina', u'met', u'metaphor', u'methinks', u'mexican', u'mexico', u'mhealth', u'miamibeach', u'mic', u'michael', u'michaelpiliero', u'microformats', u'microsoft', u'mid', u'midday', u'middle', u'midem', u'midnight', u'midst', u'midway', u'mifi', u'might', u'mike', u'miles', u'military', u'mill', u'miller', u'million', u'millions', u'min', u'mind', u'minded', u'mindjet', u'mindmanager', u'minds', u'mindshare', u'mindtouch', u'mindtouchers', u'mine', u'ming', u'mini', u'minimalistprogramming', u'minor', u'mins', u'mint', u'minute', u'minutes', u'miracle', u'mirroring', u'miss', u'missed', u'missing', u'mission', u'misstatements', u'mistake', u'mistakes', u'mister', u'mitharvard', u'mix', u'mixed', u'mixing', u'mk', u'mkesxsw', u'mkt', u'mktg', u'mmm', u'mmod', u'mnbuzz', u'mngr', u'mobil', u'mobile', u'mobilefarm', u'mobileroadie', u'mobs', u'mock', u'mocked', u'mocking', u'mode', u'model', u'models', u'moderator', u'mojo', u'mom', u'moma', u'moment', u'moments', u'mommy', u'mon', u'monday', u'mondays', u'monetization', u'money', u'monitor', u'monopoly', u'monster', u'month', u'monthly', u'months', u'mood', u'moody', u'moonbot', u'moonshine', u'mophie', u'more', u'moreknowledge', u'morning', u'morphie', u'mosaicxm', u'most', u'mostly', u'motherboard', u'mothers', u'motivator', u'motorola', u'mountain', u'mounts', u'mouse', u'move', u'movement', u'movers', u'moves', u'movie', u'movies', u'moving', u'mozilla', u'mp', u'mp3', u'mq', u'mr', u'mrs', u'msft', u'mt', u'much', u'mullenweg', u'multiple', u'muro', u'murphy', u'museum', u'museums', u'music', u'musicians', u'musicviz', u'must', u'mute', u'muting', u'mwrc11', u'mxm', u'my', u'myegc', u'mylunch', u'mypov', u'myself', u'mystery', u'nab', u'nah', u'nailed', u'naive', u'name', u'named', u'naomi', u'nat', u'native', u'natural', u'navigating', u'navigation', u'nba', u'nc', u'ncaa', u'ncf', u'near', u'nearly', u'neat', u'need', u'needs', u'nerd', u'nerdbird', u'nerds', u'netbook', u'netflix', u'network', u'networking', u'networks', u'never', u'new', u'newest', u'news', u'newsapps', u'next', u'nextflix', u'nexus', u'nfc', u'nfl', u'nice', u'nicely', u'nieuwe', u'nifty', u'night', u'nike', u'nine', u'ning', u'ninjafinder', u'no', u'nobody', u'nokia', u'non', u'noon', u'normal', u'not', u'note', u'notes', u'nothing', u'noticed', u'novelty', u'now', u'npr', u'nptech', u'nten', u'number', u'nuts', u'nyt', u'object', u'observation', u'observer', u'obsolete', u'obviously', u'of', u'off', u'offer', u'offered', u'offers', u'office', u'officer', u'official', u'offsite', u'often', u'ogilvy', u'ogilvynotes', u'oh', u'ok', u'okay', u'old', u'oldsko0l', u'omg', u'omitting', u'on', u'once', u'one', u'ones', u'online', u'only', u'onto', u'ooing', u'ooooo', u'open', u'openbeta', u'opened', u'opening', u'opens', u'opinions', u'opportunity', u'opposite', u'optimistic', u'options', u'optiscan', u'or', u'order', u'ordered', u'ordering', u'org', u'organic', u'organize', u'organizing', u'original', u'ossum', u'other', u'others', u'otherwise', u'ouch', u'our', u'out', u'outbrain', u'outlet', u'outside', u'over', u'overflow', u'overheard', u'overlay', u'overload', u'overwhelming', u'own', u'owners', u'owns', u'pac', u'pack', u'packed', u'packing', u'packs', u'page', u'pagemaker', u'pages', u'paid', u'panel', u'panels', u'panned', u'paolo', u'papa', u'papasangre', u'paper', u'paradigms', u'park', u'parked', u'part', u'parties', u'partner', u'party', u'partying', u'passage', u'passed', u'passes', u'past', u'patch', u'path', u'pause', u'pay', u'pc', u'pearl', u'pedicab', u'peek', u'peeps', u'pen', u'people', u'per', u'perfect', u'perfectly', u'performance', u'perhaps', u'permanent', u'person', u'personal', u'personalized', u'peter', u'petting', u'phone', u'phones', u'photo', u'photobooth', u'photoes', u'photos', u'physical', u'pi', u'pic', u'pick', u'picked', u'pics', u'picture', u'pictures', u'piece', u'pilhofer', u'pitch', u'pixel', u'place', u'places', u'plaid', u'plan', u'plane', u'planes', u'planet', u'planner', u'planning', u'plans', u'platform', u'play', u'played', u'player', u'players', u'playhopskoch', u'playing', u'playsxsw', u'please', u'plenty', u'plixi', u'pls', u'plug', u'plugin', u'plus', u'pm', u'pnid', u'pocket', u'podcast', u'point', u'points', u'policy', u'politics', u'pop', u'popping', u'popular', u'populous', u'popup', u'popupstore', u'portable', u'positive', u'possibility', u'possible', u'possibly', u'post', u'posterous', u'pot', u'potential', u'potentially', u'poursite', u'power', u'powerhouse', u'powermat', u'powermatteam', u'ppl', u'pr', u'pre', u'prefer', u'preferences', u'premiere', u'prep', u'preparation', u'prepared', u'presence', u'present', u'presentation', u'presenters', u'presenting', u'preso', u'press', u'pressure', u'pretty', u'preview', u'previews', u'price', u'principles', u'priorities', u'privacy', u'prize', u'prizes', u'pro', u'probably', u'problem', u'process', u'producers', u'product', u'products', u'professionals', u'profits', u'program', u'programming', u'project', u'projects', u'promo', u'promotion', u'proof', u'propping', u'props', u'protecting', u'protip', u'protocol', u'providing', u'ps', u'psych', u'pub', u'pubcamp', u'public', u'publishers', u'pull', u'pulling', u'purchase', u'purchased', u'purchasing', u'pure', u'purpose', u'push', u'pushsnowboarding', u'put', u'puts', u'putting', u'qagb', u'qho', u'qr', u'qrafter', u'qrank', u'qrcode', u'quake', u'qualified', u'quality', u'quantity', u'quarter', u'question', u'questioner', u'queue', u'quibids', u'quick', u'quicker', u'quickly', u'quit', u'quite', u'quot', u'quotables', u'race', u'rad', u'radio', u'raises', u'ran', u'random', u'randy', u'rank', u'ranking', u'rankings', u'rare', u'rate', u'rather', u'rating', u'ratio', u're', u'reacquainted', u'read', u'reader', u'readership', u'reading', u'ready', u'real', u'realistic', u'reality', u'realize', u'realized', u'really', u'realtime', u'reason', u'recap', u'recipe', u'recommendation', u'recommendations', u'recommended', u'recommends', u'record', u'recos', u'recreated', u'recs', u'red', u'refine', u'refrigerator', u'regel', u'regular', u'regularly', u'reid', u'reilly', u'reily', u'related', u'release', u'released', u'releases', u'releasing', u'relevant', u'relief', u'remaining', u'remember', u'remove', u'rendering', u'replaced', u'replacement', u'replacing', u'report', u'reporting', u'rerouted', u'research', u'resist', u'respect', u'response', u'rest', u'restaurant', u'restaurants', u'restraunts', u'resulting', u'results', u'retail', u'retiring', u'retrollect', u'return', u'retweet', u'revenue', u'review', u'reviews', u'revolutionary', u'reward', u'rewards', u'ride', u'ridic', u'ridiculous', u'ridiculously', u'rigeur', u'right', u'rightfully', u'rise', u'rise_austin', u'rite', u'river', u'rji', u'road', u'roadie', u'roaming', u'robot', u'robots', u'rock', u'rocked', u'rockin', u'rocking', u'rocks', u'role', u'roll', u'rolled', u'rollout', u'roof', u'room', u'rosso', u'rotational', u'round', u'route', u'routes', u'routing', u'row', u'rows', u'rpg', u'rsq', u'rsvp', u'rt', u'rub', u'rubbing', u'rule', u'rules', u'rumor', u'rumored', u'rumors', u'rumours', u'run', u'runaround', u'running', u'runs', u'rww', u'saatchiny', u'saber', u'sabotaged', u'sad', u'sadly', u'safari', u'said', u'sale', u'sales', u'salesperson', u'salon', u'sam', u'same', u'sampler', u'samsung', u'samsungmobileus', u'san', u'sandwich', u'sandwiched', u'sangre', u'sans', u'sapient', u'sat', u'satanic', u'saturday', u'sauce', u'save', u'savebrands', u'saved', u'saves', u'saveustechies', u'saving', u'savings', u'savvy', u'saw', u'say', u'sayin', u'saying', u'says', u'saysshewithoutanipad', u'scale', u'scan', u'scanner', u'scans', u'scarborough', u'scarbrough', u'scared', u'scarfing', u'scary', u'scavenger', u'scene', u'scenes', u'scepticism', u'sched', u'schedule', u'scheduled', u'scheduler', u'schedules', u'scheduling', u'schemas', u'school', u'schoolgirls', u'schools', u'schtuff', u'schwag', u'science', u'scientific', u'scoping', u'score', u'scoremore', u'scouts', u'screamed', u'screams', u'screen', u'screenfuture', u'screening', u'screenings', u'script', u'sd', u'sea', u'search', u'searchable', u'searches', u'searching', u'season', u'seat', u'seated', u'seats', u'seattle', u'sec', u'second', u'seconds', u'secret', u'security', u'see', u'seeing', u'seem', u'seemed', u'seemingly', u'seems', u'seen', u'seenocreepy', u'sees', u'seesmic', u'select', u'selected', u'selection', u'self', u'selfish', u'sell', u'selling', u'sells', u'sem', u'semantic', u'semi', u'semis', u'send', u'sending', u'sense', u'sent', u'seo', u'separate', u'september', u'serendipity', u'serious', u'seriously', u'seriousness', u'serv', u'serve', u'served', u'servers', u'serves', u'service', u'services', u'sesh', u'session', u'sessions', u'set', u'seta', u'sets', u'setting', u'settle', u'settling', u'setup', u'several', u'severe', u'severely', u'severity', u'sexy', u'sez', u'sfo', u'shade', u'shades', u'shakers', u'shakespeare', u'shall', u'shallow', u'shame', u'shamed', u'shameless', u'shaping', u'share', u'shareable', u'shared', u'sharers', u'sharing', u'sharp', u'shat', u'shatter', u'she', u'sheen', u'sheeple', u'shell', u'shelves', u'sheraton', u'shift', u'shill', u'shiner', u'shinmy', u'shiny', u'shipment', u'shipments', u'ships', u'shirt', u'shit', u'shitty', u'shocked', u'shoot', u'shooting', u'shop', u'shops', u'short', u'shortcuts', u'shortening', u'shortly', u'shot', u'shotgun', u'should', u'shoulda', u'shoulder', u'shouldn', u'shout', u'shouts', u'show', u'showcase', u'showcased', u'showcases', u'showcasing', u'showed', u'showing', u'shows', u'showusyouricrazy', u'shrink', u'shuffling', u'shut', u'sick', u'side', u'sides', u'sigh', u'sighting', u'sightings', u'sign', u'signal', u'signals', u'signed', u'signing', u'signs', u'silicon', u'sillier', u'silly', u'silver', u'simple', u'simplicity', u'simply', u'simultaneously', u'sin', u'since', u'singing', u'single', u'sings', u'singularity', u'sipping', u'sis', u'sister', u'sit', u'sitby', u'site', u'sites', u'sitting', u'six', u'sixth', u'size', u'skateboards', u'sketch', u'sketchy', u'skewed', u'skiers', u'skill', u'skillfully', u'skills', u'skinny', u'skip', u'skulls', u'skyfire', u'skynet', u'skype', u'slap', u'slated', u'sleek', u'sleep', u'sleepy', u'sleeves', u'slice', u'sliced', u'slick', u'slides', u'slightly', u'slim', u'slips', u'sloansxsw', u'sloanxsw', u'slow', u'slower', u'slowly', u'slowpoke', u'slp', u'smackdown', u'small', u'smallbiz', u'smaller', u'smart', u'smarter', u'smartest', u'smartphone', u'smartphones', u'smartthings', u'smarty', u'smashed', u'smcdallas', u'smcomedyfyeah', u'smell', u'smileyparty', u'smm', u'smmnextgen', u'smokes', u'smooth', u'sms', u'smtravel', u'smudgy', u'smugness', u'smurf', u'smut', u'smvis', u'smyle', u'sn', u'snagged', u'snakeheead', u'snap', u'snapping', u'snarky', u'sneakers', u'sneaky', u'snubor', u'so', u'social', u'socialfuel', u'socially', u'socialmedia', u'socialmediabum', u'socialmuse', u'socialviewing', u'society', u'socks', u'socmedia', u'socnet', u'softball', u'software', u'solar', u'sold', u'solely', u'solid', u'solo', u'solution', u'solutions', u'solving', u'some', u'somebody', u'someday', u'somehow', u'someone', u'someones', u'something', u'somewhere', u'song', u'songs', u'sonos', u'sony', u'soo', u'soon', u'sooo', u'sore', u'sorry', u'sort', u'sorta', u'sorted', u'soul', u'sound', u'soundcloud', u'sounding', u'sounds', u'soundtrckr', u'source', u'south', u'southby', u'southpaw', u'southwest', u'space', u'spanking', u'spark', u'spasmatics', u'spazmatic', u'spazmatics', u'spazzmatics', u'speak', u'speakeasy', u'speaking', u'speaks', u'special', u'specific', u'speech', u'speed', u'speedup', u'spell', u'speller', u'spend', u'spending', u'spent', u'spider', u'spilled', u'spiltbeer', u'spin', u'spinning', u'spins', u'spirit', u'spoiled', u'spoke', u'spoken', u'sponsored', u'spontaniety', u'sporting', u'spot', u'spots', u'spotted', u'spread', u'spring', u'sprinkle', u'sprint', u'spy', u'sq', u'square', u'squeal', u'squeeze', u'srsly', u'st', u'stabilizer', u'stacks', u'staff', u'stage', u'stand', u'standard', u'standardization', u'standing', u'star', u'starbu', u'starbucks', u'staring', u'starry', u'stars', u'start', u'started', u'starting', u'starts', u'startup', u'startupbus', u'startups', u'statement', u'states', u'station', u'stations', u'stats', u'status', u'statuses', u'stay', u'staying', u'stays', u'steady', u'stealing', u'steals', u'steampunk', u'steamy', u'stellar', u'step', u'stepped', u'stereo', u'sters', u'steve', u'stickers', u'still', u'stillman', u'stillonamacbook', u'stock', u'stogies', u'stoked', u'stole', u'stolen', u'stood', u'stop', u'stopped', u'stops', u'storage', u'store', u'stores', u'stories', u'storm', u'story', u'straight', u'strange', u'strangeproblems', u'stranger', u'strangers', u'straps', u'strategic', u'strategy', u'straw', u'stream', u'streaming', u'streams', u'street', u'streetview', u'strength', u'stress', u'stretches', u'striking', u'strip', u'strive', u'stroke', u'strong', u'structured', u'struggle', u'strums', u'stuck', u'studentsforcleanwater', u'studies', u'studios', u'study', u'studying', u'stuff', u'stumbledupon', u'stumbling', u'stunning', u'stunt', u'stupid', u'style', u'stylish', u'suasxsw', u'subscription', u'subscriptions', u'succeed', u'success', u'successful', u'succumb', u'such', u'suck', u'suckas', u'sucked', u'suckling', u'sucks', u'suddenly', u'suffered', u'suffering', u'suggest', u'suggestion', u'suggestions', u'suicidal', u'suicide', u'sullivan', u'summer', u'summit', u'sun', u'sunday', u'sundayswagger', u'sunglasses', u'sunny', u'suns', u'super', u'superbia', u'supply', u'support', u'supporting', u'suppose', u'supposed', u'supposedly', u'sure', u'surely', u'surface', u'surpassed', u'surplus', u'surprise', u'surprises', u'surrounded', u'surui', u'survey', u'survival', u'survive', u'survived', u'suspense', u'sustainability', u'sux', u'suxsw', u'svcs', u'swag', u'swarming', u'swarms', u'sweater', u'sweeeeet', u'sweeeet', u'sweepstakes', u'sweet', u'sweets', u'swift', u'swing', u'swish', u'swisher', u'switch', u'switches', u'swonderlin', u'swoon', u'swsurrogates', u'swsx', u'sxfl', u'sxflip', u'sxprotect', u'sxsh', u'sxsurrogates', u'sxsw', u'sxsw11', u'sxsw2011', u'sxsw4japan', u'sxswaccel', u'sxswbarcrawl', u'sxswbigbrands', u'sxswbuffalo', u'sxswchi', u'sxsweisner', u'sxswfail', u'sxswgo', u'sxswgood', u'sxswh', u'sxswi', u'sxswk', u'sxswmobileapps', u'sxswmoot', u'sxswmusic', u'sxswmymistake', u'sxswnui', u'sxswparty', u'sxswpass', u'sxswsa', u'sxswsex', u'sxswsmall', u'sxswtoolkit', u'sxtxstate', u'sxwsi', u'sxxpress', u'syked', u'symbian', u'symbol', u'sync', u'synced', u'synching', u'syncing', u'syncs', u'synergy', u'system', u'taariq', u'tab', u'table', u'tables', u'tablet', u'tablets', u'taccsxsw', u'tacos', u'tag', u'tagging', u'take', u'takeaway', u'taken', u'takeover', u'takes', u'takin', u'taking', u'talent', u'talented', u'talib', u'talk', u'talked', u'talking', u'talks', u'tan', u'tap', u'tapworthy', u'target', u'task', u'tastes', u'tattoo', u'tattooed', u'taught', u'taunt', u'tax', u'taxi', u'tbalinas', u'tbwasxsw', u'tc', u'tchin', u'tcs', u'tdg', u'tea', u'teach', u'teaching', u'team', u'teamandroid', u'teamandroidsxsw', u'teams', u'tear', u'teathering', u'tech', u'tech4good', u'tech_news', u'techcrunch', u'techenvy', u'techgeek', u'techie', u'techies', u'techiesunite', u'technews', u'technical', u'techno', u'technology', u'techrockstar', u'techsmith', u'tee', u'teeny', u'teeth', u'telegraph', u'teleporting', u'television', u'telework', u'tell', u'tells', u'temp', u'temperature', u'temperatures', u'temporary', u'tempt', u'temptation', u'tempted', u'tempting', u'ten', u'tenets', u'tent', u'teo', u'term', u'terminal', u'terms', u'terrible', u'test', u'tested', u'testing', u'tests', u'tether', u'tethering', u'texas', u'texasevery', u'text', u'texting', u'th', u'than', u'thank', u'thanks', u'thanksforthebrandedshades', u'thankyouecon', u'that', u'thats', u'the', u'the_daily', u'theatre', u'theem', u'thegogame', u'theindustryparty', u'their', u'theirs', u'them', u'theme', u'themed', u'themselves', u'then', u'thenextweb', u'theplatform', u'ther', u'therapy', u'there', u'thereby', u'therefore', u'these', u'thewildernessdowntown', u'they', u'thick', u'thier', u'thin', u'thing', u'things', u'thingsthatdontgotogether', u'think', u'thinking', u'thinks', u'thinmints', u'thinner', u'third', u'thirsty', u'this', u'thisisdare', u'tho', u'thomas', u'thoora', u'those', u'though', u'thought', u'thoughtful', u'thoughts', u'thousands', u'threat', u'three', u'threw', u'thrilled', u'through', u'throughout', u'throw', u'throwin', u'throwing', u'thru', u'tht', u'thumbs', u'thunder', u'thursday', u'thus', u'thwarted', u'thx', u'ticket', u'tickets', u'tidbit', u'tiff', u'tigerblood', u'tight', u'til', u'till', u'tim', u'timberlake', u'time', u'timechange', u'timed', u'timeline', u'timely', u'times', u'timing', u'tinkering', u'tiny', u'tinyurl', u'tip', u'tipped', u'tips', u'tired', u'tis', u'title', u'titles', u'tix', u'tkts', u'tm', u'tme', u'tmobile', u'tmr', u'tmrw', u'tmsxsw', u'tnw', u'tnx', u'to', u'toast', u'today', u'together', u'told', u'tomlinson', u'tomorrow', u'ton', u'tonchidot', u'tonigh', u'tonight', u'tons', u'too', u'toocoolforsxswanyway', u'toodamnlucky', u'took', u'tool', u'toolkit', u'toolongforme', u'tools', u'toooo', u'top', u'topicality', u'topics', u'topnews', u'tops', u'topspin', u'torch', u'tore', u'torture', u'torturous', u'total', u'totalitarian', u'totally', u'toting', u'touch', u'touched', u'touching', u'touchingstories', u'tough', u'tougher', u'toured', u'tournament', u'towards', u'towel', u'town', u'toy', u'track', u'tracker', u'trackpads', u'tracks', u'traction', u'tractor', u'trade', u'traded', u'tradeshow', u'traffic', u'trailer', u'train', u'trajan', u'tramplings', u'transfer', u'transient', u'transition', u'translated', u'translates', u'transparency', u'transparently', u'trashy', u'trauma', u'travel', u'travelers', u'traveling', u'traveller', u'treatment', u'trenches', u'trend', u'trending', u'trends', u'tribes', u'tried', u'tries', u'trigger', u'trip', u'tripping', u'tron', u'trophy', u'trouble', u'truck', u'trucks', u'true', u'truly', u'trumping', u'trumps', u'trust', u'trusted', u'trustworthiness', u'truth', u'try', u'trying', u'ts', u'tshirt', u'tsunami', u'tt', u'tub', u'tube', u'tuesday', u'tumblr', u'tunage', u'tune', u'tuned', u'tunehopper', u'tunes', u'turing', u'turkey', u'turn', u'turned', u'turning', u'turns', u'tuxedo', u'tv', u'tveverywhere', u'tvontheradio', u'tvs', u'tweeps', u'tweet', u'tweetcaster', u'tweetdeck', u'tweeted', u'tweethouse', u'tweetie', u'tweetignite', u'tweeting', u'tweets', u'tweetup', u'twice', u'twit', u'twitpic', u'twitter', u'twitterpower', u'twnp', u'two', u'tx', u'tye', u'type', u'typing', u'tyson', u'uber', u'uberguide', u'ubersocial', u'ubertwitter', u'ubiquitous', u'ubiquity', u'ubuntu', u'ugh', u'ughhh', u'ui', u'um', u'umassjour', u'umm', u'ummmm', u'umshini', u'un', u'una', u'unabashed', u'unadulterated', u'unbearable', u'unbelievable', u'unboxing', u'uncategorized', u'uncertainty', u'uncharged', u'unconfirmed', u'under', u'underestimate', u'underneath', u'understand', u'understanding', u'underway', u'underwire', u'undoubtedly', u'unequipped', u'unexpected', u'unfair', u'ungrateful', u'unimitated', u'unique', u'unite', u'united', u'units', u'universe', u'unleash', u'unless', u'unlisted', u'unloaded', u'unlockable', u'unlocking', u'unofficial', u'unpack', u'unpaid', u'unreal', u'unscientific', u'unsix', u'unstable', u'untapped', u'until', u'untrue', u'unveil', u'unveiled', u'unveiling', u'unveils', u'uosxsw', u'up', u'upbeat', u'upc', u'update', u'updated', u'updates', u'updating', u'upgrade', u'upgrading', u'upload', u'upon', u'uppward', u'ups', u'upset', u'upside', u'upstairs', u'ur', u'urinal', u'urs', u'urthots', u'us', u'usa', u'usability', u'usage', u'usb', u'usdes', u'use', u'used', u'useful', u'usefulness', u'useless', u'user', u'users', u'uses', u'usguys', u'using', u'ustream', u'usual', u'usurped', u'utility', u'utilize', u'utter', u'ux', u'uxdes', u'uzu', u'v1', u'v2', u'v3', u'v5', u'vacation', u'valid', u'valley', u'valuable', u'value', u'values', u'vast', u'vb', u'vcards', u've', u'vector', u'vectors', u'vegan', u'vegas', u'vending', u'venturebeat', u'venue', u'venues', u'ver', u'verizon', u'version', u'versions', u'very', u'veryslow', u'vestibule', u'veterans', u'via', u'vibe', u'vicariously', u'victims', u'vid', u'video', u'videogame', u'videogames', u'videos', u'vids', u'view', u'view512', u'viewed', u'viewing', u'views', u'vinh', u'vintage', u'vip', u'virgin', u'virginity', u'virtual', u'virtually', u'virtualoffice', u'virtualwallet', u'visigoths', u'visit', u'visiting', u'visits', u'visual', u'visualisation', u'visualization', u'visualize', u'visualizing', u'vmware', u'vodka', u'voice', u'voicefeed', u'volume', u'voluntarily', u'volunteering', u'volunteers', u'vortex', u'vote', u'voxpop', u'vp', u'vs', u'vuelta', u'vufinders', u'vuitton', u'vuvuzela', u'w00t', u'waaaaaa', u'wack', u'wait', u'waited', u'waiting', u'wakeup', u'wakeuplaughing', u'waking', u'wal', u'walk', u'walked', u'walkin', u'walking', u'walks', u'wall', u'wallace', u'walmart', u'wam', u'wandered', u'wanderer', u'wanna', u'wannabe', u'want', u'wanted', u'wanting', u'wants', u'war', u'warmer', u'warmth', u'warning', u'wars', u'wary', u'was', u'wasn', u'waste', u'wasted', u'wasting', u'watch', u'watched', u'watching', u'water', u'waterproof', u'watson', u'wave', u'waves', u'way', u'ways', u'waze', u'we', u'wean', u'wearing', u'weasel', u'weather', u'web', u'web3', u'web30', u'webber', u'webdoc', u'webkit', u'webmail', u'webmaster', u'webmasters', u'website', u'websites', u'webvisions', u'wed', u'week', u'weekend', u'weeks', u'weeping', u'weight', u'weinschenk', u'weird', u'welcome', u'welivehere', u'well', u'went', u'were', u'weren', u'wesley83', u'west', u'weve', u'wew', u'whale', u'what', u'whatcha', u'when', u'where', u'whether', u'which', u'while', u'whimsical', u'white', u'whiteboarding', u'who', u'whoa', u'whole', u'wholistic', u'whoohoo', u'whoooooo', u'whoops', u'whowillrise', u'whrrl', u'why', u'wi', u'wider', u'widfy', u'widgets', u'wife', u'wifi', u'wii', u'wil', u'wild', u'wilderness', u'will', u'williams', u'willing', u'willpay', u'willpower', u'wilting', u'win', u'winamp', u'windows', u'windows7', u'wine', u'wings', u'winner', u'winners', u'winning', u'wins', u'wintel', u'winwin', u'wipes', u'wired', u'wireless', u'wires', u'wisconsin', u'wise', u'wish', u'wishful', u'wishing', u'with', u'withdrawal', u'within', u'withme', u'without', u'witnessed', u'witty', u'wjchat', u'wk', u'wkd', u'wkend', u'wknd', u'woah', u'wodpress', u'woes', u'wohooo', u'woke', u'wolfenstein', u'wolfram', u'woman', u'women', u'won', u'wonder', u'wonderful', u'wondering', u'wonders', u'woo', u'woohoo', u'wooooo', u'woops', u'woot', u'word', u'wordnerd', u'wordpress', u'words', u'work', u'worked', u'workers', u'workin', u'working', u'works', u'workspace', u'world', u'worlds', u'worldwide', u'worn', u'worried', u'worry', u'worse', u'worst', u'worth', u'worthwhile', u'wot', u'would', u'wouldn', u'wow', u'wowwwwww', u'wozniak', u'wp7', u'wr', u'wrap', u'wrapper', u'wrapping', u'write', u'writer', u'writes', u'writing', u'wrong', u'wrote', u'wsj', u'wssxsw', u'wtf', u'wundertablet', u'wut', u'wwsxsw', u'www', u'x6t1pi6av7', u'xbox', u'xd', u'xipad', u'xm', u'xmas', u'xml', u'xoom', u'xperia', u'xplat', u'xwave', u'ya', u'yai', u'yall', u'yawn', u'yay', u'yea', u'yeaayyy', u'yeah', u'year', u'years', u'yeasayer', u'yeay', u'yellow', u'yelp', u'yelping', u'yep', u'yes', u'yesterday', u'yet', u'yield', u'yikes', u'yo', u'yobongo', u'yonkers', u'york', u'you', u'youneedthis', u'your', u'yourself', u'youtube', u'yowza', u'yr', u'yrs', u'yummy', u'yup', u'zaarly', u'zaarlyiscoming', u'zagg', u'zaggle', u'zap', u'zappos', u'zazzlesxsw', u'ze', u'zelda', u'zeldman', u'zero', u'zimride', u'zing', u'zip', u'zite', u'zms', u'zombies', u'zomg', u'zone', u'zoom']\n"
          ],
          "name": "stdout"
        }
      ]
    },
    {
      "cell_type": "markdown",
      "metadata": {
        "id": "dwtgjTBeH0Ny",
        "colab_type": "text"
      },
      "source": [
        "#### Tip: To see all available functions for an Object use dir"
      ]
    },
    {
      "cell_type": "code",
      "metadata": {
        "id": "2n_iCcTNH0N0",
        "colab_type": "code",
        "colab": {}
      },
      "source": [
        ""
      ],
      "execution_count": 0,
      "outputs": []
    },
    {
      "cell_type": "markdown",
      "metadata": {
        "id": "ShA6D8jKH0N5",
        "colab_type": "text"
      },
      "source": [
        "### 18. Find out how many Positive and Negative emotions are there.\n",
        "\n",
        "Hint: Use value_counts on that column"
      ]
    },
    {
      "cell_type": "code",
      "metadata": {
        "id": "q7LAl5pzH0N6",
        "colab_type": "code",
        "outputId": "251b27ed-2690-4216-88a7-b0312a13e8d3",
        "colab": {
          "base_uri": "https://localhost:8080/",
          "height": 102
        }
      },
      "source": [
        "t_df.is_there_an_emotion_directed_at_a_brand_or_product.value_counts()"
      ],
      "execution_count": 0,
      "outputs": [
        {
          "output_type": "execute_result",
          "data": {
            "text/plain": [
              "No emotion toward brand or product    5389\n",
              "Positive emotion                      2978\n",
              "Negative emotion                       570\n",
              "I can't tell                           156\n",
              "Name: is_there_an_emotion_directed_at_a_brand_or_product, dtype: int64"
            ]
          },
          "metadata": {
            "tags": []
          },
          "execution_count": 48
        }
      ]
    },
    {
      "cell_type": "code",
      "metadata": {
        "id": "VFRg_fipJF96",
        "colab_type": "code",
        "outputId": "6182a390-d832-4cab-978e-d3d81d1d55c9",
        "colab": {
          "base_uri": "https://localhost:8080/",
          "height": 34
        }
      },
      "source": [
        "t_df_filtered.shape"
      ],
      "execution_count": 0,
      "outputs": [
        {
          "output_type": "execute_result",
          "data": {
            "text/plain": [
              "(3548, 4)"
            ]
          },
          "metadata": {
            "tags": []
          },
          "execution_count": 49
        }
      ]
    },
    {
      "cell_type": "markdown",
      "metadata": {
        "id": "IUvgj0FoH0N9",
        "colab_type": "text"
      },
      "source": [
        "### 19. Change the labels for Positive and Negative emotions as 1 and 0 respectively and store in a different column in the same dataframe named 'Label'\n",
        "\n",
        "Hint: use map on that column and give labels"
      ]
    },
    {
      "cell_type": "code",
      "metadata": {
        "id": "YftKwFv7H0N9",
        "colab_type": "code",
        "colab": {}
      },
      "source": [
        "dict = {'Positive emotion' : 1, 'Negative emotion' : 0}"
      ],
      "execution_count": 0,
      "outputs": []
    },
    {
      "cell_type": "code",
      "metadata": {
        "id": "g0ry31wTBTg8",
        "colab_type": "code",
        "outputId": "c27706ab-db7a-4d41-c477-2480c416e768",
        "colab": {
          "base_uri": "https://localhost:8080/",
          "height": 119
        }
      },
      "source": [
        "t_df_filtered['Review']=t_df_filtered['is_there_an_emotion_directed_at_a_brand_or_product'].map(dict)"
      ],
      "execution_count": 0,
      "outputs": [
        {
          "output_type": "stream",
          "text": [
            "/usr/local/lib/python2.7/dist-packages/ipykernel_launcher.py:1: SettingWithCopyWarning: \n",
            "A value is trying to be set on a copy of a slice from a DataFrame.\n",
            "Try using .loc[row_indexer,col_indexer] = value instead\n",
            "\n",
            "See the caveats in the documentation: http://pandas.pydata.org/pandas-docs/stable/indexing.html#indexing-view-versus-copy\n",
            "  \"\"\"Entry point for launching an IPython kernel.\n"
          ],
          "name": "stderr"
        }
      ]
    },
    {
      "cell_type": "code",
      "metadata": {
        "id": "Y9Hp7oMQBzqn",
        "colab_type": "code",
        "outputId": "cd995547-9a8b-4c8a-f05a-f25ac5e3fc2c",
        "colab": {
          "base_uri": "https://localhost:8080/",
          "height": 34
        }
      },
      "source": [
        "len(t_df_filtered['text'])"
      ],
      "execution_count": 0,
      "outputs": [
        {
          "output_type": "execute_result",
          "data": {
            "text/plain": [
              "3548"
            ]
          },
          "metadata": {
            "tags": []
          },
          "execution_count": 52
        }
      ]
    },
    {
      "cell_type": "markdown",
      "metadata": {
        "id": "3YErwYLCH0N_",
        "colab_type": "text"
      },
      "source": [
        "### 20. Define the feature set (independent variable or X) to be `text` column and `labels` as target (or dependent variable)  and divide into train and test datasets"
      ]
    },
    {
      "cell_type": "code",
      "metadata": {
        "id": "lNkwrGgEH0OA",
        "colab_type": "code",
        "colab": {}
      },
      "source": [
        "X = train_data_features\n",
        "y = t_df_filtered['Review']"
      ],
      "execution_count": 0,
      "outputs": []
    },
    {
      "cell_type": "code",
      "metadata": {
        "id": "2mmZ09lcIY0_",
        "colab_type": "code",
        "outputId": "613d5a36-d543-450a-b23b-2b1fce931ec5",
        "colab": {
          "base_uri": "https://localhost:8080/",
          "height": 34
        }
      },
      "source": [
        "X.shape"
      ],
      "execution_count": 0,
      "outputs": [
        {
          "output_type": "execute_result",
          "data": {
            "text/plain": [
              "(3548, 5000)"
            ]
          },
          "metadata": {
            "tags": []
          },
          "execution_count": 54
        }
      ]
    },
    {
      "cell_type": "code",
      "metadata": {
        "id": "HRxhxHtwEUHe",
        "colab_type": "code",
        "colab": {}
      },
      "source": [
        "from sklearn.model_selection import train_test_split\n",
        "X_train, X_test, y_train, y_test = train_test_split(X, y, test_size=.2, random_state=1)\n"
      ],
      "execution_count": 0,
      "outputs": []
    },
    {
      "cell_type": "code",
      "metadata": {
        "id": "Ns315sMuFP_G",
        "colab_type": "code",
        "outputId": "c890fbb7-8f3f-4966-9b86-ff673dfe12e2",
        "colab": {
          "base_uri": "https://localhost:8080/",
          "height": 34
        }
      },
      "source": [
        "X_test.shape"
      ],
      "execution_count": 0,
      "outputs": [
        {
          "output_type": "execute_result",
          "data": {
            "text/plain": [
              "(710, 5000)"
            ]
          },
          "metadata": {
            "tags": []
          },
          "execution_count": 56
        }
      ]
    },
    {
      "cell_type": "code",
      "metadata": {
        "id": "-fSXtFSdE67g",
        "colab_type": "code",
        "colab": {}
      },
      "source": [
        "from sklearn.naive_bayes import GaussianNB"
      ],
      "execution_count": 0,
      "outputs": []
    },
    {
      "cell_type": "markdown",
      "metadata": {
        "id": "Q5nlCuaaH0OD",
        "colab_type": "text"
      },
      "source": [
        "## 21. **Predicting the sentiment:**\n",
        "\n",
        "\n",
        "### Use Naive Bayes and Logistic Regression and their accuracy scores for predicting the sentiment of the given text"
      ]
    },
    {
      "cell_type": "code",
      "metadata": {
        "id": "2AbVYssaH0OE",
        "colab_type": "code",
        "outputId": "cda5872d-cdab-44fa-f3a2-efd81de2951d",
        "colab": {
          "base_uri": "https://localhost:8080/",
          "height": 34
        }
      },
      "source": [
        "nbModel = GaussianNB()\n",
        "nbModel.fit(X_train, y_train.values.ravel())"
      ],
      "execution_count": 0,
      "outputs": [
        {
          "output_type": "execute_result",
          "data": {
            "text/plain": [
              "GaussianNB(priors=None, var_smoothing=1e-09)"
            ]
          },
          "metadata": {
            "tags": []
          },
          "execution_count": 71
        }
      ]
    },
    {
      "cell_type": "code",
      "metadata": {
        "id": "ktXrLhmOH0Of",
        "colab_type": "code",
        "outputId": "e1544527-329f-45c9-e63e-5086c77a3ea2",
        "colab": {
          "base_uri": "https://localhost:8080/",
          "height": 578
        }
      },
      "source": [
        "y_predictTest=nbModel.predict(X_test)\n",
        "y_predictTest"
      ],
      "execution_count": 0,
      "outputs": [
        {
          "output_type": "execute_result",
          "data": {
            "text/plain": [
              "array([1, 1, 1, 1, 0, 0, 0, 1, 0, 1, 1, 1, 1, 0, 1, 1, 1, 0, 0, 1, 0, 1,\n",
              "       1, 0, 1, 1, 0, 0, 1, 1, 1, 1, 1, 0, 1, 1, 1, 1, 0, 1, 1, 1, 1, 1,\n",
              "       1, 0, 1, 1, 1, 1, 1, 1, 1, 1, 1, 1, 1, 1, 1, 0, 1, 0, 0, 0, 1, 1,\n",
              "       1, 0, 0, 1, 1, 1, 1, 1, 1, 1, 1, 1, 1, 1, 0, 0, 0, 1, 1, 1, 1, 0,\n",
              "       1, 0, 1, 1, 1, 1, 1, 1, 1, 1, 1, 1, 1, 1, 0, 0, 1, 1, 1, 1, 1, 0,\n",
              "       1, 0, 1, 1, 1, 0, 1, 0, 0, 0, 1, 1, 0, 1, 1, 1, 1, 1, 0, 1, 1, 1,\n",
              "       0, 1, 1, 1, 1, 1, 0, 1, 1, 1, 1, 1, 1, 1, 1, 1, 0, 1, 1, 0, 1, 1,\n",
              "       0, 1, 0, 1, 1, 0, 1, 0, 1, 1, 0, 1, 1, 1, 0, 1, 0, 1, 1, 0, 1, 0,\n",
              "       1, 1, 1, 0, 0, 0, 1, 1, 1, 1, 1, 1, 1, 0, 1, 1, 1, 1, 0, 1, 1, 1,\n",
              "       1, 1, 1, 1, 1, 0, 1, 0, 1, 1, 1, 1, 1, 1, 0, 1, 1, 1, 1, 1, 0, 0,\n",
              "       1, 1, 0, 1, 1, 1, 1, 1, 0, 1, 1, 1, 0, 1, 0, 0, 1, 1, 1, 1, 1, 1,\n",
              "       1, 1, 1, 1, 0, 1, 1, 1, 1, 1, 0, 0, 1, 1, 1, 1, 1, 1, 1, 1, 1, 1,\n",
              "       0, 0, 1, 0, 0, 0, 1, 1, 1, 1, 1, 0, 1, 1, 0, 1, 1, 0, 1, 0, 0, 1,\n",
              "       1, 1, 1, 1, 1, 1, 1, 0, 1, 1, 1, 1, 0, 0, 1, 1, 1, 0, 1, 1, 1, 1,\n",
              "       1, 1, 1, 0, 1, 1, 1, 1, 1, 1, 1, 1, 0, 1, 1, 1, 1, 0, 1, 1, 1, 1,\n",
              "       1, 1, 1, 0, 1, 1, 0, 0, 1, 1, 1, 1, 1, 1, 1, 1, 1, 1, 1, 1, 1, 1,\n",
              "       1, 1, 1, 1, 0, 1, 1, 1, 1, 1, 1, 0, 0, 0, 1, 0, 1, 1, 0, 1, 0, 0,\n",
              "       1, 0, 1, 1, 1, 1, 1, 0, 1, 1, 1, 1, 1, 1, 1, 1, 1, 1, 1, 1, 1, 1,\n",
              "       1, 1, 1, 1, 1, 1, 1, 1, 1, 1, 0, 1, 0, 0, 1, 0, 0, 1, 1, 1, 1, 1,\n",
              "       1, 1, 1, 1, 1, 1, 0, 1, 1, 1, 0, 0, 1, 1, 1, 1, 1, 1, 0, 0, 1, 1,\n",
              "       1, 1, 1, 1, 1, 1, 1, 1, 1, 1, 0, 0, 1, 1, 1, 0, 0, 1, 0, 1, 1, 1,\n",
              "       1, 1, 1, 1, 1, 1, 1, 1, 0, 1, 1, 0, 1, 0, 1, 1, 1, 1, 1, 1, 1, 1,\n",
              "       1, 1, 0, 0, 1, 0, 0, 1, 1, 1, 0, 1, 1, 1, 1, 0, 1, 1, 1, 1, 1, 1,\n",
              "       1, 0, 1, 1, 0, 0, 0, 1, 1, 1, 0, 1, 0, 1, 1, 1, 0, 0, 1, 1, 0, 1,\n",
              "       1, 1, 0, 1, 1, 1, 1, 0, 1, 0, 1, 1, 1, 0, 0, 1, 1, 0, 1, 1, 1, 1,\n",
              "       1, 1, 0, 1, 0, 1, 0, 1, 0, 1, 0, 1, 1, 0, 0, 1, 1, 1, 0, 0, 0, 0,\n",
              "       1, 1, 1, 1, 1, 1, 1, 1, 1, 0, 0, 1, 1, 1, 1, 1, 1, 1, 1, 1, 1, 0,\n",
              "       0, 0, 1, 1, 1, 1, 1, 1, 1, 1, 0, 1, 1, 1, 1, 0, 1, 0, 1, 1, 1, 1,\n",
              "       1, 1, 1, 0, 1, 1, 1, 0, 1, 0, 1, 0, 1, 1, 0, 1, 1, 1, 0, 0, 0, 1,\n",
              "       0, 0, 1, 1, 1, 0, 1, 1, 1, 0, 0, 0, 0, 1, 1, 1, 1, 1, 1, 0, 1, 1,\n",
              "       1, 0, 0, 1, 1, 0, 1, 0, 1, 1, 1, 1, 1, 1, 1, 1, 0, 1, 1, 1, 1, 1,\n",
              "       1, 1, 0, 1, 1, 1, 1, 1, 1, 1, 1, 0, 1, 0, 1, 1, 1, 0, 1, 0, 1, 1,\n",
              "       0, 1, 0, 1, 1, 1])"
            ]
          },
          "metadata": {
            "tags": []
          },
          "execution_count": 72
        }
      ]
    },
    {
      "cell_type": "code",
      "metadata": {
        "id": "clv2X0kKH0Ok",
        "colab_type": "code",
        "colab": {}
      },
      "source": [
        "import numpy as np\n",
        "temp_ds=np.where(nbModel.predict_proba(X_test)[:,1]> .35,1,0)"
      ],
      "execution_count": 0,
      "outputs": []
    },
    {
      "cell_type": "code",
      "metadata": {
        "id": "K86LRMfdH0Ou",
        "colab_type": "code",
        "outputId": "b9c2f017-249d-47d9-aa2b-30a5712b6aaa",
        "colab": {
          "base_uri": "https://localhost:8080/",
          "height": 34
        }
      },
      "source": [
        "from sklearn.metrics import accuracy_score,recall_score,confusion_matrix,precision_score,roc_curve,auc\n",
        "from sklearn import metrics\n",
        "\n",
        "recall_score(y_test,temp_ds,average=\"micro\")"
      ],
      "execution_count": 0,
      "outputs": [
        {
          "output_type": "execute_result",
          "data": {
            "text/plain": [
              "0.7591549295774648"
            ]
          },
          "metadata": {
            "tags": []
          },
          "execution_count": 74
        }
      ]
    },
    {
      "cell_type": "code",
      "metadata": {
        "id": "HdpTt926BLRf",
        "colab_type": "code",
        "outputId": "874a613f-d732-4aa0-dd59-78707a8e0471",
        "colab": {
          "base_uri": "https://localhost:8080/",
          "height": 34
        }
      },
      "source": [
        "precision_score(y_test,temp_ds,average=\"micro\")"
      ],
      "execution_count": 0,
      "outputs": [
        {
          "output_type": "execute_result",
          "data": {
            "text/plain": [
              "0.7591549295774648"
            ]
          },
          "metadata": {
            "tags": []
          },
          "execution_count": 75
        }
      ]
    },
    {
      "cell_type": "code",
      "metadata": {
        "id": "yKAh6jIIBZ_z",
        "colab_type": "code",
        "colab": {}
      },
      "source": [
        "from sklearn.linear_model import LogisticRegression"
      ],
      "execution_count": 0,
      "outputs": []
    },
    {
      "cell_type": "code",
      "metadata": {
        "id": "--ro1DilBaKT",
        "colab_type": "code",
        "outputId": "fe4adaa4-5a88-4499-aacd-3b0210c6cbe1",
        "colab": {
          "base_uri": "https://localhost:8080/",
          "height": 68
        }
      },
      "source": [
        "# Fit the model on 30%\n",
        "model_lr = LogisticRegression()\n",
        "model_lr.fit(X_train, y_train)\n",
        "y_predict = model_lr.predict(X_test)\n",
        "model_lr_score = model_lr.score(X_test, y_test)\n",
        "print(model_lr_score)\n",
        "\n",
        "\n",
        "# IMPORTANT: first argument is true values, second argument is predicted values\n",
        "# this produces a 2x2 numpy array (matrix)\n",
        "print(metrics.confusion_matrix(y_test, y_predict))"
      ],
      "execution_count": 0,
      "outputs": [
        {
          "output_type": "stream",
          "text": [
            "0.8492957746478873\n",
            "[[ 39  82]\n",
            " [ 25 564]]\n"
          ],
          "name": "stdout"
        }
      ]
    },
    {
      "cell_type": "markdown",
      "metadata": {
        "id": "sw-0B33tH0Ox",
        "colab_type": "text"
      },
      "source": [
        "## 22. Create a function called `tokenize_predict` which can take count vectorizer object as input and prints the accuracy for x (text) and y (labels)"
      ]
    },
    {
      "cell_type": "code",
      "metadata": {
        "id": "okCTOs1TH0Oy",
        "colab_type": "code",
        "colab": {}
      },
      "source": [
        "def tokenize_test(vect, X, y):\n",
        "    from sklearn.naive_bayes import MultinomialNB\n",
        "    x_train_dtm = vect.fit_transform(X)\n",
        "    #from sklearn.model_selection import train_test_split\n",
        "    X_train, X_test, y_train, y_test = train_test_split(x_train_dtm, y, test_size=.2, random_state=1)\n",
        "    print('Features: ', x_train_dtm.shape[1])\n",
        "    #x_test_dtm = vect.transform(X_test)\n",
        "    nb = MultinomialNB()\n",
        "    nb.fit(X_train, y_train)\n",
        "    y_pred_class = nb.predict(X_test)\n",
        "    print('Accuracy: ', metrics.accuracy_score(y_test, y_pred_class))"
      ],
      "execution_count": 0,
      "outputs": []
    },
    {
      "cell_type": "markdown",
      "metadata": {
        "id": "JxZ8jfPEH0O0",
        "colab_type": "text"
      },
      "source": [
        "### Create a count vectorizer function which includes n_grams = 1,2  and pass it to tokenize_predict function to print the accuracy score"
      ]
    },
    {
      "cell_type": "code",
      "metadata": {
        "id": "kdCyAN_IH0O0",
        "colab_type": "code",
        "outputId": "6f173260-0f70-458e-e94c-652e7a9f8fdb",
        "colab": {
          "base_uri": "https://localhost:8080/",
          "height": 51
        }
      },
      "source": [
        "v_ngram = CountVectorizer(analyzer = \"word\",   \\\n",
        "                             tokenizer = None,    \\\n",
        "                             preprocessor = None, \\\n",
        "                             stop_words = None,   \\\n",
        "                             ngram_range = (1,2), \\\n",
        "                             max_features = 5000) \n",
        "\n",
        "\n",
        "tokenize_test(v_ngram,t_df_filtered.text, y)"
      ],
      "execution_count": 0,
      "outputs": [
        {
          "output_type": "stream",
          "text": [
            "('Features: ', 5000)\n",
            "('Accuracy: ', 0.8140845070422535)\n"
          ],
          "name": "stdout"
        }
      ]
    },
    {
      "cell_type": "markdown",
      "metadata": {
        "id": "axepytmgH0O4",
        "colab_type": "text"
      },
      "source": [
        "### Create a count vectorizer function with stopwords = 'english'  and pass it to tokenize_predict function to print the accuracy score"
      ]
    },
    {
      "cell_type": "code",
      "metadata": {
        "id": "HToGkq7vH0O4",
        "colab_type": "code",
        "outputId": "f0723d00-b21c-4b14-9ed3-e53b29f9d670",
        "colab": {
          "base_uri": "https://localhost:8080/",
          "height": 51
        }
      },
      "source": [
        "v_ngram = CountVectorizer(analyzer = \"word\",   \\\n",
        "                             tokenizer = None,    \\\n",
        "                             preprocessor = None, \\\n",
        "                             stop_words = None,   \\\n",
        "                             ngram_range = (1,2), \\\n",
        "                             max_features = 5000) \n",
        "\n",
        "\n",
        "tokenize_test(v_ngram,t_df_filtered.text, y)"
      ],
      "execution_count": 0,
      "outputs": [
        {
          "output_type": "stream",
          "text": [
            "('Features: ', 5000)\n",
            "('Accuracy: ', 0.8140845070422535)\n"
          ],
          "name": "stdout"
        }
      ]
    },
    {
      "cell_type": "markdown",
      "metadata": {
        "id": "iOIlJRxoH0O7",
        "colab_type": "text"
      },
      "source": [
        "### Create a count vectorizer function with stopwords = 'english' and max_features =300  and pass it to tokenize_predict function to print the accuracy score"
      ]
    },
    {
      "cell_type": "code",
      "metadata": {
        "id": "6fUhff-oH0O8",
        "colab_type": "code",
        "outputId": "1ed335b9-b3ae-4f36-f487-76126159ad84",
        "colab": {
          "base_uri": "https://localhost:8080/",
          "height": 51
        }
      },
      "source": [
        "v_ngram = CountVectorizer(analyzer = \"word\",   \\\n",
        "                             tokenizer = None,    \\\n",
        "                             preprocessor = None, \\\n",
        "                             stop_words = 'english',   \\\n",
        "                             #ngram_range = (1,2), \\\n",
        "                             max_features = 300) \n",
        "\n",
        "\n",
        "tokenize_test(v_ngram,t_df_filtered.text, y)"
      ],
      "execution_count": 0,
      "outputs": [
        {
          "output_type": "stream",
          "text": [
            "('Features: ', 300)\n",
            "('Accuracy: ', 0.8042253521126761)\n"
          ],
          "name": "stdout"
        }
      ]
    },
    {
      "cell_type": "markdown",
      "metadata": {
        "id": "S2KZNWVkH0PA",
        "colab_type": "text"
      },
      "source": [
        "### Create a count vectorizer function with n_grams = 1,2  and max_features = 15000  and pass it to tokenize_predict function to print the accuracy score"
      ]
    },
    {
      "cell_type": "code",
      "metadata": {
        "id": "3v9XD082H0PB",
        "colab_type": "code",
        "outputId": "4f4b2ddf-9a3c-4cc1-fa44-8f5f12647a8d",
        "colab": {
          "base_uri": "https://localhost:8080/",
          "height": 51
        }
      },
      "source": [
        "v_ngram = CountVectorizer(analyzer = \"word\",   \\\n",
        "                             tokenizer = None,    \\\n",
        "                             preprocessor = None, \\\n",
        "                             stop_words = None,   \\\n",
        "                             ngram_range = (1,2), \\\n",
        "                             max_features = 15000) \n",
        "\n",
        "\n",
        "tokenize_test(v_ngram,t_df_filtered.text, y)"
      ],
      "execution_count": 0,
      "outputs": [
        {
          "output_type": "stream",
          "text": [
            "('Features: ', 15000)\n",
            "('Accuracy: ', 0.852112676056338)\n"
          ],
          "name": "stdout"
        }
      ]
    },
    {
      "cell_type": "markdown",
      "metadata": {
        "id": "We3JK_SRH0PO",
        "colab_type": "text"
      },
      "source": [
        "### Create a count vectorizer function with n_grams = 1,2  and include terms that appear at least 2 times (min_df = 2)  and pass it to tokenize_predict function to print the accuracy score"
      ]
    },
    {
      "cell_type": "code",
      "metadata": {
        "id": "fUHrfDCyH0PP",
        "colab_type": "code",
        "outputId": "62bbd5ea-3123-4c15-acb5-5e74821b7de7",
        "colab": {
          "base_uri": "https://localhost:8080/",
          "height": 51
        }
      },
      "source": [
        "v_ngram = CountVectorizer(analyzer = \"word\",   \\\n",
        "                             tokenizer = None,    \\\n",
        "                             preprocessor = None, \\\n",
        "                             stop_words = None,   \\\n",
        "                             ngram_range = (1,2), \\\n",
        "                             min_df=2, \\\n",
        "                             max_features = 15000) \n",
        "\n",
        "\n",
        "tokenize_test(v_ngram,t_df_filtered.text, y)"
      ],
      "execution_count": 0,
      "outputs": [
        {
          "output_type": "stream",
          "text": [
            "('Features: ', 11012)\n",
            "('Accuracy: ', 0.8394366197183099)\n"
          ],
          "name": "stdout"
        }
      ]
    },
    {
      "cell_type": "code",
      "metadata": {
        "id": "3H4k_lVZH0PS",
        "colab_type": "code",
        "colab": {}
      },
      "source": [
        ""
      ],
      "execution_count": 0,
      "outputs": []
    }
  ]
}