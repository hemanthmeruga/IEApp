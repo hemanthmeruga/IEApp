{
 "cells": [
  {
   "cell_type": "code",
   "execution_count": 1,
   "metadata": {},
   "outputs": [],
   "source": [
    "import pandas as pd\n",
    "from scipy.stats import shapiro\n",
    "from scipy.stats import ttest_rel\n",
    "import scipy.stats\n",
    "from math import sqrt"
   ]
  },
  {
   "cell_type": "markdown",
   "metadata": {},
   "source": [
    "Read Dataset and find the mean"
   ]
  },
  {
   "cell_type": "code",
   "execution_count": 2,
   "metadata": {},
   "outputs": [
    {
     "name": "stdout",
     "output_type": "stream",
     "text": [
      "68.03333333333333 72.03333333333333\n"
     ]
    }
   ],
   "source": [
    "read_data = pd.read_excel('Statistics.xls')\n",
    "read_data_col = list(read_data.columns.values)\n",
    "print(read_data[read_data_col[1]].mean(), read_data[read_data_col[2]].mean())"
   ]
  },
  {
   "cell_type": "code",
   "execution_count": 3,
   "metadata": {},
   "outputs": [],
   "source": [
    " # five percentage signifiance\n",
    "alpha = 0.05"
   ]
  },
  {
   "cell_type": "code",
   "execution_count": 4,
   "metadata": {},
   "outputs": [
    {
     "name": "stdout",
     "output_type": "stream",
     "text": [
      "0.08894704282283783\n",
      "Ttest_relResult(statistic=1.5559143823544377, pvalue=0.13057553961337662)\n",
      "Null Hypothesis is Accepted: reject Alternative hypothesis, result is insignificant\n"
     ]
    }
   ],
   "source": [
    "## Test for Normality: P-Value\n",
    "# Null Hypothesis is the Statco, H0\n",
    "read_data.diff =   read_data[read_data_col[2]] - read_data[read_data_col[1]]\n",
    "stat , p = shapiro(read_data.diff)\n",
    "print(p)\n",
    "# Two Sample Test\n",
    "two_sample = ttest_rel(read_data[read_data_col[2]],read_data[read_data_col[1]])\n",
    "print(two_sample)\n",
    "\n",
    "if two_sample.pvalue  < alpha :\n",
    "    print('Null Hypothesis is Rejected: result is statistically significant')\n",
    "else :\n",
    "    print('Null Hypothesis is Accepted: reject Alternative hypothesis, result is insignificant')"
   ]
  },
  {
   "cell_type": "code",
   "execution_count": 5,
   "metadata": {},
   "outputs": [],
   "source": [
    "# The probability of a type 1 error\n",
    "# What is the p- value of the hypothesis test if we test for a difference of $5000?\n",
    "# Power of the test"
   ]
  },
  {
   "cell_type": "code",
   "execution_count": 6,
   "metadata": {},
   "outputs": [
    {
     "name": "stdout",
     "output_type": "stream",
     "text": [
      "Ttest_relResult(statistic=3.500807360297485, pvalue=0.0015212146316676064)\n"
     ]
    }
   ],
   "source": [
    "read_data[read_data_col[2]] = read_data[read_data_col[2]] + 5\n",
    "two_sample = ttest_rel(read_data[read_data_col[2]], read_data[read_data_col[1]])\n",
    "print(two_sample)"
   ]
  },
  {
   "cell_type": "code",
   "execution_count": null,
   "metadata": {},
   "outputs": [],
   "source": []
  }
 ],
 "metadata": {
  "kernelspec": {
   "display_name": "Python 3",
   "language": "python",
   "name": "python3"
  },
  "language_info": {
   "codemirror_mode": {
    "name": "ipython",
    "version": 3
   },
   "file_extension": ".py",
   "mimetype": "text/x-python",
   "name": "python",
   "nbconvert_exporter": "python",
   "pygments_lexer": "ipython3",
   "version": "3.7.0"
  }
 },
 "nbformat": 4,
 "nbformat_minor": 2
}
